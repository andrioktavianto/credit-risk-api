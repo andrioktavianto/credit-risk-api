{
 "cells": [
  {
   "cell_type": "code",
   "execution_count": 1,
   "id": "aeb43de1",
   "metadata": {},
   "outputs": [],
   "source": [
    "import numpy as np\n",
    "import pandas as pd\n",
    "import matplotlib.pyplot as plt\n",
    "from math import log, ceil \n",
    "import seaborn as sns\n",
    "\n",
    "from sklearn.base import BaseEstimator, TransformerMixin\n",
    "\n",
    "from sklearn.preprocessing import OneHotEncoder\n",
    "\n",
    "from sklearn.model_selection import train_test_split, GridSearchCV\n",
    "from sklearn.linear_model import LogisticRegression\n",
    "\n",
    "from custom_transformer import cat_woe_feature, num_woe_feature\n",
    "import joblib\n",
    "\n",
    "import warnings\n",
    "warnings.filterwarnings('ignore')"
   ]
  },
  {
   "cell_type": "markdown",
   "id": "f6fef89f",
   "metadata": {},
   "source": [
    "# Load Data"
   ]
  },
  {
   "cell_type": "code",
   "execution_count": 2,
   "id": "a194cf2f",
   "metadata": {},
   "outputs": [
    {
     "data": {
      "text/html": [
       "<div>\n",
       "<style scoped>\n",
       "    .dataframe tbody tr th:only-of-type {\n",
       "        vertical-align: middle;\n",
       "    }\n",
       "\n",
       "    .dataframe tbody tr th {\n",
       "        vertical-align: top;\n",
       "    }\n",
       "\n",
       "    .dataframe thead th {\n",
       "        text-align: right;\n",
       "    }\n",
       "</style>\n",
       "<table border=\"1\" class=\"dataframe\">\n",
       "  <thead>\n",
       "    <tr style=\"text-align: right;\">\n",
       "      <th></th>\n",
       "      <th>person_age</th>\n",
       "      <th>person_income</th>\n",
       "      <th>person_home_ownership</th>\n",
       "      <th>person_emp_length</th>\n",
       "      <th>loan_intent</th>\n",
       "      <th>loan_grade</th>\n",
       "      <th>loan_amnt</th>\n",
       "      <th>loan_int_rate</th>\n",
       "      <th>loan_status</th>\n",
       "      <th>loan_percent_income</th>\n",
       "      <th>cb_person_default_on_file</th>\n",
       "      <th>cb_person_cred_hist_length</th>\n",
       "    </tr>\n",
       "  </thead>\n",
       "  <tbody>\n",
       "    <tr>\n",
       "      <th>0</th>\n",
       "      <td>22</td>\n",
       "      <td>59000</td>\n",
       "      <td>RENT</td>\n",
       "      <td>123.0</td>\n",
       "      <td>PERSONAL</td>\n",
       "      <td>D</td>\n",
       "      <td>35000</td>\n",
       "      <td>16.02</td>\n",
       "      <td>1</td>\n",
       "      <td>0.59</td>\n",
       "      <td>Y</td>\n",
       "      <td>3</td>\n",
       "    </tr>\n",
       "    <tr>\n",
       "      <th>1</th>\n",
       "      <td>21</td>\n",
       "      <td>9600</td>\n",
       "      <td>OWN</td>\n",
       "      <td>5.0</td>\n",
       "      <td>EDUCATION</td>\n",
       "      <td>B</td>\n",
       "      <td>1000</td>\n",
       "      <td>11.14</td>\n",
       "      <td>0</td>\n",
       "      <td>0.10</td>\n",
       "      <td>N</td>\n",
       "      <td>2</td>\n",
       "    </tr>\n",
       "    <tr>\n",
       "      <th>2</th>\n",
       "      <td>25</td>\n",
       "      <td>9600</td>\n",
       "      <td>MORTGAGE</td>\n",
       "      <td>1.0</td>\n",
       "      <td>MEDICAL</td>\n",
       "      <td>C</td>\n",
       "      <td>5500</td>\n",
       "      <td>12.87</td>\n",
       "      <td>1</td>\n",
       "      <td>0.57</td>\n",
       "      <td>N</td>\n",
       "      <td>3</td>\n",
       "    </tr>\n",
       "    <tr>\n",
       "      <th>3</th>\n",
       "      <td>23</td>\n",
       "      <td>65500</td>\n",
       "      <td>RENT</td>\n",
       "      <td>4.0</td>\n",
       "      <td>MEDICAL</td>\n",
       "      <td>C</td>\n",
       "      <td>35000</td>\n",
       "      <td>15.23</td>\n",
       "      <td>1</td>\n",
       "      <td>0.53</td>\n",
       "      <td>N</td>\n",
       "      <td>2</td>\n",
       "    </tr>\n",
       "    <tr>\n",
       "      <th>4</th>\n",
       "      <td>24</td>\n",
       "      <td>54400</td>\n",
       "      <td>RENT</td>\n",
       "      <td>8.0</td>\n",
       "      <td>MEDICAL</td>\n",
       "      <td>C</td>\n",
       "      <td>35000</td>\n",
       "      <td>14.27</td>\n",
       "      <td>1</td>\n",
       "      <td>0.55</td>\n",
       "      <td>Y</td>\n",
       "      <td>4</td>\n",
       "    </tr>\n",
       "  </tbody>\n",
       "</table>\n",
       "</div>"
      ],
      "text/plain": [
       "   person_age  person_income person_home_ownership  person_emp_length  \\\n",
       "0          22          59000                  RENT              123.0   \n",
       "1          21           9600                   OWN                5.0   \n",
       "2          25           9600              MORTGAGE                1.0   \n",
       "3          23          65500                  RENT                4.0   \n",
       "4          24          54400                  RENT                8.0   \n",
       "\n",
       "  loan_intent loan_grade  loan_amnt  loan_int_rate  loan_status  \\\n",
       "0    PERSONAL          D      35000          16.02            1   \n",
       "1   EDUCATION          B       1000          11.14            0   \n",
       "2     MEDICAL          C       5500          12.87            1   \n",
       "3     MEDICAL          C      35000          15.23            1   \n",
       "4     MEDICAL          C      35000          14.27            1   \n",
       "\n",
       "   loan_percent_income cb_person_default_on_file  cb_person_cred_hist_length  \n",
       "0                 0.59                         Y                           3  \n",
       "1                 0.10                         N                           2  \n",
       "2                 0.57                         N                           3  \n",
       "3                 0.53                         N                           2  \n",
       "4                 0.55                         Y                           4  "
      ]
     },
     "execution_count": 2,
     "metadata": {},
     "output_type": "execute_result"
    }
   ],
   "source": [
    "pd.set_option('display.max_columns', None)\n",
    "pd.set_option('display.max_rows', None)\n",
    "\n",
    "df = pd.read_csv('credit_risk_dataset.csv')\n",
    "df.head()"
   ]
  },
  {
   "cell_type": "code",
   "execution_count": 3,
   "id": "d29b0a0f",
   "metadata": {},
   "outputs": [
    {
     "name": "stdout",
     "output_type": "stream",
     "text": [
      "Number of rows: 32581\n",
      "Number of columns: 12\n"
     ]
    }
   ],
   "source": [
    "print('Number of rows:', df.shape[0])\n",
    "print('Number of columns:', df.shape[1])"
   ]
  },
  {
   "cell_type": "markdown",
   "id": "a7129cc9",
   "metadata": {},
   "source": [
    "## Drop Duplicates"
   ]
  },
  {
   "cell_type": "code",
   "execution_count": 4,
   "id": "800d2566",
   "metadata": {},
   "outputs": [
    {
     "data": {
      "text/plain": [
       "165"
      ]
     },
     "execution_count": 4,
     "metadata": {},
     "output_type": "execute_result"
    }
   ],
   "source": [
    "df.duplicated().sum()"
   ]
  },
  {
   "cell_type": "code",
   "execution_count": 5,
   "id": "6d0ff1d6",
   "metadata": {},
   "outputs": [],
   "source": [
    "df.drop_duplicates(keep='last', inplace=True)"
   ]
  },
  {
   "cell_type": "markdown",
   "id": "413cf23a",
   "metadata": {},
   "source": [
    "## Check Missing Value"
   ]
  },
  {
   "cell_type": "code",
   "execution_count": 6,
   "id": "e6d30644",
   "metadata": {},
   "outputs": [
    {
     "data": {
      "text/plain": [
       "person_emp_length    2.736303\n",
       "loan_int_rate        9.547754\n",
       "dtype: float64"
      ]
     },
     "execution_count": 6,
     "metadata": {},
     "output_type": "execute_result"
    }
   ],
   "source": [
    "# Nan Percentage by Column\n",
    "list_column_nan = df[df.columns[df.isnull().any()]].isnull().sum() * 100 / df.shape[0]\n",
    "list_column_nan"
   ]
  },
  {
   "cell_type": "markdown",
   "id": "5820a1fa",
   "metadata": {},
   "source": [
    "There are missing values, but it's okay since we will use WoE"
   ]
  },
  {
   "cell_type": "markdown",
   "id": "ddab13ca",
   "metadata": {},
   "source": [
    "## Slice categorical and numerical column"
   ]
  },
  {
   "cell_type": "code",
   "execution_count": 7,
   "id": "844df939",
   "metadata": {},
   "outputs": [],
   "source": [
    "X = df.drop(columns='loan_status').copy()\n",
    "y = df['loan_status'].copy()"
   ]
  },
  {
   "cell_type": "code",
   "execution_count": 8,
   "id": "5fbc7c21",
   "metadata": {},
   "outputs": [
    {
     "name": "stdout",
     "output_type": "stream",
     "text": [
      "Total numerical columns : 7\n",
      "Total categorical columns : 4\n"
     ]
    }
   ],
   "source": [
    "target = 'loan_status'\n",
    "\n",
    "num_columns = X.select_dtypes(include='number').columns.tolist()\n",
    "cat_columns = X.select_dtypes(include='object').columns.tolist()\n",
    "\n",
    "print(\"Total numerical columns :\", len(num_columns))\n",
    "print(\"Total categorical columns :\", len(cat_columns))"
   ]
  },
  {
   "cell_type": "markdown",
   "id": "1239ac33",
   "metadata": {},
   "source": [
    "## Check Outlier"
   ]
  },
  {
   "cell_type": "code",
   "execution_count": 9,
   "id": "a33bd86d",
   "metadata": {},
   "outputs": [
    {
     "data": {
      "text/html": [
       "<div>\n",
       "<style scoped>\n",
       "    .dataframe tbody tr th:only-of-type {\n",
       "        vertical-align: middle;\n",
       "    }\n",
       "\n",
       "    .dataframe tbody tr th {\n",
       "        vertical-align: top;\n",
       "    }\n",
       "\n",
       "    .dataframe thead th {\n",
       "        text-align: right;\n",
       "    }\n",
       "</style>\n",
       "<table border=\"1\" class=\"dataframe\">\n",
       "  <thead>\n",
       "    <tr style=\"text-align: right;\">\n",
       "      <th></th>\n",
       "      <th>person_age</th>\n",
       "      <th>person_income</th>\n",
       "      <th>person_emp_length</th>\n",
       "      <th>loan_amnt</th>\n",
       "      <th>loan_int_rate</th>\n",
       "      <th>loan_percent_income</th>\n",
       "      <th>cb_person_cred_hist_length</th>\n",
       "    </tr>\n",
       "  </thead>\n",
       "  <tbody>\n",
       "    <tr>\n",
       "      <th>count</th>\n",
       "      <td>32416.00</td>\n",
       "      <td>32416.00</td>\n",
       "      <td>31529.00</td>\n",
       "      <td>32416.00</td>\n",
       "      <td>29321.00</td>\n",
       "      <td>32416.00</td>\n",
       "      <td>32416.00</td>\n",
       "    </tr>\n",
       "    <tr>\n",
       "      <th>mean</th>\n",
       "      <td>27.75</td>\n",
       "      <td>66091.64</td>\n",
       "      <td>4.79</td>\n",
       "      <td>9593.85</td>\n",
       "      <td>11.02</td>\n",
       "      <td>0.17</td>\n",
       "      <td>5.81</td>\n",
       "    </tr>\n",
       "    <tr>\n",
       "      <th>std</th>\n",
       "      <td>6.35</td>\n",
       "      <td>62015.58</td>\n",
       "      <td>4.15</td>\n",
       "      <td>6322.73</td>\n",
       "      <td>3.24</td>\n",
       "      <td>0.11</td>\n",
       "      <td>4.06</td>\n",
       "    </tr>\n",
       "    <tr>\n",
       "      <th>min</th>\n",
       "      <td>20.00</td>\n",
       "      <td>4000.00</td>\n",
       "      <td>0.00</td>\n",
       "      <td>500.00</td>\n",
       "      <td>5.42</td>\n",
       "      <td>0.00</td>\n",
       "      <td>2.00</td>\n",
       "    </tr>\n",
       "    <tr>\n",
       "      <th>25%</th>\n",
       "      <td>23.00</td>\n",
       "      <td>38542.00</td>\n",
       "      <td>2.00</td>\n",
       "      <td>5000.00</td>\n",
       "      <td>7.90</td>\n",
       "      <td>0.09</td>\n",
       "      <td>3.00</td>\n",
       "    </tr>\n",
       "    <tr>\n",
       "      <th>50%</th>\n",
       "      <td>26.00</td>\n",
       "      <td>55000.00</td>\n",
       "      <td>4.00</td>\n",
       "      <td>8000.00</td>\n",
       "      <td>10.99</td>\n",
       "      <td>0.15</td>\n",
       "      <td>4.00</td>\n",
       "    </tr>\n",
       "    <tr>\n",
       "      <th>75%</th>\n",
       "      <td>30.00</td>\n",
       "      <td>79218.00</td>\n",
       "      <td>7.00</td>\n",
       "      <td>12250.00</td>\n",
       "      <td>13.47</td>\n",
       "      <td>0.23</td>\n",
       "      <td>8.00</td>\n",
       "    </tr>\n",
       "    <tr>\n",
       "      <th>max</th>\n",
       "      <td>144.00</td>\n",
       "      <td>6000000.00</td>\n",
       "      <td>123.00</td>\n",
       "      <td>35000.00</td>\n",
       "      <td>23.22</td>\n",
       "      <td>0.83</td>\n",
       "      <td>30.00</td>\n",
       "    </tr>\n",
       "  </tbody>\n",
       "</table>\n",
       "</div>"
      ],
      "text/plain": [
       "      person_age person_income person_emp_length loan_amnt loan_int_rate  \\\n",
       "count   32416.00      32416.00          31529.00  32416.00      29321.00   \n",
       "mean       27.75      66091.64              4.79   9593.85         11.02   \n",
       "std         6.35      62015.58              4.15   6322.73          3.24   \n",
       "min        20.00       4000.00              0.00    500.00          5.42   \n",
       "25%        23.00      38542.00              2.00   5000.00          7.90   \n",
       "50%        26.00      55000.00              4.00   8000.00         10.99   \n",
       "75%        30.00      79218.00              7.00  12250.00         13.47   \n",
       "max       144.00    6000000.00            123.00  35000.00         23.22   \n",
       "\n",
       "      loan_percent_income cb_person_cred_hist_length  \n",
       "count            32416.00                   32416.00  \n",
       "mean                 0.17                       5.81  \n",
       "std                  0.11                       4.06  \n",
       "min                  0.00                       2.00  \n",
       "25%                  0.09                       3.00  \n",
       "50%                  0.15                       4.00  \n",
       "75%                  0.23                       8.00  \n",
       "max                  0.83                      30.00  "
      ]
     },
     "execution_count": 9,
     "metadata": {},
     "output_type": "execute_result"
    }
   ],
   "source": [
    "pd.options.display.max_rows = 1000\n",
    "X.describe(include='number').transpose().apply(lambda s: s.apply('{0:.2f}'.format)).T"
   ]
  },
  {
   "cell_type": "markdown",
   "id": "bc2f8909",
   "metadata": {},
   "source": [
    "There's outlier in the data, again it's okay since we will use WoE"
   ]
  },
  {
   "cell_type": "code",
   "execution_count": 10,
   "id": "bed5b941",
   "metadata": {},
   "outputs": [
    {
     "data": {
      "text/html": [
       "<div>\n",
       "<style scoped>\n",
       "    .dataframe tbody tr th:only-of-type {\n",
       "        vertical-align: middle;\n",
       "    }\n",
       "\n",
       "    .dataframe tbody tr th {\n",
       "        vertical-align: top;\n",
       "    }\n",
       "\n",
       "    .dataframe thead th {\n",
       "        text-align: right;\n",
       "    }\n",
       "</style>\n",
       "<table border=\"1\" class=\"dataframe\">\n",
       "  <thead>\n",
       "    <tr style=\"text-align: right;\">\n",
       "      <th></th>\n",
       "      <th>person_home_ownership</th>\n",
       "      <th>loan_intent</th>\n",
       "      <th>loan_grade</th>\n",
       "      <th>cb_person_default_on_file</th>\n",
       "    </tr>\n",
       "  </thead>\n",
       "  <tbody>\n",
       "    <tr>\n",
       "      <th>count</th>\n",
       "      <td>32416</td>\n",
       "      <td>32416</td>\n",
       "      <td>32416</td>\n",
       "      <td>32416</td>\n",
       "    </tr>\n",
       "    <tr>\n",
       "      <th>unique</th>\n",
       "      <td>4</td>\n",
       "      <td>6</td>\n",
       "      <td>7</td>\n",
       "      <td>2</td>\n",
       "    </tr>\n",
       "    <tr>\n",
       "      <th>top</th>\n",
       "      <td>RENT</td>\n",
       "      <td>EDUCATION</td>\n",
       "      <td>A</td>\n",
       "      <td>N</td>\n",
       "    </tr>\n",
       "    <tr>\n",
       "      <th>freq</th>\n",
       "      <td>16378</td>\n",
       "      <td>6411</td>\n",
       "      <td>10703</td>\n",
       "      <td>26686</td>\n",
       "    </tr>\n",
       "  </tbody>\n",
       "</table>\n",
       "</div>"
      ],
      "text/plain": [
       "       person_home_ownership loan_intent loan_grade cb_person_default_on_file\n",
       "count                  32416       32416      32416                     32416\n",
       "unique                     4           6          7                         2\n",
       "top                     RENT   EDUCATION          A                         N\n",
       "freq                   16378        6411      10703                     26686"
      ]
     },
     "execution_count": 10,
     "metadata": {},
     "output_type": "execute_result"
    }
   ],
   "source": [
    "pd.options.display.max_rows = 1000\n",
    "X.describe(include='object')"
   ]
  },
  {
   "cell_type": "markdown",
   "id": "d1ffbc46",
   "metadata": {},
   "source": [
    "## Check distribution for each class"
   ]
  },
  {
   "cell_type": "code",
   "execution_count": 11,
   "id": "bae33ae1",
   "metadata": {},
   "outputs": [
    {
     "data": {
      "image/png": "[encoded data removed]",
      "text/plain": [
       "<Figure size 432x216 with 2 Axes>"
      ]
     },
     "metadata": {
      "needs_background": "light"
     },
     "output_type": "display_data"
    },
    {
     "data": {
      "image/png": "[encoded data removed]",
      "text/plain": [
       "<Figure size 432x216 with 2 Axes>"
      ]
     },
     "metadata": {
      "needs_background": "light"
     },
     "output_type": "display_data"
    },
    {
     "data": {
      "image/png": "[encoded data removed]",
      "text/plain": [
       "<Figure size 432x216 with 2 Axes>"
      ]
     },
     "metadata": {
      "needs_background": "light"
     },
     "output_type": "display_data"
    },
    {
     "data": {
      "image/png": "[encoded data removed]",
      "text/plain": [
       "<Figure size 432x216 with 2 Axes>"
      ]
     },
     "metadata": {
      "needs_background": "light"
     },
     "output_type": "display_data"
    },
    {
     "data": {
      "image/png": "[encoded data removed]",
      "text/plain": [
       "<Figure size 432x216 with 2 Axes>"
      ]
     },
     "metadata": {
      "needs_background": "light"
     },
     "output_type": "display_data"
    },
    {
     "data": {
      "image/png": "[encoded data removed]",
      "text/plain": [
       "<Figure size 432x216 with 2 Axes>"
      ]
     },
     "metadata": {
      "needs_background": "light"
     },
     "output_type": "display_data"
    },
    {
     "data": {
      "image/png": "[encoded data removed]",
      "text/plain": [
       "<Figure size 432x216 with 2 Axes>"
      ]
     },
     "metadata": {
      "needs_background": "light"
     },
     "output_type": "display_data"
    }
   ],
   "source": [
    "for i in num_columns:\n",
    "    g = sns.FacetGrid(df[df[target].notnull()], col=target)\n",
    "    g.map(plt.hist, i, bins=20)"
   ]
  },
  {
   "cell_type": "markdown",
   "id": "de0aab58",
   "metadata": {},
   "source": [
    "# Data Splitting"
   ]
  },
  {
   "cell_type": "code",
   "execution_count": 12,
   "id": "975523b6",
   "metadata": {},
   "outputs": [
    {
     "name": "stdout",
     "output_type": "stream",
     "text": [
      "Number of train data: 22691\n",
      "Number of test data: 11\n"
     ]
    }
   ],
   "source": [
    "SEED = 42\n",
    "\n",
    "X_train, X_test, y_train, y_test = train_test_split(X, y, test_size=0.3, random_state=SEED)\n",
    "\n",
    "print('Number of train data:', X_train.shape[0])\n",
    "print('Number of test data:', X_test.shape[1])"
   ]
  },
  {
   "cell_type": "markdown",
   "id": "6f6393f2",
   "metadata": {},
   "source": [
    "# ROC AUC function"
   ]
  },
  {
   "cell_type": "code",
   "execution_count": 13,
   "id": "4d800f22",
   "metadata": {},
   "outputs": [],
   "source": [
    "# https://stackoverflow.com/questions/28719067/roc-curve-and-cut-off-point-python\n",
    "def get_optimal_cutoff(tpr, fpr, thresholds):\n",
    "    i = np.arange(len(tpr)) # index for df\n",
    "    roc = pd.DataFrame({\n",
    "        'fpr' : pd.Series(fpr, index=i),\n",
    "        'tpr' : pd.Series(tpr, index = i), \n",
    "        '1-fpr' : pd.Series(1-fpr, index = i), \n",
    "        'tf' : pd.Series(tpr - (1-fpr), index = i), \n",
    "        'thresholds' : pd.Series(thresholds, index = i)})\n",
    "    \n",
    "    print(roc.iloc[[(roc.tf-0).abs().argmin()]])\n",
    "\n",
    "    # Plot tpr vs 1-fpr\n",
    "    fig, ax = plt.subplots()\n",
    "    _ = plt.plot(roc['tpr'])\n",
    "    _ = plt.plot(roc['1-fpr'], color = 'red')\n",
    "    _ = plt.xlabel('1-False Positive Rate')\n",
    "    _ = plt.ylabel('True Positive Rate')\n",
    "    _ = plt.title('Receiver operating characteristic')\n",
    "    _ = ax.set_xticklabels([])\n",
    "    \n",
    "    \n",
    "def plot_roc_auc(tpr, fpr, labels):\n",
    "    \n",
    "    if (isinstance(tpr, (list, np.array)) and isinstance(fpr, (list, np.array))):\n",
    "        \n",
    "        nlist = len(tpr)\n",
    "        \n",
    "        if all(len(val) == nlist for val in [tpr, fpr, labels]):\n",
    "            pass\n",
    "        else:\n",
    "            raise ValueError('length of parameter should be the same')\n",
    "               \n",
    "        fig, ax = plt.subplots(figsize=(8, 6.5))\n",
    "        _ = sns.despine(ax=ax)\n",
    "        _ = ax.plot([0, 1], [0, 1], color='navy', linestyle='--')\n",
    "        _ = ax.set_xlim([0.0, 1.0])\n",
    "        _ = ax.set_ylim([0.0, 1.05])\n",
    "        _ = ax.set_xlabel('False Positive Rate')\n",
    "        _ = ax.set_ylabel('True Positive Rate')\n",
    "        _ = ax.set_title('Receiver operating characteristic example')\n",
    "        \n",
    "        for i in range(nlist):\n",
    "        \n",
    "            roc_auc = auc(fpr[i], tpr[i])\n",
    "            _ = ax.plot(\n",
    "                fpr[i], \n",
    "                tpr[i], \n",
    "                label=f'ROC curve {labels[i]} (area = {roc_auc: 0.2f}'\n",
    "            )\n",
    "        \n",
    "        _ = fig.legend(loc=\"right\")\n",
    "        \n",
    "    else:\n",
    "        roc_auc = auc(fpr, tpr)\n",
    "        \n",
    "        fig, ax = plt.subplots(figsize=(8, 6.5))\n",
    "        _ = sns.despine(ax=ax)\n",
    "        _ = ax.plot([0, 1], [0, 1], color='navy', linestyle='--')\n",
    "        _ = ax.set_xlim([0.0, 1.0])\n",
    "        _ = ax.set_ylim([0.0, 1.05])\n",
    "        _ = ax.set_xlabel('False Positive Rate')\n",
    "        _ = ax.set_ylabel('True Positive Rate')\n",
    "        _ = ax.set_title('Receiver operating characteristic example')\n",
    "        _ = ax.plot(\n",
    "            fpr, \n",
    "            tpr, \n",
    "            label=f'ROC curve {labels} (area = {roc_auc: 0.2f}'\n",
    "        )\n",
    "        \n",
    "    _ = fig.legend(loc=\"right\")"
   ]
  },
  {
   "cell_type": "markdown",
   "id": "647f63a8",
   "metadata": {},
   "source": [
    "# Pipeline"
   ]
  },
  {
   "cell_type": "code",
   "execution_count": 14,
   "id": "6ae36e5f",
   "metadata": {},
   "outputs": [],
   "source": [
    "from sklearn.compose import ColumnTransformer\n",
    "from sklearn.pipeline import Pipeline\n",
    "\n",
    "cat_pipe = Pipeline(steps=[\n",
    "    ('woe_cat', cat_woe_feature()),\n",
    "    ('ohe', OneHotEncoder(drop=\"first\"))\n",
    "])\n",
    "\n",
    "num_pipe = Pipeline(steps=[\n",
    "    ('woe_num', num_woe_feature())\n",
    "])\n",
    "\n",
    "preprocess = ColumnTransformer(transformers=[\n",
    "    ('cat', cat_pipe, cat_columns),\n",
    "    ('num', num_pipe, num_columns)\n",
    "], remainder='passthrough')\n",
    "\n",
    "full_pipe = Pipeline(steps=[\n",
    "    ('preprocess', preprocess),\n",
    "    ('model', LogisticRegression(random_state=SEED, max_iter=1000))\n",
    "])"
   ]
  },
  {
   "cell_type": "code",
   "execution_count": 15,
   "id": "c60b1845",
   "metadata": {},
   "outputs": [
    {
     "data": {
      "text/plain": [
       "Pipeline(steps=[('preprocess',\n",
       "                 ColumnTransformer(remainder='passthrough',\n",
       "                                   transformers=[('cat',\n",
       "                                                  Pipeline(steps=[('woe_cat',\n",
       "                                                                   cat_woe_feature()),\n",
       "                                                                  ('ohe',\n",
       "                                                                   OneHotEncoder(drop='first'))]),\n",
       "                                                  ['person_home_ownership',\n",
       "                                                   'loan_intent', 'loan_grade',\n",
       "                                                   'cb_person_default_on_file']),\n",
       "                                                 ('num',\n",
       "                                                  Pipeline(steps=[('woe_num',\n",
       "                                                                   num_woe_feature())]),\n",
       "                                                  ['person_age',\n",
       "                                                   'person_income',\n",
       "                                                   'person_emp_length',\n",
       "                                                   'loan_amnt', 'loan_int_rate',\n",
       "                                                   'loan_percent_income',\n",
       "                                                   'cb_person_cred_hist_length'])])),\n",
       "                ('model', LogisticRegression(max_iter=1000, random_state=42))])"
      ]
     },
     "execution_count": 15,
     "metadata": {},
     "output_type": "execute_result"
    }
   ],
   "source": [
    "full_pipe.fit(X_train, y_train)"
   ]
  },
  {
   "cell_type": "code",
   "execution_count": 16,
   "id": "8cb92970",
   "metadata": {},
   "outputs": [
    {
     "name": "stdout",
     "output_type": "stream",
     "text": [
      "ROC-AUC TRAIN 0.8894574637378256\n",
      "ROC-AUC TEST 0.8953273603702918\n"
     ]
    }
   ],
   "source": [
    "from sklearn.metrics import roc_curve, auc, roc_auc_score, classification_report\n",
    "\n",
    "yhat_train = full_pipe.predict_proba(X_train)[:, 1]\n",
    "yhat_test = full_pipe.predict_proba(X_test)[:, 1]\n",
    "\n",
    "fpr_train, tpr_train, thresholds_train = roc_curve(y_train, \n",
    "                                                  yhat_train)\n",
    "fpr_test, tpr_test, thresholds_test = roc_curve(y_test, \n",
    "                                               yhat_test)\n",
    "\n",
    "roc_auc_train = auc(fpr_train, tpr_train)\n",
    "roc_auc_test = auc(fpr_test, tpr_test)\n",
    "\n",
    "print(\"ROC-AUC TRAIN\", roc_auc_train)\n",
    "print(\"ROC-AUC TEST\", roc_auc_test)"
   ]
  },
  {
   "cell_type": "markdown",
   "id": "f53884fd",
   "metadata": {},
   "source": [
    "# Hyperparameter Tuning"
   ]
  },
  {
   "cell_type": "code",
   "execution_count": 17,
   "id": "02a146e2",
   "metadata": {},
   "outputs": [],
   "source": [
    "param_space = {\n",
    "    \"model__C\": [0.0001, 0.001, 0.01, 0.1, 2, 1, 3, 4, 5, 10, 100, 1000],\n",
    "    \"model__max_iter\": [1000],\n",
    "    \"model__random_state\": [SEED]\n",
    "}\n",
    "\n",
    "clf = GridSearchCV(full_pipe, \n",
    "                   param_space, \n",
    "                   scoring='roc_auc', \n",
    "                   cv=5, \n",
    "                   refit=True)"
   ]
  },
  {
   "cell_type": "code",
   "execution_count": 18,
   "id": "584c1cdd",
   "metadata": {},
   "outputs": [
    {
     "data": {
      "text/plain": [
       "GridSearchCV(cv=5,\n",
       "             estimator=Pipeline(steps=[('preprocess',\n",
       "                                        ColumnTransformer(remainder='passthrough',\n",
       "                                                          transformers=[('cat',\n",
       "                                                                         Pipeline(steps=[('woe_cat',\n",
       "                                                                                          cat_woe_feature()),\n",
       "                                                                                         ('ohe',\n",
       "                                                                                          OneHotEncoder(drop='first'))]),\n",
       "                                                                         ['person_home_ownership',\n",
       "                                                                          'loan_intent',\n",
       "                                                                          'loan_grade',\n",
       "                                                                          'cb_person_default_on_file']),\n",
       "                                                                        ('num',\n",
       "                                                                         Pipeline(steps=[('woe_num',\n",
       "                                                                                          num_woe_feature())]),\n",
       "                                                                         ['person_age',\n",
       "                                                                          'person_income',\n",
       "                                                                          'person_emp_length',\n",
       "                                                                          'loan_amnt',\n",
       "                                                                          'loan_int_rate',\n",
       "                                                                          'loan_percent_income',\n",
       "                                                                          'cb_person_cred_hist_length'])])),\n",
       "                                       ('model',\n",
       "                                        LogisticRegression(max_iter=1000,\n",
       "                                                           random_state=42))]),\n",
       "             param_grid={'model__C': [0.0001, 0.001, 0.01, 0.1, 2, 1, 3, 4, 5,\n",
       "                                      10, 100, 1000],\n",
       "                         'model__max_iter': [1000],\n",
       "                         'model__random_state': [42]},\n",
       "             scoring='roc_auc')"
      ]
     },
     "execution_count": 18,
     "metadata": {},
     "output_type": "execute_result"
    }
   ],
   "source": [
    "clf.fit(X_train, y_train)"
   ]
  },
  {
   "cell_type": "code",
   "execution_count": 19,
   "id": "ddaf1fbf",
   "metadata": {},
   "outputs": [
    {
     "data": {
      "text/plain": [
       "{'model__C': 10, 'model__max_iter': 1000, 'model__random_state': 42}"
      ]
     },
     "execution_count": 19,
     "metadata": {},
     "output_type": "execute_result"
    }
   ],
   "source": [
    "clf.best_params_"
   ]
  },
  {
   "cell_type": "code",
   "execution_count": 20,
   "id": "253ee590",
   "metadata": {},
   "outputs": [
    {
     "data": {
      "text/plain": [
       "LogisticRegression(C=10, max_iter=1000, random_state=42)"
      ]
     },
     "execution_count": 20,
     "metadata": {},
     "output_type": "execute_result"
    }
   ],
   "source": [
    "clf.best_estimator_.named_steps['model']"
   ]
  },
  {
   "cell_type": "code",
   "execution_count": 21,
   "id": "617810ce",
   "metadata": {},
   "outputs": [],
   "source": [
    "yhat_train = clf.predict_proba(X_train)[:, 1]\n",
    "yhat_test = clf.predict_proba(X_test)[:, 1]"
   ]
  },
  {
   "cell_type": "code",
   "execution_count": 22,
   "id": "a74cfb6d",
   "metadata": {},
   "outputs": [
    {
     "name": "stdout",
     "output_type": "stream",
     "text": [
      "ROC-AUC TRAIN 0.8894861324017596\n",
      "ROC-AUC TEST 0.8953413715878881\n"
     ]
    }
   ],
   "source": [
    "from sklearn.metrics import roc_curve, auc, roc_auc_score, classification_report\n",
    "\n",
    "fpr_train, tpr_train, thresholds_train =roc_curve(y_train, \n",
    "                                                  yhat_train)\n",
    "fpr_test, tpr_test, thresholds_test =roc_curve(y_test, \n",
    "                                               yhat_test)\n",
    "\n",
    "roc_auc_train = auc(fpr_train, tpr_train)\n",
    "roc_auc_test = auc(fpr_test, tpr_test)\n",
    "\n",
    "print(\"ROC-AUC TRAIN\", roc_auc_train)\n",
    "print(\"ROC-AUC TEST\", roc_auc_test)"
   ]
  },
  {
   "cell_type": "code",
   "execution_count": 23,
   "id": "984d2406",
   "metadata": {},
   "outputs": [
    {
     "name": "stdout",
     "output_type": "stream",
     "text": [
      "           fpr       tpr     1-fpr        tf  thresholds\n",
      "1303  0.185968  0.813807  0.814032 -0.000226    0.181465\n"
     ]
    },
    {
     "data": {
      "image/png": "[encoded data removed]",
      "text/plain": [
       "<Figure size 432x288 with 1 Axes>"
      ]
     },
     "metadata": {
      "needs_background": "light"
     },
     "output_type": "display_data"
    }
   ],
   "source": [
    "tpr = tpr_test\n",
    "fpr = fpr_test\n",
    "\n",
    "thresholds = thresholds_test\n",
    "get_optimal_cutoff(tpr, fpr, thresholds)"
   ]
  },
  {
   "cell_type": "code",
   "execution_count": 24,
   "id": "80227f5a",
   "metadata": {},
   "outputs": [
    {
     "name": "stdout",
     "output_type": "stream",
     "text": [
      "              precision    recall  f1-score   support\n",
      "\n",
      "           0       0.91      0.96      0.93      7668\n",
      "           1       0.80      0.65      0.71      2057\n",
      "\n",
      "    accuracy                           0.89      9725\n",
      "   macro avg       0.85      0.80      0.82      9725\n",
      "weighted avg       0.89      0.89      0.89      9725\n",
      "\n"
     ]
    }
   ],
   "source": [
    "threshold = 0.5\n",
    "\n",
    "y_pred_train = np.where(yhat_train > threshold, 1, 0)\n",
    "y_pred_test = np.where(yhat_test> threshold, 1, 0)\n",
    "\n",
    "print(classification_report(y_test, \n",
    "                            y_pred_test))"
   ]
  },
  {
   "cell_type": "code",
   "execution_count": 25,
   "id": "1d769e18",
   "metadata": {},
   "outputs": [
    {
     "name": "stdout",
     "output_type": "stream",
     "text": [
      "              precision    recall  f1-score   support\n",
      "\n",
      "           0       0.94      0.81      0.87      7668\n",
      "           1       0.54      0.81      0.65      2057\n",
      "\n",
      "    accuracy                           0.81      9725\n",
      "   macro avg       0.74      0.81      0.76      9725\n",
      "weighted avg       0.86      0.81      0.83      9725\n",
      "\n"
     ]
    }
   ],
   "source": [
    "threshold = 0.181528\n",
    "\n",
    "y_pred_train = np.where(yhat_train > threshold, 1, 0)\n",
    "y_pred_test = np.where(yhat_test> threshold, 1, 0)\n",
    "\n",
    "print(classification_report(y_test, \n",
    "                            y_pred_test))"
   ]
  },
  {
   "cell_type": "markdown",
   "id": "1d57242a",
   "metadata": {},
   "source": [
    "# Save Model"
   ]
  },
  {
   "cell_type": "code",
   "execution_count": 26,
   "id": "04dd6d2d",
   "metadata": {},
   "outputs": [],
   "source": [
    "MODELNAME = 'LOGREG-CREDIT-1.0-joblib.pkl'\n",
    "PREPROCESSNAME = 'PREPROCESS-CREDIT-1.0-joblib.pkl'\n",
    "\n",
    "final_model = clf.best_estimator_.named_steps['model']\n",
    "final_pipe = clf.best_estimator_.named_steps['preprocess']\n",
    "\n",
    "with open(MODELNAME, 'wb') as f: # save model\n",
    "    joblib.dump(final_model, f)\n",
    "    \n",
    "with open(PREPROCESSNAME, 'wb') as f: # save pipeline\n",
    "    joblib.dump(final_pipe, f)"
   ]
  },
  {
   "cell_type": "code",
   "execution_count": null,
   "id": "3652cb7d",
   "metadata": {},
   "outputs": [],
   "source": []
  }
 ],
 "metadata": {
  "kernelspec": {
   "display_name": "Python 3 (ipykernel)",
   "language": "python",
   "name": "python3"
  },
  "language_info": {
   "codemirror_mode": {
    "name": "ipython",
    "version": 3
   },
   "file_extension": ".py",
   "mimetype": "text/x-python",
   "name": "python",
   "nbconvert_exporter": "python",
   "pygments_lexer": "ipython3",
   "version": "3.8.11"
  }
 },
 "nbformat": 4,
 "nbformat_minor": 5
}
