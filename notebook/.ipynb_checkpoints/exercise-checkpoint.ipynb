{
 "cells": [
  {
   "cell_type": "code",
   "execution_count": 42,
   "metadata": {},
   "outputs": [],
   "source": [
    "import numpy as np\n",
    "import pandas as pd\n",
    "import matplotlib.pyplot as plt\n",
    "import xgboost\n",
    "from math import log, ceil \n",
    "import seaborn as sns\n",
    "\n",
    "from sklearn.model_selection import train_test_split, GridSearchCV\n",
    "from sklearn.linear_model import LogisticRegression\n",
    "from sklearn.ensemble import RandomForestClassifier\n",
    "from sklearn.feature_selection import SelectFromModel\n",
    "from xgboost import XGBClassifier\n",
    "\n",
    "import warnings\n",
    "warnings.filterwarnings('ignore')"
   ]
  },
  {
   "cell_type": "markdown",
   "metadata": {},
   "source": [
    "# Load data"
   ]
  },
  {
   "cell_type": "code",
   "execution_count": 43,
   "metadata": {},
   "outputs": [
    {
     "data": {
      "text/html": [
       "<div>\n",
       "<style scoped>\n",
       "    .dataframe tbody tr th:only-of-type {\n",
       "        vertical-align: middle;\n",
       "    }\n",
       "\n",
       "    .dataframe tbody tr th {\n",
       "        vertical-align: top;\n",
       "    }\n",
       "\n",
       "    .dataframe thead th {\n",
       "        text-align: right;\n",
       "    }\n",
       "</style>\n",
       "<table border=\"1\" class=\"dataframe\">\n",
       "  <thead>\n",
       "    <tr style=\"text-align: right;\">\n",
       "      <th></th>\n",
       "      <th>person_age</th>\n",
       "      <th>person_income</th>\n",
       "      <th>person_home_ownership</th>\n",
       "      <th>person_emp_length</th>\n",
       "      <th>loan_intent</th>\n",
       "      <th>loan_grade</th>\n",
       "      <th>loan_amnt</th>\n",
       "      <th>loan_int_rate</th>\n",
       "      <th>loan_status</th>\n",
       "      <th>loan_percent_income</th>\n",
       "      <th>cb_person_default_on_file</th>\n",
       "      <th>cb_person_cred_hist_length</th>\n",
       "    </tr>\n",
       "  </thead>\n",
       "  <tbody>\n",
       "    <tr>\n",
       "      <th>0</th>\n",
       "      <td>22</td>\n",
       "      <td>59000</td>\n",
       "      <td>RENT</td>\n",
       "      <td>123.0</td>\n",
       "      <td>PERSONAL</td>\n",
       "      <td>D</td>\n",
       "      <td>35000</td>\n",
       "      <td>16.02</td>\n",
       "      <td>1</td>\n",
       "      <td>0.59</td>\n",
       "      <td>Y</td>\n",
       "      <td>3</td>\n",
       "    </tr>\n",
       "    <tr>\n",
       "      <th>1</th>\n",
       "      <td>21</td>\n",
       "      <td>9600</td>\n",
       "      <td>OWN</td>\n",
       "      <td>5.0</td>\n",
       "      <td>EDUCATION</td>\n",
       "      <td>B</td>\n",
       "      <td>1000</td>\n",
       "      <td>11.14</td>\n",
       "      <td>0</td>\n",
       "      <td>0.10</td>\n",
       "      <td>N</td>\n",
       "      <td>2</td>\n",
       "    </tr>\n",
       "    <tr>\n",
       "      <th>2</th>\n",
       "      <td>25</td>\n",
       "      <td>9600</td>\n",
       "      <td>MORTGAGE</td>\n",
       "      <td>1.0</td>\n",
       "      <td>MEDICAL</td>\n",
       "      <td>C</td>\n",
       "      <td>5500</td>\n",
       "      <td>12.87</td>\n",
       "      <td>1</td>\n",
       "      <td>0.57</td>\n",
       "      <td>N</td>\n",
       "      <td>3</td>\n",
       "    </tr>\n",
       "    <tr>\n",
       "      <th>3</th>\n",
       "      <td>23</td>\n",
       "      <td>65500</td>\n",
       "      <td>RENT</td>\n",
       "      <td>4.0</td>\n",
       "      <td>MEDICAL</td>\n",
       "      <td>C</td>\n",
       "      <td>35000</td>\n",
       "      <td>15.23</td>\n",
       "      <td>1</td>\n",
       "      <td>0.53</td>\n",
       "      <td>N</td>\n",
       "      <td>2</td>\n",
       "    </tr>\n",
       "    <tr>\n",
       "      <th>4</th>\n",
       "      <td>24</td>\n",
       "      <td>54400</td>\n",
       "      <td>RENT</td>\n",
       "      <td>8.0</td>\n",
       "      <td>MEDICAL</td>\n",
       "      <td>C</td>\n",
       "      <td>35000</td>\n",
       "      <td>14.27</td>\n",
       "      <td>1</td>\n",
       "      <td>0.55</td>\n",
       "      <td>Y</td>\n",
       "      <td>4</td>\n",
       "    </tr>\n",
       "  </tbody>\n",
       "</table>\n",
       "</div>"
      ],
      "text/plain": [
       "   person_age  person_income person_home_ownership  person_emp_length  \\\n",
       "0          22          59000                  RENT              123.0   \n",
       "1          21           9600                   OWN                5.0   \n",
       "2          25           9600              MORTGAGE                1.0   \n",
       "3          23          65500                  RENT                4.0   \n",
       "4          24          54400                  RENT                8.0   \n",
       "\n",
       "  loan_intent loan_grade  loan_amnt  loan_int_rate  loan_status  \\\n",
       "0    PERSONAL          D      35000          16.02            1   \n",
       "1   EDUCATION          B       1000          11.14            0   \n",
       "2     MEDICAL          C       5500          12.87            1   \n",
       "3     MEDICAL          C      35000          15.23            1   \n",
       "4     MEDICAL          C      35000          14.27            1   \n",
       "\n",
       "   loan_percent_income cb_person_default_on_file  cb_person_cred_hist_length  \n",
       "0                 0.59                         Y                           3  \n",
       "1                 0.10                         N                           2  \n",
       "2                 0.57                         N                           3  \n",
       "3                 0.53                         N                           2  \n",
       "4                 0.55                         Y                           4  "
      ]
     },
     "execution_count": 43,
     "metadata": {},
     "output_type": "execute_result"
    }
   ],
   "source": [
    "pd.set_option('display.max_columns', None)\n",
    "pd.set_option('display.max_rows', None)\n",
    "\n",
    "df = pd.read_csv('credit_risk_dataset.csv')\n",
    "df.head()"
   ]
  },
  {
   "cell_type": "code",
   "execution_count": 44,
   "metadata": {},
   "outputs": [],
   "source": [
    "target = 'loan_status'\n",
    "\n",
    "continuous_features = ['person_age', 'person_income', 'person_emp_length', 'loan_amnt', 'loan_int_rate', 'loan_percent_income', 'cb_person_cred_hist_length']\n",
    "cat_features = ['person_home_ownership', 'loan_intent', 'loan_grade', 'cb_person_default_on_file']"
   ]
  },
  {
   "cell_type": "code",
   "execution_count": 45,
   "metadata": {},
   "outputs": [
    {
     "data": {
      "image/png": "[encoded data removed]",
      "text/plain": [
       "<Figure size 576x288 with 1 Axes>"
      ]
     },
     "metadata": {
      "needs_background": "light"
     },
     "output_type": "display_data"
    }
   ],
   "source": [
    "fig = plt.figure(figsize=(8,4))\n",
    "plt.xlabel('Loan Default Distribution')\n",
    "plt.hist(df[target]);"
   ]
  },
  {
   "cell_type": "code",
   "execution_count": 46,
   "metadata": {},
   "outputs": [
    {
     "name": "stdout",
     "output_type": "stream",
     "text": [
      "Number of rows: 32581\n",
      "Number of columns: 12\n"
     ]
    }
   ],
   "source": [
    "print('Number of rows:', df.shape[0])\n",
    "print('Number of columns:', df.shape[1])"
   ]
  },
  {
   "cell_type": "code",
   "execution_count": 47,
   "metadata": {},
   "outputs": [
    {
     "data": {
      "text/plain": [
       "165"
      ]
     },
     "execution_count": 47,
     "metadata": {},
     "output_type": "execute_result"
    }
   ],
   "source": [
    "df.duplicated().sum()"
   ]
  },
  {
   "cell_type": "markdown",
   "metadata": {},
   "source": [
    "Drop duplicated data"
   ]
  },
  {
   "cell_type": "code",
   "execution_count": 48,
   "metadata": {},
   "outputs": [],
   "source": [
    "df.drop_duplicates(keep='last', inplace=True)"
   ]
  },
  {
   "cell_type": "code",
   "execution_count": 49,
   "metadata": {},
   "outputs": [
    {
     "data": {
      "text/plain": [
       "person_emp_length    2.736303\n",
       "loan_int_rate        9.547754\n",
       "dtype: float64"
      ]
     },
     "execution_count": 49,
     "metadata": {},
     "output_type": "execute_result"
    }
   ],
   "source": [
    "# Nan Percentage by Column\n",
    "list_column_nan = df[df.columns[df.isnull().any()]].isnull().sum() * 100 / df.shape[0]\n",
    "list_column_nan"
   ]
  },
  {
   "cell_type": "markdown",
   "metadata": {},
   "source": [
    "There are missing values, but it's okay since we will use WOE"
   ]
  },
  {
   "cell_type": "markdown",
   "metadata": {},
   "source": [
    "## Descriptive Statistics"
   ]
  },
  {
   "cell_type": "code",
   "execution_count": 50,
   "metadata": {},
   "outputs": [
    {
     "data": {
      "text/html": [
       "<div>\n",
       "<style scoped>\n",
       "    .dataframe tbody tr th:only-of-type {\n",
       "        vertical-align: middle;\n",
       "    }\n",
       "\n",
       "    .dataframe tbody tr th {\n",
       "        vertical-align: top;\n",
       "    }\n",
       "\n",
       "    .dataframe thead th {\n",
       "        text-align: right;\n",
       "    }\n",
       "</style>\n",
       "<table border=\"1\" class=\"dataframe\">\n",
       "  <thead>\n",
       "    <tr style=\"text-align: right;\">\n",
       "      <th></th>\n",
       "      <th>person_age</th>\n",
       "      <th>person_income</th>\n",
       "      <th>person_emp_length</th>\n",
       "      <th>loan_amnt</th>\n",
       "      <th>loan_int_rate</th>\n",
       "      <th>loan_status</th>\n",
       "      <th>loan_percent_income</th>\n",
       "      <th>cb_person_cred_hist_length</th>\n",
       "    </tr>\n",
       "  </thead>\n",
       "  <tbody>\n",
       "    <tr>\n",
       "      <th>count</th>\n",
       "      <td>32416.00</td>\n",
       "      <td>32416.00</td>\n",
       "      <td>31529.00</td>\n",
       "      <td>32416.00</td>\n",
       "      <td>29321.00</td>\n",
       "      <td>32416.00</td>\n",
       "      <td>32416.00</td>\n",
       "      <td>32416.00</td>\n",
       "    </tr>\n",
       "    <tr>\n",
       "      <th>mean</th>\n",
       "      <td>27.75</td>\n",
       "      <td>66091.64</td>\n",
       "      <td>4.79</td>\n",
       "      <td>9593.85</td>\n",
       "      <td>11.02</td>\n",
       "      <td>0.22</td>\n",
       "      <td>0.17</td>\n",
       "      <td>5.81</td>\n",
       "    </tr>\n",
       "    <tr>\n",
       "      <th>std</th>\n",
       "      <td>6.35</td>\n",
       "      <td>62015.58</td>\n",
       "      <td>4.15</td>\n",
       "      <td>6322.73</td>\n",
       "      <td>3.24</td>\n",
       "      <td>0.41</td>\n",
       "      <td>0.11</td>\n",
       "      <td>4.06</td>\n",
       "    </tr>\n",
       "    <tr>\n",
       "      <th>min</th>\n",
       "      <td>20.00</td>\n",
       "      <td>4000.00</td>\n",
       "      <td>0.00</td>\n",
       "      <td>500.00</td>\n",
       "      <td>5.42</td>\n",
       "      <td>0.00</td>\n",
       "      <td>0.00</td>\n",
       "      <td>2.00</td>\n",
       "    </tr>\n",
       "    <tr>\n",
       "      <th>25%</th>\n",
       "      <td>23.00</td>\n",
       "      <td>38542.00</td>\n",
       "      <td>2.00</td>\n",
       "      <td>5000.00</td>\n",
       "      <td>7.90</td>\n",
       "      <td>0.00</td>\n",
       "      <td>0.09</td>\n",
       "      <td>3.00</td>\n",
       "    </tr>\n",
       "    <tr>\n",
       "      <th>50%</th>\n",
       "      <td>26.00</td>\n",
       "      <td>55000.00</td>\n",
       "      <td>4.00</td>\n",
       "      <td>8000.00</td>\n",
       "      <td>10.99</td>\n",
       "      <td>0.00</td>\n",
       "      <td>0.15</td>\n",
       "      <td>4.00</td>\n",
       "    </tr>\n",
       "    <tr>\n",
       "      <th>75%</th>\n",
       "      <td>30.00</td>\n",
       "      <td>79218.00</td>\n",
       "      <td>7.00</td>\n",
       "      <td>12250.00</td>\n",
       "      <td>13.47</td>\n",
       "      <td>0.00</td>\n",
       "      <td>0.23</td>\n",
       "      <td>8.00</td>\n",
       "    </tr>\n",
       "    <tr>\n",
       "      <th>max</th>\n",
       "      <td>144.00</td>\n",
       "      <td>6000000.00</td>\n",
       "      <td>123.00</td>\n",
       "      <td>35000.00</td>\n",
       "      <td>23.22</td>\n",
       "      <td>1.00</td>\n",
       "      <td>0.83</td>\n",
       "      <td>30.00</td>\n",
       "    </tr>\n",
       "  </tbody>\n",
       "</table>\n",
       "</div>"
      ],
      "text/plain": [
       "      person_age person_income person_emp_length loan_amnt loan_int_rate  \\\n",
       "count   32416.00      32416.00          31529.00  32416.00      29321.00   \n",
       "mean       27.75      66091.64              4.79   9593.85         11.02   \n",
       "std         6.35      62015.58              4.15   6322.73          3.24   \n",
       "min        20.00       4000.00              0.00    500.00          5.42   \n",
       "25%        23.00      38542.00              2.00   5000.00          7.90   \n",
       "50%        26.00      55000.00              4.00   8000.00         10.99   \n",
       "75%        30.00      79218.00              7.00  12250.00         13.47   \n",
       "max       144.00    6000000.00            123.00  35000.00         23.22   \n",
       "\n",
       "      loan_status loan_percent_income cb_person_cred_hist_length  \n",
       "count    32416.00            32416.00                   32416.00  \n",
       "mean         0.22                0.17                       5.81  \n",
       "std          0.41                0.11                       4.06  \n",
       "min          0.00                0.00                       2.00  \n",
       "25%          0.00                0.09                       3.00  \n",
       "50%          0.00                0.15                       4.00  \n",
       "75%          0.00                0.23                       8.00  \n",
       "max          1.00                0.83                      30.00  "
      ]
     },
     "execution_count": 50,
     "metadata": {},
     "output_type": "execute_result"
    }
   ],
   "source": [
    "pd.options.display.max_rows = 1000\n",
    "df.describe(include='number').transpose().apply(lambda s: s.apply('{0:.2f}'.format)).T"
   ]
  },
  {
   "cell_type": "markdown",
   "metadata": {},
   "source": [
    "There's outlier in the data, but we will ignore it for now"
   ]
  },
  {
   "cell_type": "code",
   "execution_count": 51,
   "metadata": {},
   "outputs": [
    {
     "data": {
      "text/html": [
       "<div>\n",
       "<style scoped>\n",
       "    .dataframe tbody tr th:only-of-type {\n",
       "        vertical-align: middle;\n",
       "    }\n",
       "\n",
       "    .dataframe tbody tr th {\n",
       "        vertical-align: top;\n",
       "    }\n",
       "\n",
       "    .dataframe thead th {\n",
       "        text-align: right;\n",
       "    }\n",
       "</style>\n",
       "<table border=\"1\" class=\"dataframe\">\n",
       "  <thead>\n",
       "    <tr style=\"text-align: right;\">\n",
       "      <th></th>\n",
       "      <th>person_home_ownership</th>\n",
       "      <th>loan_intent</th>\n",
       "      <th>loan_grade</th>\n",
       "      <th>cb_person_default_on_file</th>\n",
       "    </tr>\n",
       "  </thead>\n",
       "  <tbody>\n",
       "    <tr>\n",
       "      <th>count</th>\n",
       "      <td>32416</td>\n",
       "      <td>32416</td>\n",
       "      <td>32416</td>\n",
       "      <td>32416</td>\n",
       "    </tr>\n",
       "    <tr>\n",
       "      <th>unique</th>\n",
       "      <td>4</td>\n",
       "      <td>6</td>\n",
       "      <td>7</td>\n",
       "      <td>2</td>\n",
       "    </tr>\n",
       "    <tr>\n",
       "      <th>top</th>\n",
       "      <td>RENT</td>\n",
       "      <td>EDUCATION</td>\n",
       "      <td>A</td>\n",
       "      <td>N</td>\n",
       "    </tr>\n",
       "    <tr>\n",
       "      <th>freq</th>\n",
       "      <td>16378</td>\n",
       "      <td>6411</td>\n",
       "      <td>10703</td>\n",
       "      <td>26686</td>\n",
       "    </tr>\n",
       "  </tbody>\n",
       "</table>\n",
       "</div>"
      ],
      "text/plain": [
       "       person_home_ownership loan_intent loan_grade cb_person_default_on_file\n",
       "count                  32416       32416      32416                     32416\n",
       "unique                     4           6          7                         2\n",
       "top                     RENT   EDUCATION          A                         N\n",
       "freq                   16378        6411      10703                     26686"
      ]
     },
     "execution_count": 51,
     "metadata": {},
     "output_type": "execute_result"
    }
   ],
   "source": [
    "pd.options.display.max_rows = 1000\n",
    "df.describe(include='object')"
   ]
  },
  {
   "cell_type": "code",
   "execution_count": 52,
   "metadata": {},
   "outputs": [
    {
     "data": {
      "image/png": "[encoded data removed]",
      "text/plain": [
       "<Figure size 432x216 with 2 Axes>"
      ]
     },
     "metadata": {
      "needs_background": "light"
     },
     "output_type": "display_data"
    },
    {
     "data": {
      "image/png": "[encoded data removed]",
      "text/plain": [
       "<Figure size 432x216 with 2 Axes>"
      ]
     },
     "metadata": {
      "needs_background": "light"
     },
     "output_type": "display_data"
    },
    {
     "data": {
      "image/png": "[encoded data removed]",
      "text/plain": [
       "<Figure size 432x216 with 2 Axes>"
      ]
     },
     "metadata": {
      "needs_background": "light"
     },
     "output_type": "display_data"
    },
    {
     "data": {
      "image/png": "[encoded data removed]",
      "text/plain": [
       "<Figure size 432x216 with 2 Axes>"
      ]
     },
     "metadata": {
      "needs_background": "light"
     },
     "output_type": "display_data"
    },
    {
     "data": {
      "image/png": "[encoded data removed]",
      "text/plain": [
       "<Figure size 432x216 with 2 Axes>"
      ]
     },
     "metadata": {
      "needs_background": "light"
     },
     "output_type": "display_data"
    },
    {
     "data": {
      "image/png": "[encoded data removed]",
      "text/plain": [
       "<Figure size 432x216 with 2 Axes>"
      ]
     },
     "metadata": {
      "needs_background": "light"
     },
     "output_type": "display_data"
    },
    {
     "data": {
      "image/png": "[encoded data removed]",
      "text/plain": [
       "<Figure size 432x216 with 2 Axes>"
      ]
     },
     "metadata": {
      "needs_background": "light"
     },
     "output_type": "display_data"
    }
   ],
   "source": [
    "for i in continuous_features:\n",
    "    g = sns.FacetGrid(df[df[target].notnull()], col=target)\n",
    "    g.map(plt.hist, i, bins=20)"
   ]
  },
  {
   "cell_type": "markdown",
   "metadata": {},
   "source": [
    "# Splitting Data"
   ]
  },
  {
   "cell_type": "code",
   "execution_count": 37,
   "metadata": {},
   "outputs": [],
   "source": [
    "# Creating holdout sample 20% from total data\n",
    "holdout = df.sample(frac=0.2, random_state=42)\n",
    "\n",
    "# Drop holdout sample from dataframe to avoid leakage\n",
    "df.drop(holdout.index, inplace=True)\n",
    "\n",
    "# Train test split before feature engineering/preprocessing to avoid leakage\n",
    "X_train, X_test, y_train, y_test = train_test_split(df.loc[:, df.columns != 'loan_status'], df['loan_status'], test_size=0.2, random_state=42)"
   ]
  },
  {
   "cell_type": "markdown",
   "metadata": {},
   "source": [
    "# Feature Transformation"
   ]
  },
  {
   "cell_type": "code",
   "execution_count": 54,
   "metadata": {},
   "outputs": [],
   "source": [
    "X_train = pd.concat([X_train,pd.get_dummies(X_train[cat_features],\n",
    "                               drop_first=True)], axis=1).reset_index(drop=True)\n",
    "\n",
    "X_test = pd.concat([X_test,pd.get_dummies(X_test[cat_features],\n",
    "                               drop_first=True)], axis=1).reset_index(drop=True)"
   ]
  },
  {
   "cell_type": "code",
   "execution_count": 55,
   "metadata": {},
   "outputs": [],
   "source": [
    "holdout = pd.concat([holdout,pd.get_dummies(holdout[cat_features],\n",
    "                               drop_first=True)], axis=1).reset_index(drop=True)"
   ]
  },
  {
   "cell_type": "code",
   "execution_count": 56,
   "metadata": {},
   "outputs": [
    {
     "data": {
      "text/html": [
       "<div>\n",
       "<style scoped>\n",
       "    .dataframe tbody tr th:only-of-type {\n",
       "        vertical-align: middle;\n",
       "    }\n",
       "\n",
       "    .dataframe tbody tr th {\n",
       "        vertical-align: top;\n",
       "    }\n",
       "\n",
       "    .dataframe thead th {\n",
       "        text-align: right;\n",
       "    }\n",
       "</style>\n",
       "<table border=\"1\" class=\"dataframe\">\n",
       "  <thead>\n",
       "    <tr style=\"text-align: right;\">\n",
       "      <th></th>\n",
       "      <th>person_age</th>\n",
       "      <th>person_income</th>\n",
       "      <th>person_home_ownership</th>\n",
       "      <th>person_emp_length</th>\n",
       "      <th>loan_intent</th>\n",
       "      <th>loan_grade</th>\n",
       "      <th>loan_amnt</th>\n",
       "      <th>loan_int_rate</th>\n",
       "      <th>loan_percent_income</th>\n",
       "      <th>cb_person_default_on_file</th>\n",
       "      <th>cb_person_cred_hist_length</th>\n",
       "      <th>person_home_ownership_OTHER</th>\n",
       "      <th>person_home_ownership_OWN</th>\n",
       "      <th>person_home_ownership_RENT</th>\n",
       "      <th>loan_intent_EDUCATION</th>\n",
       "      <th>loan_intent_HOMEIMPROVEMENT</th>\n",
       "      <th>loan_intent_MEDICAL</th>\n",
       "      <th>loan_intent_PERSONAL</th>\n",
       "      <th>loan_intent_VENTURE</th>\n",
       "      <th>loan_grade_B</th>\n",
       "      <th>loan_grade_C</th>\n",
       "      <th>loan_grade_D</th>\n",
       "      <th>loan_grade_E</th>\n",
       "      <th>loan_grade_F</th>\n",
       "      <th>loan_grade_G</th>\n",
       "      <th>cb_person_default_on_file_Y</th>\n",
       "    </tr>\n",
       "  </thead>\n",
       "  <tbody>\n",
       "    <tr>\n",
       "      <th>0</th>\n",
       "      <td>28</td>\n",
       "      <td>60000</td>\n",
       "      <td>RENT</td>\n",
       "      <td>2.0</td>\n",
       "      <td>DEBTCONSOLIDATION</td>\n",
       "      <td>B</td>\n",
       "      <td>3000</td>\n",
       "      <td>11.49</td>\n",
       "      <td>0.05</td>\n",
       "      <td>N</td>\n",
       "      <td>5</td>\n",
       "      <td>0</td>\n",
       "      <td>0</td>\n",
       "      <td>1</td>\n",
       "      <td>0</td>\n",
       "      <td>0</td>\n",
       "      <td>0</td>\n",
       "      <td>0</td>\n",
       "      <td>0</td>\n",
       "      <td>1</td>\n",
       "      <td>0</td>\n",
       "      <td>0</td>\n",
       "      <td>0</td>\n",
       "      <td>0</td>\n",
       "      <td>0</td>\n",
       "      <td>0</td>\n",
       "    </tr>\n",
       "    <tr>\n",
       "      <th>1</th>\n",
       "      <td>50</td>\n",
       "      <td>120000</td>\n",
       "      <td>RENT</td>\n",
       "      <td>0.0</td>\n",
       "      <td>MEDICAL</td>\n",
       "      <td>B</td>\n",
       "      <td>12000</td>\n",
       "      <td>9.62</td>\n",
       "      <td>0.10</td>\n",
       "      <td>N</td>\n",
       "      <td>12</td>\n",
       "      <td>0</td>\n",
       "      <td>0</td>\n",
       "      <td>1</td>\n",
       "      <td>0</td>\n",
       "      <td>0</td>\n",
       "      <td>1</td>\n",
       "      <td>0</td>\n",
       "      <td>0</td>\n",
       "      <td>1</td>\n",
       "      <td>0</td>\n",
       "      <td>0</td>\n",
       "      <td>0</td>\n",
       "      <td>0</td>\n",
       "      <td>0</td>\n",
       "      <td>0</td>\n",
       "    </tr>\n",
       "    <tr>\n",
       "      <th>2</th>\n",
       "      <td>30</td>\n",
       "      <td>36000</td>\n",
       "      <td>MORTGAGE</td>\n",
       "      <td>7.0</td>\n",
       "      <td>DEBTCONSOLIDATION</td>\n",
       "      <td>B</td>\n",
       "      <td>15000</td>\n",
       "      <td>11.83</td>\n",
       "      <td>0.42</td>\n",
       "      <td>N</td>\n",
       "      <td>10</td>\n",
       "      <td>0</td>\n",
       "      <td>0</td>\n",
       "      <td>0</td>\n",
       "      <td>0</td>\n",
       "      <td>0</td>\n",
       "      <td>0</td>\n",
       "      <td>0</td>\n",
       "      <td>0</td>\n",
       "      <td>1</td>\n",
       "      <td>0</td>\n",
       "      <td>0</td>\n",
       "      <td>0</td>\n",
       "      <td>0</td>\n",
       "      <td>0</td>\n",
       "      <td>0</td>\n",
       "    </tr>\n",
       "    <tr>\n",
       "      <th>3</th>\n",
       "      <td>26</td>\n",
       "      <td>44000</td>\n",
       "      <td>RENT</td>\n",
       "      <td>4.0</td>\n",
       "      <td>MEDICAL</td>\n",
       "      <td>A</td>\n",
       "      <td>5000</td>\n",
       "      <td>8.90</td>\n",
       "      <td>0.11</td>\n",
       "      <td>N</td>\n",
       "      <td>3</td>\n",
       "      <td>0</td>\n",
       "      <td>0</td>\n",
       "      <td>1</td>\n",
       "      <td>0</td>\n",
       "      <td>0</td>\n",
       "      <td>1</td>\n",
       "      <td>0</td>\n",
       "      <td>0</td>\n",
       "      <td>0</td>\n",
       "      <td>0</td>\n",
       "      <td>0</td>\n",
       "      <td>0</td>\n",
       "      <td>0</td>\n",
       "      <td>0</td>\n",
       "      <td>0</td>\n",
       "    </tr>\n",
       "    <tr>\n",
       "      <th>4</th>\n",
       "      <td>26</td>\n",
       "      <td>44000</td>\n",
       "      <td>RENT</td>\n",
       "      <td>10.0</td>\n",
       "      <td>DEBTCONSOLIDATION</td>\n",
       "      <td>D</td>\n",
       "      <td>14000</td>\n",
       "      <td>14.83</td>\n",
       "      <td>0.32</td>\n",
       "      <td>N</td>\n",
       "      <td>2</td>\n",
       "      <td>0</td>\n",
       "      <td>0</td>\n",
       "      <td>1</td>\n",
       "      <td>0</td>\n",
       "      <td>0</td>\n",
       "      <td>0</td>\n",
       "      <td>0</td>\n",
       "      <td>0</td>\n",
       "      <td>0</td>\n",
       "      <td>0</td>\n",
       "      <td>1</td>\n",
       "      <td>0</td>\n",
       "      <td>0</td>\n",
       "      <td>0</td>\n",
       "      <td>0</td>\n",
       "    </tr>\n",
       "  </tbody>\n",
       "</table>\n",
       "</div>"
      ],
      "text/plain": [
       "   person_age  person_income person_home_ownership  person_emp_length  \\\n",
       "0          28          60000                  RENT                2.0   \n",
       "1          50         120000                  RENT                0.0   \n",
       "2          30          36000              MORTGAGE                7.0   \n",
       "3          26          44000                  RENT                4.0   \n",
       "4          26          44000                  RENT               10.0   \n",
       "\n",
       "         loan_intent loan_grade  loan_amnt  loan_int_rate  \\\n",
       "0  DEBTCONSOLIDATION          B       3000          11.49   \n",
       "1            MEDICAL          B      12000           9.62   \n",
       "2  DEBTCONSOLIDATION          B      15000          11.83   \n",
       "3            MEDICAL          A       5000           8.90   \n",
       "4  DEBTCONSOLIDATION          D      14000          14.83   \n",
       "\n",
       "   loan_percent_income cb_person_default_on_file  cb_person_cred_hist_length  \\\n",
       "0                 0.05                         N                           5   \n",
       "1                 0.10                         N                          12   \n",
       "2                 0.42                         N                          10   \n",
       "3                 0.11                         N                           3   \n",
       "4                 0.32                         N                           2   \n",
       "\n",
       "   person_home_ownership_OTHER  person_home_ownership_OWN  \\\n",
       "0                            0                          0   \n",
       "1                            0                          0   \n",
       "2                            0                          0   \n",
       "3                            0                          0   \n",
       "4                            0                          0   \n",
       "\n",
       "   person_home_ownership_RENT  loan_intent_EDUCATION  \\\n",
       "0                           1                      0   \n",
       "1                           1                      0   \n",
       "2                           0                      0   \n",
       "3                           1                      0   \n",
       "4                           1                      0   \n",
       "\n",
       "   loan_intent_HOMEIMPROVEMENT  loan_intent_MEDICAL  loan_intent_PERSONAL  \\\n",
       "0                            0                    0                     0   \n",
       "1                            0                    1                     0   \n",
       "2                            0                    0                     0   \n",
       "3                            0                    1                     0   \n",
       "4                            0                    0                     0   \n",
       "\n",
       "   loan_intent_VENTURE  loan_grade_B  loan_grade_C  loan_grade_D  \\\n",
       "0                    0             1             0             0   \n",
       "1                    0             1             0             0   \n",
       "2                    0             1             0             0   \n",
       "3                    0             0             0             0   \n",
       "4                    0             0             0             1   \n",
       "\n",
       "   loan_grade_E  loan_grade_F  loan_grade_G  cb_person_default_on_file_Y  \n",
       "0             0             0             0                            0  \n",
       "1             0             0             0                            0  \n",
       "2             0             0             0                            0  \n",
       "3             0             0             0                            0  \n",
       "4             0             0             0                            0  "
      ]
     },
     "execution_count": 56,
     "metadata": {},
     "output_type": "execute_result"
    }
   ],
   "source": [
    "X_train.head()"
   ]
  },
  {
   "cell_type": "markdown",
   "metadata": {},
   "source": [
    "## Weight of Evidence"
   ]
  },
  {
   "cell_type": "markdown",
   "metadata": {},
   "source": [
    "### Age"
   ]
  },
  {
   "cell_type": "code",
   "execution_count": 15,
   "metadata": {},
   "outputs": [
    {
     "data": {
      "text/html": [
       "<div>\n",
       "<style scoped>\n",
       "    .dataframe tbody tr th:only-of-type {\n",
       "        vertical-align: middle;\n",
       "    }\n",
       "\n",
       "    .dataframe tbody tr th {\n",
       "        vertical-align: top;\n",
       "    }\n",
       "\n",
       "    .dataframe thead th {\n",
       "        text-align: right;\n",
       "    }\n",
       "</style>\n",
       "<table border=\"1\" class=\"dataframe\">\n",
       "  <thead>\n",
       "    <tr style=\"text-align: right;\">\n",
       "      <th>loan_status</th>\n",
       "      <th>0</th>\n",
       "      <th>1</th>\n",
       "      <th>woe</th>\n",
       "      <th>iv</th>\n",
       "    </tr>\n",
       "    <tr>\n",
       "      <th>row_0</th>\n",
       "      <th></th>\n",
       "      <th></th>\n",
       "      <th></th>\n",
       "      <th></th>\n",
       "    </tr>\n",
       "  </thead>\n",
       "  <tbody>\n",
       "    <tr>\n",
       "      <th>(-inf, 21.0]</th>\n",
       "      <td>0.033263</td>\n",
       "      <td>0.049317</td>\n",
       "      <td>0.393821</td>\n",
       "      <td>0.006591</td>\n",
       "    </tr>\n",
       "    <tr>\n",
       "      <th>(21.0, inf]</th>\n",
       "      <td>0.966737</td>\n",
       "      <td>0.950683</td>\n",
       "      <td>-0.016746</td>\n",
       "      <td>0.006591</td>\n",
       "    </tr>\n",
       "  </tbody>\n",
       "</table>\n",
       "</div>"
      ],
      "text/plain": [
       "loan_status          0         1       woe        iv\n",
       "row_0                                               \n",
       "(-inf, 21.0]  0.033263  0.049317  0.393821  0.006591\n",
       "(21.0, inf]   0.966737  0.950683 -0.016746  0.006591"
      ]
     },
     "execution_count": 15,
     "metadata": {},
     "output_type": "execute_result"
    }
   ],
   "source": [
    "feature = 'person_age'\n",
    "binning=[-float(\"inf\"), 21, float(\"inf\")]\n",
    "\n",
    "bin_feature = pd.cut(X_train[feature], bins=binning).values.add_categories('Nan').fillna('Nan')\n",
    "data_woe_iv = (pd.crosstab(bin_feature, y_train,normalize='columns')\n",
    "             .assign(woe=lambda datax: np.log(datax[1] / datax[0]))\n",
    "             .assign(iv=lambda datax: np.sum(datax['woe']*\n",
    "                                           (datax[1]-datax[0]))))\n",
    "\n",
    "data_woe_iv"
   ]
  },
  {
   "cell_type": "code",
   "execution_count": 16,
   "metadata": {},
   "outputs": [],
   "source": [
    "X_train[f'{feature}_WOE'] = pd.cut(X_train[feature], bins=binning, labels=[0.031301, -0.103595])\n",
    "X_train[f'{feature}_WOE'] = X_train[f'{feature}_WOE'].values.add_categories('Nan').fillna('Nan') \n",
    "X_train[f'{feature}_WOE'] = X_train[f'{feature}_WOE'].replace('Nan', 0)\n",
    "X_train[f'{feature}_WOE'] = X_train[f'{feature}_WOE'].astype(float)"
   ]
  },
  {
   "cell_type": "code",
   "execution_count": 17,
   "metadata": {},
   "outputs": [
    {
     "data": {
      "text/html": [
       "<div>\n",
       "<style scoped>\n",
       "    .dataframe tbody tr th:only-of-type {\n",
       "        vertical-align: middle;\n",
       "    }\n",
       "\n",
       "    .dataframe tbody tr th {\n",
       "        vertical-align: top;\n",
       "    }\n",
       "\n",
       "    .dataframe thead th {\n",
       "        text-align: right;\n",
       "    }\n",
       "</style>\n",
       "<table border=\"1\" class=\"dataframe\">\n",
       "  <thead>\n",
       "    <tr style=\"text-align: right;\">\n",
       "      <th>loan_status</th>\n",
       "      <th>0</th>\n",
       "      <th>1</th>\n",
       "      <th>woe</th>\n",
       "      <th>iv</th>\n",
       "    </tr>\n",
       "    <tr>\n",
       "      <th>row_0</th>\n",
       "      <th></th>\n",
       "      <th></th>\n",
       "      <th></th>\n",
       "      <th></th>\n",
       "    </tr>\n",
       "  </thead>\n",
       "  <tbody>\n",
       "    <tr>\n",
       "      <th>(-inf, 21.0]</th>\n",
       "      <td>0.03567</td>\n",
       "      <td>0.052174</td>\n",
       "      <td>0.380271</td>\n",
       "      <td>0.006561</td>\n",
       "    </tr>\n",
       "    <tr>\n",
       "      <th>(21.0, inf]</th>\n",
       "      <td>0.96433</td>\n",
       "      <td>0.947826</td>\n",
       "      <td>-0.017262</td>\n",
       "      <td>0.006561</td>\n",
       "    </tr>\n",
       "  </tbody>\n",
       "</table>\n",
       "</div>"
      ],
      "text/plain": [
       "loan_status         0         1       woe        iv\n",
       "row_0                                              \n",
       "(-inf, 21.0]  0.03567  0.052174  0.380271  0.006561\n",
       "(21.0, inf]   0.96433  0.947826 -0.017262  0.006561"
      ]
     },
     "execution_count": 17,
     "metadata": {},
     "output_type": "execute_result"
    }
   ],
   "source": [
    "feature = 'person_age'\n",
    "binning=[-float(\"inf\"), 21, float(\"inf\")]\n",
    "\n",
    "bin_feature = pd.cut(X_test[feature], bins=binning).values.add_categories('Nan').fillna('Nan')\n",
    "data_woe_iv = (pd.crosstab(bin_feature, y_test,normalize='columns')\n",
    "             .assign(woe=lambda datax: np.log(datax[1] / datax[0]))\n",
    "             .assign(iv=lambda datax: np.sum(datax['woe']*\n",
    "                                           (datax[1]-datax[0]))))\n",
    "\n",
    "data_woe_iv"
   ]
  },
  {
   "cell_type": "code",
   "execution_count": 18,
   "metadata": {},
   "outputs": [],
   "source": [
    "X_test[f'{feature}_WOE'] = pd.cut(X_test[feature], bins=binning, labels=[0.021162, -0.018817])\n",
    "X_test[f'{feature}_WOE'] = X_test[f'{feature}_WOE'].values.add_categories('Nan').fillna('Nan') \n",
    "X_test[f'{feature}_WOE'] = X_test[f'{feature}_WOE'].replace('Nan', 0)\n",
    "X_test[f'{feature}_WOE'] = X_test[f'{feature}_WOE'].astype(float)"
   ]
  },
  {
   "cell_type": "markdown",
   "metadata": {},
   "source": [
    "### Person income"
   ]
  },
  {
   "cell_type": "code",
   "execution_count": 19,
   "metadata": {},
   "outputs": [
    {
     "data": {
      "text/html": [
       "<div>\n",
       "<style scoped>\n",
       "    .dataframe tbody tr th:only-of-type {\n",
       "        vertical-align: middle;\n",
       "    }\n",
       "\n",
       "    .dataframe tbody tr th {\n",
       "        vertical-align: top;\n",
       "    }\n",
       "\n",
       "    .dataframe thead th {\n",
       "        text-align: right;\n",
       "    }\n",
       "</style>\n",
       "<table border=\"1\" class=\"dataframe\">\n",
       "  <thead>\n",
       "    <tr style=\"text-align: right;\">\n",
       "      <th>loan_status</th>\n",
       "      <th>0</th>\n",
       "      <th>1</th>\n",
       "      <th>woe</th>\n",
       "      <th>iv</th>\n",
       "    </tr>\n",
       "    <tr>\n",
       "      <th>row_0</th>\n",
       "      <th></th>\n",
       "      <th></th>\n",
       "      <th></th>\n",
       "      <th></th>\n",
       "    </tr>\n",
       "  </thead>\n",
       "  <tbody>\n",
       "    <tr>\n",
       "      <th>(-inf, 10000.0]</th>\n",
       "      <td>0.000494</td>\n",
       "      <td>0.010348</td>\n",
       "      <td>3.042597</td>\n",
       "      <td>0.493666</td>\n",
       "    </tr>\n",
       "    <tr>\n",
       "      <th>(10000.0, 20000.0]</th>\n",
       "      <td>0.011232</td>\n",
       "      <td>0.110524</td>\n",
       "      <td>2.286484</td>\n",
       "      <td>0.493666</td>\n",
       "    </tr>\n",
       "    <tr>\n",
       "      <th>(20000.0, 30000.0]</th>\n",
       "      <td>0.085843</td>\n",
       "      <td>0.160502</td>\n",
       "      <td>0.625786</td>\n",
       "      <td>0.493666</td>\n",
       "    </tr>\n",
       "    <tr>\n",
       "      <th>(30000.0, 50000.0]</th>\n",
       "      <td>0.285547</td>\n",
       "      <td>0.344782</td>\n",
       "      <td>0.188507</td>\n",
       "      <td>0.493666</td>\n",
       "    </tr>\n",
       "    <tr>\n",
       "      <th>(50000.0, 60000.0]</th>\n",
       "      <td>0.146692</td>\n",
       "      <td>0.129679</td>\n",
       "      <td>-0.123278</td>\n",
       "      <td>0.493666</td>\n",
       "    </tr>\n",
       "    <tr>\n",
       "      <th>(60000.0, 80000.0]</th>\n",
       "      <td>0.203407</td>\n",
       "      <td>0.140026</td>\n",
       "      <td>-0.373376</td>\n",
       "      <td>0.493666</td>\n",
       "    </tr>\n",
       "    <tr>\n",
       "      <th>(80000.0, inf]</th>\n",
       "      <td>0.266786</td>\n",
       "      <td>0.104139</td>\n",
       "      <td>-0.940719</td>\n",
       "      <td>0.493666</td>\n",
       "    </tr>\n",
       "  </tbody>\n",
       "</table>\n",
       "</div>"
      ],
      "text/plain": [
       "loan_status                0         1       woe        iv\n",
       "row_0                                                     \n",
       "(-inf, 10000.0]     0.000494  0.010348  3.042597  0.493666\n",
       "(10000.0, 20000.0]  0.011232  0.110524  2.286484  0.493666\n",
       "(20000.0, 30000.0]  0.085843  0.160502  0.625786  0.493666\n",
       "(30000.0, 50000.0]  0.285547  0.344782  0.188507  0.493666\n",
       "(50000.0, 60000.0]  0.146692  0.129679 -0.123278  0.493666\n",
       "(60000.0, 80000.0]  0.203407  0.140026 -0.373376  0.493666\n",
       "(80000.0, inf]      0.266786  0.104139 -0.940719  0.493666"
      ]
     },
     "execution_count": 19,
     "metadata": {},
     "output_type": "execute_result"
    }
   ],
   "source": [
    "feature = 'person_income'\n",
    "binning=[-float(\"inf\"), 10000, 20000, 30000, 50000, 60000, 80000, float(\"inf\")]\n",
    "\n",
    "bin_feature = pd.cut(X_train[feature], bins=binning).values.add_categories('Nan').fillna('Nan')\n",
    "data_woe_iv = (pd.crosstab(bin_feature, y_train,normalize='columns')\n",
    "             .assign(woe=lambda datax: np.log(datax[1] / datax[0]))\n",
    "             .assign(iv=lambda datax: np.sum(datax['woe']*\n",
    "                                           (datax[1]-datax[0]))))\n",
    "\n",
    "data_woe_iv"
   ]
  },
  {
   "cell_type": "code",
   "execution_count": 20,
   "metadata": {},
   "outputs": [],
   "source": [
    "X_train[f'{feature}_WOE'] = pd.cut(X_train[feature], bins=binning, labels=[3.042597, 2.286484, 0.625786, 0.188507, -0.123278, -0.373376, -0.940719])\n",
    "X_train[f'{feature}_WOE'] = X_train[f'{feature}_WOE'].values.add_categories('Nan').fillna('Nan') \n",
    "X_train[f'{feature}_WOE'] = X_train[f'{feature}_WOE'].replace('Nan', 0)\n",
    "X_train[f'{feature}_WOE'] = X_train[f'{feature}_WOE'].astype(float)"
   ]
  },
  {
   "cell_type": "code",
   "execution_count": 21,
   "metadata": {},
   "outputs": [
    {
     "data": {
      "text/html": [
       "<div>\n",
       "<style scoped>\n",
       "    .dataframe tbody tr th:only-of-type {\n",
       "        vertical-align: middle;\n",
       "    }\n",
       "\n",
       "    .dataframe tbody tr th {\n",
       "        vertical-align: top;\n",
       "    }\n",
       "\n",
       "    .dataframe thead th {\n",
       "        text-align: right;\n",
       "    }\n",
       "</style>\n",
       "<table border=\"1\" class=\"dataframe\">\n",
       "  <thead>\n",
       "    <tr style=\"text-align: right;\">\n",
       "      <th>loan_status</th>\n",
       "      <th>0</th>\n",
       "      <th>1</th>\n",
       "      <th>woe</th>\n",
       "      <th>iv</th>\n",
       "    </tr>\n",
       "    <tr>\n",
       "      <th>row_0</th>\n",
       "      <th></th>\n",
       "      <th></th>\n",
       "      <th></th>\n",
       "      <th></th>\n",
       "    </tr>\n",
       "  </thead>\n",
       "  <tbody>\n",
       "    <tr>\n",
       "      <th>(-inf, 10000.0]</th>\n",
       "      <td>0.000248</td>\n",
       "      <td>0.013043</td>\n",
       "      <td>3.963790</td>\n",
       "      <td>0.679747</td>\n",
       "    </tr>\n",
       "    <tr>\n",
       "      <th>(10000.0, 20000.0]</th>\n",
       "      <td>0.008174</td>\n",
       "      <td>0.120000</td>\n",
       "      <td>2.686486</td>\n",
       "      <td>0.679747</td>\n",
       "    </tr>\n",
       "    <tr>\n",
       "      <th>(20000.0, 30000.0]</th>\n",
       "      <td>0.087441</td>\n",
       "      <td>0.170435</td>\n",
       "      <td>0.667387</td>\n",
       "      <td>0.679747</td>\n",
       "    </tr>\n",
       "    <tr>\n",
       "      <th>(30000.0, 50000.0]</th>\n",
       "      <td>0.261333</td>\n",
       "      <td>0.346087</td>\n",
       "      <td>0.280896</td>\n",
       "      <td>0.679747</td>\n",
       "    </tr>\n",
       "    <tr>\n",
       "      <th>(50000.0, 60000.0]</th>\n",
       "      <td>0.154075</td>\n",
       "      <td>0.129565</td>\n",
       "      <td>-0.173254</td>\n",
       "      <td>0.679747</td>\n",
       "    </tr>\n",
       "    <tr>\n",
       "      <th>(60000.0, 80000.0]</th>\n",
       "      <td>0.207332</td>\n",
       "      <td>0.126957</td>\n",
       "      <td>-0.490478</td>\n",
       "      <td>0.679747</td>\n",
       "    </tr>\n",
       "    <tr>\n",
       "      <th>(80000.0, inf]</th>\n",
       "      <td>0.281397</td>\n",
       "      <td>0.093913</td>\n",
       "      <td>-1.097397</td>\n",
       "      <td>0.679747</td>\n",
       "    </tr>\n",
       "  </tbody>\n",
       "</table>\n",
       "</div>"
      ],
      "text/plain": [
       "loan_status                0         1       woe        iv\n",
       "row_0                                                     \n",
       "(-inf, 10000.0]     0.000248  0.013043  3.963790  0.679747\n",
       "(10000.0, 20000.0]  0.008174  0.120000  2.686486  0.679747\n",
       "(20000.0, 30000.0]  0.087441  0.170435  0.667387  0.679747\n",
       "(30000.0, 50000.0]  0.261333  0.346087  0.280896  0.679747\n",
       "(50000.0, 60000.0]  0.154075  0.129565 -0.173254  0.679747\n",
       "(60000.0, 80000.0]  0.207332  0.126957 -0.490478  0.679747\n",
       "(80000.0, inf]      0.281397  0.093913 -1.097397  0.679747"
      ]
     },
     "execution_count": 21,
     "metadata": {},
     "output_type": "execute_result"
    }
   ],
   "source": [
    "feature = 'person_income'\n",
    "binning=[-float(\"inf\"), 10000, 20000, 30000, 50000, 60000, 80000, float(\"inf\")]\n",
    "\n",
    "bin_feature = pd.cut(X_test[feature], bins=binning).values.add_categories('Nan').fillna('Nan')\n",
    "data_woe_iv = (pd.crosstab(bin_feature, y_test,normalize='columns')\n",
    "             .assign(woe=lambda datax: np.log(datax[1] / datax[0]))\n",
    "             .assign(iv=lambda datax: np.sum(datax['woe']*\n",
    "                                           (datax[1]-datax[0]))))\n",
    "\n",
    "data_woe_iv"
   ]
  },
  {
   "cell_type": "code",
   "execution_count": 22,
   "metadata": {},
   "outputs": [],
   "source": [
    "X_test[f'{feature}_WOE'] = pd.cut(X_test[feature], bins=binning, labels=[3.963790, 2.686486, 0.667387, 0.280896, -0.173254, -0.490478, -1.097397])\n",
    "X_test[f'{feature}_WOE'] = X_test[f'{feature}_WOE'].values.add_categories('Nan').fillna('Nan') \n",
    "X_test[f'{feature}_WOE'] = X_test[f'{feature}_WOE'].replace('Nan', 0)\n",
    "X_test[f'{feature}_WOE'] = X_test[f'{feature}_WOE'].astype(float)"
   ]
  },
  {
   "cell_type": "code",
   "execution_count": 215,
   "metadata": {},
   "outputs": [
    {
     "data": {
      "text/html": [
       "<div>\n",
       "<style scoped>\n",
       "    .dataframe tbody tr th:only-of-type {\n",
       "        vertical-align: middle;\n",
       "    }\n",
       "\n",
       "    .dataframe tbody tr th {\n",
       "        vertical-align: top;\n",
       "    }\n",
       "\n",
       "    .dataframe thead th {\n",
       "        text-align: right;\n",
       "    }\n",
       "</style>\n",
       "<table border=\"1\" class=\"dataframe\">\n",
       "  <thead>\n",
       "    <tr style=\"text-align: right;\">\n",
       "      <th>loan_status</th>\n",
       "      <th>0</th>\n",
       "      <th>1</th>\n",
       "      <th>woe</th>\n",
       "      <th>iv</th>\n",
       "    </tr>\n",
       "    <tr>\n",
       "      <th>row_0</th>\n",
       "      <th></th>\n",
       "      <th></th>\n",
       "      <th></th>\n",
       "      <th></th>\n",
       "    </tr>\n",
       "  </thead>\n",
       "  <tbody>\n",
       "    <tr>\n",
       "      <th>(-inf, 10000.0]</th>\n",
       "      <td>0.000786</td>\n",
       "      <td>0.011453</td>\n",
       "      <td>2.678459</td>\n",
       "      <td>0.591463</td>\n",
       "    </tr>\n",
       "    <tr>\n",
       "      <th>(10000.0, 20000.0]</th>\n",
       "      <td>0.011011</td>\n",
       "      <td>0.114531</td>\n",
       "      <td>2.341987</td>\n",
       "      <td>0.591463</td>\n",
       "    </tr>\n",
       "    <tr>\n",
       "      <th>(20000.0, 30000.0]</th>\n",
       "      <td>0.081203</td>\n",
       "      <td>0.173228</td>\n",
       "      <td>0.757655</td>\n",
       "      <td>0.591463</td>\n",
       "    </tr>\n",
       "    <tr>\n",
       "      <th>(30000.0, 50000.0]</th>\n",
       "      <td>0.273299</td>\n",
       "      <td>0.341446</td>\n",
       "      <td>0.222622</td>\n",
       "      <td>0.591463</td>\n",
       "    </tr>\n",
       "    <tr>\n",
       "      <th>(50000.0, 60000.0]</th>\n",
       "      <td>0.138812</td>\n",
       "      <td>0.128848</td>\n",
       "      <td>-0.074494</td>\n",
       "      <td>0.591463</td>\n",
       "    </tr>\n",
       "    <tr>\n",
       "      <th>(60000.0, 80000.0]</th>\n",
       "      <td>0.211758</td>\n",
       "      <td>0.133142</td>\n",
       "      <td>-0.464023</td>\n",
       "      <td>0.591463</td>\n",
       "    </tr>\n",
       "    <tr>\n",
       "      <th>(80000.0, inf]</th>\n",
       "      <td>0.283130</td>\n",
       "      <td>0.097351</td>\n",
       "      <td>-1.067579</td>\n",
       "      <td>0.591463</td>\n",
       "    </tr>\n",
       "  </tbody>\n",
       "</table>\n",
       "</div>"
      ],
      "text/plain": [
       "loan_status                0         1       woe        iv\n",
       "row_0                                                     \n",
       "(-inf, 10000.0]     0.000786  0.011453  2.678459  0.591463\n",
       "(10000.0, 20000.0]  0.011011  0.114531  2.341987  0.591463\n",
       "(20000.0, 30000.0]  0.081203  0.173228  0.757655  0.591463\n",
       "(30000.0, 50000.0]  0.273299  0.341446  0.222622  0.591463\n",
       "(50000.0, 60000.0]  0.138812  0.128848 -0.074494  0.591463\n",
       "(60000.0, 80000.0]  0.211758  0.133142 -0.464023  0.591463\n",
       "(80000.0, inf]      0.283130  0.097351 -1.067579  0.591463"
      ]
     },
     "execution_count": 215,
     "metadata": {},
     "output_type": "execute_result"
    }
   ],
   "source": [
    "feature = 'person_income'\n",
    "binning=[-float(\"inf\"), 10000, 20000, 30000, 50000, 60000, 80000, float(\"inf\")]\n",
    "\n",
    "bin_feature = pd.cut(holdout[feature], bins=binning).values.add_categories('Nan').fillna('Nan')\n",
    "data_woe_iv = (pd.crosstab(bin_feature, holdout[target],normalize='columns')\n",
    "             .assign(woe=lambda datax: np.log(datax[1] / datax[0]))\n",
    "             .assign(iv=lambda datax: np.sum(datax['woe']*\n",
    "                                           (datax[1]-datax[0]))))\n",
    "\n",
    "data_woe_iv"
   ]
  },
  {
   "cell_type": "code",
   "execution_count": 216,
   "metadata": {},
   "outputs": [],
   "source": [
    "holdout[f'{feature}_WOE'] = pd.cut(holdout[feature], bins=binning, labels=[2.678459, 2.341987, 0.757655, 0.222622, -0.074494, -0.464023, -1.067579])\n",
    "holdout[f'{feature}_WOE'] = holdout[f'{feature}_WOE'].values.add_categories('Nan').fillna('Nan') \n",
    "holdout[f'{feature}_WOE'] = holdout[f'{feature}_WOE'].replace('Nan', 0)\n",
    "holdout[f'{feature}_WOE'] = holdout[f'{feature}_WOE'].astype(float)"
   ]
  },
  {
   "cell_type": "code",
   "execution_count": null,
   "metadata": {},
   "outputs": [],
   "source": []
  },
  {
   "cell_type": "markdown",
   "metadata": {},
   "source": [
    "### Employee length"
   ]
  },
  {
   "cell_type": "code",
   "execution_count": 23,
   "metadata": {},
   "outputs": [
    {
     "data": {
      "text/html": [
       "<div>\n",
       "<style scoped>\n",
       "    .dataframe tbody tr th:only-of-type {\n",
       "        vertical-align: middle;\n",
       "    }\n",
       "\n",
       "    .dataframe tbody tr th {\n",
       "        vertical-align: top;\n",
       "    }\n",
       "\n",
       "    .dataframe thead th {\n",
       "        text-align: right;\n",
       "    }\n",
       "</style>\n",
       "<table border=\"1\" class=\"dataframe\">\n",
       "  <thead>\n",
       "    <tr style=\"text-align: right;\">\n",
       "      <th>loan_status</th>\n",
       "      <th>0</th>\n",
       "      <th>1</th>\n",
       "      <th>woe</th>\n",
       "      <th>iv</th>\n",
       "    </tr>\n",
       "    <tr>\n",
       "      <th>row_0</th>\n",
       "      <th></th>\n",
       "      <th></th>\n",
       "      <th></th>\n",
       "      <th></th>\n",
       "    </tr>\n",
       "  </thead>\n",
       "  <tbody>\n",
       "    <tr>\n",
       "      <th>(-inf, 1.0]</th>\n",
       "      <td>0.198099</td>\n",
       "      <td>0.277631</td>\n",
       "      <td>0.337525</td>\n",
       "      <td>0.045672</td>\n",
       "    </tr>\n",
       "    <tr>\n",
       "      <th>(1.0, inf]</th>\n",
       "      <td>0.778511</td>\n",
       "      <td>0.684720</td>\n",
       "      <td>-0.128373</td>\n",
       "      <td>0.045672</td>\n",
       "    </tr>\n",
       "    <tr>\n",
       "      <th>Nan</th>\n",
       "      <td>0.023389</td>\n",
       "      <td>0.037649</td>\n",
       "      <td>0.476018</td>\n",
       "      <td>0.045672</td>\n",
       "    </tr>\n",
       "  </tbody>\n",
       "</table>\n",
       "</div>"
      ],
      "text/plain": [
       "loan_status         0         1       woe        iv\n",
       "row_0                                              \n",
       "(-inf, 1.0]  0.198099  0.277631  0.337525  0.045672\n",
       "(1.0, inf]   0.778511  0.684720 -0.128373  0.045672\n",
       "Nan          0.023389  0.037649  0.476018  0.045672"
      ]
     },
     "execution_count": 23,
     "metadata": {},
     "output_type": "execute_result"
    }
   ],
   "source": [
    "feature = 'person_emp_length'\n",
    "binning=[-float(\"inf\"), 1, float(\"inf\")]\n",
    "\n",
    "bin_feature = pd.cut(X_train[feature], bins=binning).values.add_categories('Nan').fillna('Nan')\n",
    "data_woe_iv = (pd.crosstab(bin_feature, y_train,normalize='columns')\n",
    "             .assign(woe=lambda datax: np.log(datax[1] / datax[0]))\n",
    "             .assign(iv=lambda datax: np.sum(datax['woe']*\n",
    "                                           (datax[1]-datax[0]))))\n",
    "\n",
    "data_woe_iv"
   ]
  },
  {
   "cell_type": "code",
   "execution_count": 24,
   "metadata": {},
   "outputs": [
    {
     "data": {
      "text/html": [
       "<div>\n",
       "<style scoped>\n",
       "    .dataframe tbody tr th:only-of-type {\n",
       "        vertical-align: middle;\n",
       "    }\n",
       "\n",
       "    .dataframe tbody tr th {\n",
       "        vertical-align: top;\n",
       "    }\n",
       "\n",
       "    .dataframe thead th {\n",
       "        text-align: right;\n",
       "    }\n",
       "</style>\n",
       "<table border=\"1\" class=\"dataframe\">\n",
       "  <thead>\n",
       "    <tr style=\"text-align: right;\">\n",
       "      <th>loan_status</th>\n",
       "      <th>0</th>\n",
       "      <th>1</th>\n",
       "      <th>woe</th>\n",
       "      <th>iv</th>\n",
       "    </tr>\n",
       "    <tr>\n",
       "      <th>row_0</th>\n",
       "      <th></th>\n",
       "      <th></th>\n",
       "      <th></th>\n",
       "      <th></th>\n",
       "    </tr>\n",
       "  </thead>\n",
       "  <tbody>\n",
       "    <tr>\n",
       "      <th>(-inf, 1.0]</th>\n",
       "      <td>0.205846</td>\n",
       "      <td>0.255652</td>\n",
       "      <td>0.216690</td>\n",
       "      <td>0.037537</td>\n",
       "    </tr>\n",
       "    <tr>\n",
       "      <th>(1.0, inf]</th>\n",
       "      <td>0.770374</td>\n",
       "      <td>0.694783</td>\n",
       "      <td>-0.103277</td>\n",
       "      <td>0.037537</td>\n",
       "    </tr>\n",
       "    <tr>\n",
       "      <th>Nan</th>\n",
       "      <td>0.023780</td>\n",
       "      <td>0.049565</td>\n",
       "      <td>0.734443</td>\n",
       "      <td>0.037537</td>\n",
       "    </tr>\n",
       "  </tbody>\n",
       "</table>\n",
       "</div>"
      ],
      "text/plain": [
       "loan_status         0         1       woe        iv\n",
       "row_0                                              \n",
       "(-inf, 1.0]  0.205846  0.255652  0.216690  0.037537\n",
       "(1.0, inf]   0.770374  0.694783 -0.103277  0.037537\n",
       "Nan          0.023780  0.049565  0.734443  0.037537"
      ]
     },
     "execution_count": 24,
     "metadata": {},
     "output_type": "execute_result"
    }
   ],
   "source": [
    "feature = 'person_emp_length'\n",
    "binning=[-float(\"inf\"), 1, float(\"inf\")]\n",
    "\n",
    "bin_feature = pd.cut(X_test[feature], bins=binning).values.add_categories('Nan').fillna('Nan')\n",
    "data_woe_iv = (pd.crosstab(bin_feature, y_test,normalize='columns')\n",
    "             .assign(woe=lambda datax: np.log(datax[1] / datax[0]))\n",
    "             .assign(iv=lambda datax: np.sum(datax['woe']*\n",
    "                                           (datax[1]-datax[0]))))\n",
    "\n",
    "data_woe_iv"
   ]
  },
  {
   "cell_type": "markdown",
   "metadata": {},
   "source": [
    "### Loan amount"
   ]
  },
  {
   "cell_type": "code",
   "execution_count": 25,
   "metadata": {},
   "outputs": [
    {
     "data": {
      "text/html": [
       "<div>\n",
       "<style scoped>\n",
       "    .dataframe tbody tr th:only-of-type {\n",
       "        vertical-align: middle;\n",
       "    }\n",
       "\n",
       "    .dataframe tbody tr th {\n",
       "        vertical-align: top;\n",
       "    }\n",
       "\n",
       "    .dataframe thead th {\n",
       "        text-align: right;\n",
       "    }\n",
       "</style>\n",
       "<table border=\"1\" class=\"dataframe\">\n",
       "  <thead>\n",
       "    <tr style=\"text-align: right;\">\n",
       "      <th>loan_status</th>\n",
       "      <th>0</th>\n",
       "      <th>1</th>\n",
       "      <th>woe</th>\n",
       "      <th>iv</th>\n",
       "    </tr>\n",
       "    <tr>\n",
       "      <th>row_0</th>\n",
       "      <th></th>\n",
       "      <th></th>\n",
       "      <th></th>\n",
       "      <th></th>\n",
       "    </tr>\n",
       "  </thead>\n",
       "  <tbody>\n",
       "    <tr>\n",
       "      <th>(-inf, 10000.0]</th>\n",
       "      <td>0.688657</td>\n",
       "      <td>0.574857</td>\n",
       "      <td>-0.180622</td>\n",
       "      <td>0.078551</td>\n",
       "    </tr>\n",
       "    <tr>\n",
       "      <th>(10000.0, 15000.0]</th>\n",
       "      <td>0.184090</td>\n",
       "      <td>0.199031</td>\n",
       "      <td>0.078035</td>\n",
       "      <td>0.078551</td>\n",
       "    </tr>\n",
       "    <tr>\n",
       "      <th>(15000.0, inf]</th>\n",
       "      <td>0.127253</td>\n",
       "      <td>0.226112</td>\n",
       "      <td>0.574856</td>\n",
       "      <td>0.078551</td>\n",
       "    </tr>\n",
       "  </tbody>\n",
       "</table>\n",
       "</div>"
      ],
      "text/plain": [
       "loan_status                0         1       woe        iv\n",
       "row_0                                                     \n",
       "(-inf, 10000.0]     0.688657  0.574857 -0.180622  0.078551\n",
       "(10000.0, 15000.0]  0.184090  0.199031  0.078035  0.078551\n",
       "(15000.0, inf]      0.127253  0.226112  0.574856  0.078551"
      ]
     },
     "execution_count": 25,
     "metadata": {},
     "output_type": "execute_result"
    }
   ],
   "source": [
    "feature = 'loan_amnt'\n",
    "binning=[-float(\"inf\"), 10000, 15000, float(\"inf\")]\n",
    "\n",
    "bin_feature = pd.cut(X_train[feature], bins=binning).values.add_categories('Nan').fillna('Nan')\n",
    "data_woe_iv = (pd.crosstab(bin_feature, y_train,normalize='columns')\n",
    "             .assign(woe=lambda datax: np.log(datax[1] / datax[0]))\n",
    "             .assign(iv=lambda datax: np.sum(datax['woe']*\n",
    "                                           (datax[1]-datax[0]))))\n",
    "\n",
    "data_woe_iv"
   ]
  },
  {
   "cell_type": "code",
   "execution_count": 26,
   "metadata": {},
   "outputs": [],
   "source": [
    "X_train[f'{feature}_WOE'] = pd.cut(X_train[feature], bins=binning, labels=[-0.180622, 0.078035, 0.574856])\n",
    "X_train[f'{feature}_WOE'] = X_train[f'{feature}_WOE'].values.add_categories('Nan').fillna('Nan') \n",
    "X_train[f'{feature}_WOE'] = X_train[f'{feature}_WOE'].replace('Nan', 0)\n",
    "X_train[f'{feature}_WOE'] = X_train[f'{feature}_WOE'].astype(float)"
   ]
  },
  {
   "cell_type": "code",
   "execution_count": 27,
   "metadata": {},
   "outputs": [
    {
     "data": {
      "text/html": [
       "<div>\n",
       "<style scoped>\n",
       "    .dataframe tbody tr th:only-of-type {\n",
       "        vertical-align: middle;\n",
       "    }\n",
       "\n",
       "    .dataframe tbody tr th {\n",
       "        vertical-align: top;\n",
       "    }\n",
       "\n",
       "    .dataframe thead th {\n",
       "        text-align: right;\n",
       "    }\n",
       "</style>\n",
       "<table border=\"1\" class=\"dataframe\">\n",
       "  <thead>\n",
       "    <tr style=\"text-align: right;\">\n",
       "      <th>loan_status</th>\n",
       "      <th>0</th>\n",
       "      <th>1</th>\n",
       "      <th>woe</th>\n",
       "      <th>iv</th>\n",
       "    </tr>\n",
       "    <tr>\n",
       "      <th>row_0</th>\n",
       "      <th></th>\n",
       "      <th></th>\n",
       "      <th></th>\n",
       "      <th></th>\n",
       "    </tr>\n",
       "  </thead>\n",
       "  <tbody>\n",
       "    <tr>\n",
       "      <th>(-inf, 10000.0]</th>\n",
       "      <td>0.670547</td>\n",
       "      <td>0.586957</td>\n",
       "      <td>-0.133144</td>\n",
       "      <td>0.038574</td>\n",
       "    </tr>\n",
       "    <tr>\n",
       "      <th>(10000.0, 15000.0]</th>\n",
       "      <td>0.186525</td>\n",
       "      <td>0.202609</td>\n",
       "      <td>0.082713</td>\n",
       "      <td>0.038574</td>\n",
       "    </tr>\n",
       "    <tr>\n",
       "      <th>(15000.0, inf]</th>\n",
       "      <td>0.142928</td>\n",
       "      <td>0.210435</td>\n",
       "      <td>0.386835</td>\n",
       "      <td>0.038574</td>\n",
       "    </tr>\n",
       "  </tbody>\n",
       "</table>\n",
       "</div>"
      ],
      "text/plain": [
       "loan_status                0         1       woe        iv\n",
       "row_0                                                     \n",
       "(-inf, 10000.0]     0.670547  0.586957 -0.133144  0.038574\n",
       "(10000.0, 15000.0]  0.186525  0.202609  0.082713  0.038574\n",
       "(15000.0, inf]      0.142928  0.210435  0.386835  0.038574"
      ]
     },
     "execution_count": 27,
     "metadata": {},
     "output_type": "execute_result"
    }
   ],
   "source": [
    "feature = 'loan_amnt'\n",
    "binning=[-float(\"inf\"), 10000, 15000, float(\"inf\")]\n",
    "\n",
    "bin_feature = pd.cut(X_test[feature], bins=binning).values.add_categories('Nan').fillna('Nan')\n",
    "data_woe_iv = (pd.crosstab(bin_feature, y_test,normalize='columns')\n",
    "             .assign(woe=lambda datax: np.log(datax[1] / datax[0]))\n",
    "             .assign(iv=lambda datax: np.sum(datax['woe']*\n",
    "                                           (datax[1]-datax[0]))))\n",
    "\n",
    "data_woe_iv"
   ]
  },
  {
   "cell_type": "code",
   "execution_count": 28,
   "metadata": {},
   "outputs": [],
   "source": [
    "X_test[f'{feature}_WOE'] = pd.cut(X_test[feature], bins=binning, labels=[-0.133144, 0.082713, 0.386835])\n",
    "X_test[f'{feature}_WOE'] = X_test[f'{feature}_WOE'].values.add_categories('Nan').fillna('Nan') \n",
    "X_test[f'{feature}_WOE'] = X_test[f'{feature}_WOE'].replace('Nan', 0)\n",
    "X_test[f'{feature}_WOE'] = X_test[f'{feature}_WOE'].astype(float)"
   ]
  },
  {
   "cell_type": "code",
   "execution_count": 218,
   "metadata": {},
   "outputs": [
    {
     "data": {
      "text/html": [
       "<div>\n",
       "<style scoped>\n",
       "    .dataframe tbody tr th:only-of-type {\n",
       "        vertical-align: middle;\n",
       "    }\n",
       "\n",
       "    .dataframe tbody tr th {\n",
       "        vertical-align: top;\n",
       "    }\n",
       "\n",
       "    .dataframe thead th {\n",
       "        text-align: right;\n",
       "    }\n",
       "</style>\n",
       "<table border=\"1\" class=\"dataframe\">\n",
       "  <thead>\n",
       "    <tr style=\"text-align: right;\">\n",
       "      <th>loan_status</th>\n",
       "      <th>0</th>\n",
       "      <th>1</th>\n",
       "      <th>woe</th>\n",
       "      <th>iv</th>\n",
       "    </tr>\n",
       "    <tr>\n",
       "      <th>row_0</th>\n",
       "      <th></th>\n",
       "      <th></th>\n",
       "      <th></th>\n",
       "      <th></th>\n",
       "    </tr>\n",
       "  </thead>\n",
       "  <tbody>\n",
       "    <tr>\n",
       "      <th>(-inf, 10000.0]</th>\n",
       "      <td>0.679316</td>\n",
       "      <td>0.576951</td>\n",
       "      <td>-0.163329</td>\n",
       "      <td>0.069126</td>\n",
       "    </tr>\n",
       "    <tr>\n",
       "      <th>(10000.0, 15000.0]</th>\n",
       "      <td>0.186591</td>\n",
       "      <td>0.192555</td>\n",
       "      <td>0.031467</td>\n",
       "      <td>0.069126</td>\n",
       "    </tr>\n",
       "    <tr>\n",
       "      <th>(15000.0, inf]</th>\n",
       "      <td>0.134094</td>\n",
       "      <td>0.230494</td>\n",
       "      <td>0.541686</td>\n",
       "      <td>0.069126</td>\n",
       "    </tr>\n",
       "  </tbody>\n",
       "</table>\n",
       "</div>"
      ],
      "text/plain": [
       "loan_status                0         1       woe        iv\n",
       "row_0                                                     \n",
       "(-inf, 10000.0]     0.679316  0.576951 -0.163329  0.069126\n",
       "(10000.0, 15000.0]  0.186591  0.192555  0.031467  0.069126\n",
       "(15000.0, inf]      0.134094  0.230494  0.541686  0.069126"
      ]
     },
     "execution_count": 218,
     "metadata": {},
     "output_type": "execute_result"
    }
   ],
   "source": [
    "feature = 'loan_amnt'\n",
    "binning=[-float(\"inf\"), 10000, 15000, float(\"inf\")]\n",
    "\n",
    "bin_feature = pd.cut(holdout[feature], bins=binning).values.add_categories('Nan').fillna('Nan')\n",
    "data_woe_iv = (pd.crosstab(bin_feature, holdout[target],normalize='columns')\n",
    "             .assign(woe=lambda datax: np.log(datax[1] / datax[0]))\n",
    "             .assign(iv=lambda datax: np.sum(datax['woe']*\n",
    "                                           (datax[1]-datax[0]))))\n",
    "\n",
    "data_woe_iv"
   ]
  },
  {
   "cell_type": "code",
   "execution_count": 219,
   "metadata": {},
   "outputs": [],
   "source": [
    "holdout[f'{feature}_WOE'] = pd.cut(holdout[feature], bins=binning, labels=[-0.163329, 0.031467, 0.541686])\n",
    "holdout[f'{feature}_WOE'] = holdout[f'{feature}_WOE'].values.add_categories('Nan').fillna('Nan') \n",
    "holdout[f'{feature}_WOE'] = holdout[f'{feature}_WOE'].replace('Nan', 0)\n",
    "holdout[f'{feature}_WOE'] = holdout[f'{feature}_WOE'].astype(float)"
   ]
  },
  {
   "cell_type": "markdown",
   "metadata": {},
   "source": [
    "### loan interest rate"
   ]
  },
  {
   "cell_type": "code",
   "execution_count": 73,
   "metadata": {},
   "outputs": [
    {
     "data": {
      "text/html": [
       "<div>\n",
       "<style scoped>\n",
       "    .dataframe tbody tr th:only-of-type {\n",
       "        vertical-align: middle;\n",
       "    }\n",
       "\n",
       "    .dataframe tbody tr th {\n",
       "        vertical-align: top;\n",
       "    }\n",
       "\n",
       "    .dataframe thead th {\n",
       "        text-align: right;\n",
       "    }\n",
       "</style>\n",
       "<table border=\"1\" class=\"dataframe\">\n",
       "  <thead>\n",
       "    <tr style=\"text-align: right;\">\n",
       "      <th>loan_status</th>\n",
       "      <th>0</th>\n",
       "      <th>1</th>\n",
       "      <th>woe</th>\n",
       "      <th>iv</th>\n",
       "    </tr>\n",
       "    <tr>\n",
       "      <th>row_0</th>\n",
       "      <th></th>\n",
       "      <th></th>\n",
       "      <th></th>\n",
       "      <th></th>\n",
       "    </tr>\n",
       "  </thead>\n",
       "  <tbody>\n",
       "    <tr>\n",
       "      <th>(-inf, 15.0]</th>\n",
       "      <td>0.847692</td>\n",
       "      <td>0.625055</td>\n",
       "      <td>-0.304678</td>\n",
       "      <td>0.431345</td>\n",
       "    </tr>\n",
       "    <tr>\n",
       "      <th>(15.0, inf]</th>\n",
       "      <td>0.055974</td>\n",
       "      <td>0.281154</td>\n",
       "      <td>1.614017</td>\n",
       "      <td>0.431345</td>\n",
       "    </tr>\n",
       "    <tr>\n",
       "      <th>Nan</th>\n",
       "      <td>0.096334</td>\n",
       "      <td>0.093791</td>\n",
       "      <td>-0.026752</td>\n",
       "      <td>0.431345</td>\n",
       "    </tr>\n",
       "  </tbody>\n",
       "</table>\n",
       "</div>"
      ],
      "text/plain": [
       "loan_status          0         1       woe        iv\n",
       "row_0                                               \n",
       "(-inf, 15.0]  0.847692  0.625055 -0.304678  0.431345\n",
       "(15.0, inf]   0.055974  0.281154  1.614017  0.431345\n",
       "Nan           0.096334  0.093791 -0.026752  0.431345"
      ]
     },
     "execution_count": 73,
     "metadata": {},
     "output_type": "execute_result"
    }
   ],
   "source": [
    "feature = 'loan_int_rate'\n",
    "binning=[-float(\"inf\"), 15, float(\"inf\")]\n",
    "\n",
    "bin_feature = pd.cut(X_train[feature], bins=binning).values.add_categories('Nan').fillna('Nan')\n",
    "data_woe_iv = (pd.crosstab(bin_feature, y_train,normalize='columns')\n",
    "             .assign(woe=lambda datax: np.log(datax[1] / datax[0]))\n",
    "             .assign(iv=lambda datax: np.sum(datax['woe']*\n",
    "                                           (datax[1]-datax[0]))))\n",
    "\n",
    "data_woe_iv"
   ]
  },
  {
   "cell_type": "code",
   "execution_count": 74,
   "metadata": {},
   "outputs": [],
   "source": [
    "X_train[f'{feature}_WOE'] = pd.cut(X_train[feature], bins=binning, labels=[-0.304678, 1.614017])\n",
    "X_train[f'{feature}_WOE'] = X_train[f'{feature}_WOE'].values.add_categories('Nan').fillna('Nan') \n",
    "X_train[f'{feature}_WOE'] = X_train[f'{feature}_WOE'].replace('Nan', -0.02675)\n",
    "X_train[f'{feature}_WOE'] = X_train[f'{feature}_WOE'].astype(float)"
   ]
  },
  {
   "cell_type": "code",
   "execution_count": 77,
   "metadata": {},
   "outputs": [
    {
     "data": {
      "text/html": [
       "<div>\n",
       "<style scoped>\n",
       "    .dataframe tbody tr th:only-of-type {\n",
       "        vertical-align: middle;\n",
       "    }\n",
       "\n",
       "    .dataframe tbody tr th {\n",
       "        vertical-align: top;\n",
       "    }\n",
       "\n",
       "    .dataframe thead th {\n",
       "        text-align: right;\n",
       "    }\n",
       "</style>\n",
       "<table border=\"1\" class=\"dataframe\">\n",
       "  <thead>\n",
       "    <tr style=\"text-align: right;\">\n",
       "      <th>loan_status</th>\n",
       "      <th>0</th>\n",
       "      <th>1</th>\n",
       "      <th>woe</th>\n",
       "      <th>iv</th>\n",
       "    </tr>\n",
       "    <tr>\n",
       "      <th>row_0</th>\n",
       "      <th></th>\n",
       "      <th></th>\n",
       "      <th></th>\n",
       "      <th></th>\n",
       "    </tr>\n",
       "  </thead>\n",
       "  <tbody>\n",
       "    <tr>\n",
       "      <th>(-inf, 15.0]</th>\n",
       "      <td>0.848155</td>\n",
       "      <td>0.653913</td>\n",
       "      <td>-0.260089</td>\n",
       "      <td>0.375268</td>\n",
       "    </tr>\n",
       "    <tr>\n",
       "      <th>(15.0, inf]</th>\n",
       "      <td>0.055734</td>\n",
       "      <td>0.263478</td>\n",
       "      <td>1.553372</td>\n",
       "      <td>0.375268</td>\n",
       "    </tr>\n",
       "    <tr>\n",
       "      <th>Nan</th>\n",
       "      <td>0.096111</td>\n",
       "      <td>0.082609</td>\n",
       "      <td>-0.151389</td>\n",
       "      <td>0.375268</td>\n",
       "    </tr>\n",
       "  </tbody>\n",
       "</table>\n",
       "</div>"
      ],
      "text/plain": [
       "loan_status          0         1       woe        iv\n",
       "row_0                                               \n",
       "(-inf, 15.0]  0.848155  0.653913 -0.260089  0.375268\n",
       "(15.0, inf]   0.055734  0.263478  1.553372  0.375268\n",
       "Nan           0.096111  0.082609 -0.151389  0.375268"
      ]
     },
     "execution_count": 77,
     "metadata": {},
     "output_type": "execute_result"
    }
   ],
   "source": [
    "feature = 'loan_int_rate'\n",
    "binning=[-float(\"inf\"), 15, float(\"inf\")]\n",
    "\n",
    "bin_feature = pd.cut(X_test[feature], bins=binning).values.add_categories('Nan').fillna('Nan')\n",
    "data_woe_iv = (pd.crosstab(bin_feature, y_test,normalize='columns')\n",
    "             .assign(woe=lambda datax: np.log(datax[1] / datax[0]))\n",
    "             .assign(iv=lambda datax: np.sum(datax['woe']*\n",
    "                                           (datax[1]-datax[0]))))\n",
    "\n",
    "data_woe_iv"
   ]
  },
  {
   "cell_type": "code",
   "execution_count": 78,
   "metadata": {},
   "outputs": [],
   "source": [
    "X_test[f'{feature}_WOE'] = pd.cut(X_test[feature], bins=binning, labels=[-0.260089, 1.553372])\n",
    "X_test[f'{feature}_WOE'] = X_test[f'{feature}_WOE'].values.add_categories('Nan').fillna('Nan') \n",
    "X_test[f'{feature}_WOE'] = X_test[f'{feature}_WOE'].replace('Nan', -0.151389)\n",
    "X_test[f'{feature}_WOE'] = X_test[f'{feature}_WOE'].astype(float)"
   ]
  },
  {
   "cell_type": "code",
   "execution_count": 221,
   "metadata": {},
   "outputs": [
    {
     "data": {
      "text/html": [
       "<div>\n",
       "<style scoped>\n",
       "    .dataframe tbody tr th:only-of-type {\n",
       "        vertical-align: middle;\n",
       "    }\n",
       "\n",
       "    .dataframe tbody tr th {\n",
       "        vertical-align: top;\n",
       "    }\n",
       "\n",
       "    .dataframe thead th {\n",
       "        text-align: right;\n",
       "    }\n",
       "</style>\n",
       "<table border=\"1\" class=\"dataframe\">\n",
       "  <thead>\n",
       "    <tr style=\"text-align: right;\">\n",
       "      <th>loan_status</th>\n",
       "      <th>0</th>\n",
       "      <th>1</th>\n",
       "      <th>woe</th>\n",
       "      <th>iv</th>\n",
       "    </tr>\n",
       "    <tr>\n",
       "      <th>row_0</th>\n",
       "      <th></th>\n",
       "      <th></th>\n",
       "      <th></th>\n",
       "      <th></th>\n",
       "    </tr>\n",
       "  </thead>\n",
       "  <tbody>\n",
       "    <tr>\n",
       "      <th>(-inf, 15.0]</th>\n",
       "      <td>0.840346</td>\n",
       "      <td>0.617752</td>\n",
       "      <td>-0.307726</td>\n",
       "      <td>0.445938</td>\n",
       "    </tr>\n",
       "    <tr>\n",
       "      <th>(15.0, inf]</th>\n",
       "      <td>0.060362</td>\n",
       "      <td>0.296349</td>\n",
       "      <td>1.591183</td>\n",
       "      <td>0.445938</td>\n",
       "    </tr>\n",
       "    <tr>\n",
       "      <th>Nan</th>\n",
       "      <td>0.099292</td>\n",
       "      <td>0.085898</td>\n",
       "      <td>-0.144902</td>\n",
       "      <td>0.445938</td>\n",
       "    </tr>\n",
       "  </tbody>\n",
       "</table>\n",
       "</div>"
      ],
      "text/plain": [
       "loan_status          0         1       woe        iv\n",
       "row_0                                               \n",
       "(-inf, 15.0]  0.840346  0.617752 -0.307726  0.445938\n",
       "(15.0, inf]   0.060362  0.296349  1.591183  0.445938\n",
       "Nan           0.099292  0.085898 -0.144902  0.445938"
      ]
     },
     "execution_count": 221,
     "metadata": {},
     "output_type": "execute_result"
    }
   ],
   "source": [
    "feature = 'loan_int_rate'\n",
    "binning=[-float(\"inf\"), 15, float(\"inf\")]\n",
    "\n",
    "bin_feature = pd.cut(holdout[feature], bins=binning).values.add_categories('Nan').fillna('Nan')\n",
    "data_woe_iv = (pd.crosstab(bin_feature, holdout[target],normalize='columns')\n",
    "             .assign(woe=lambda datax: np.log(datax[1] / datax[0]))\n",
    "             .assign(iv=lambda datax: np.sum(datax['woe']*\n",
    "                                           (datax[1]-datax[0]))))\n",
    "\n",
    "data_woe_iv"
   ]
  },
  {
   "cell_type": "code",
   "execution_count": 222,
   "metadata": {},
   "outputs": [],
   "source": [
    "holdout[f'{feature}_WOE'] = pd.cut(holdout[feature], bins=binning, labels=[-0.307726, 1.591183])\n",
    "holdout[f'{feature}_WOE'] = holdout[f'{feature}_WOE'].values.add_categories('Nan').fillna('Nan') \n",
    "holdout[f'{feature}_WOE'] = holdout[f'{feature}_WOE'].replace('Nan', -0.144902)\n",
    "holdout[f'{feature}_WOE'] = holdout[f'{feature}_WOE'].astype(float)"
   ]
  },
  {
   "cell_type": "markdown",
   "metadata": {},
   "source": [
    "### Loan percent income"
   ]
  },
  {
   "cell_type": "code",
   "execution_count": 91,
   "metadata": {},
   "outputs": [
    {
     "data": {
      "text/html": [
       "<div>\n",
       "<style scoped>\n",
       "    .dataframe tbody tr th:only-of-type {\n",
       "        vertical-align: middle;\n",
       "    }\n",
       "\n",
       "    .dataframe tbody tr th {\n",
       "        vertical-align: top;\n",
       "    }\n",
       "\n",
       "    .dataframe thead th {\n",
       "        text-align: right;\n",
       "    }\n",
       "</style>\n",
       "<table border=\"1\" class=\"dataframe\">\n",
       "  <thead>\n",
       "    <tr style=\"text-align: right;\">\n",
       "      <th>loan_status</th>\n",
       "      <th>0</th>\n",
       "      <th>1</th>\n",
       "      <th>woe</th>\n",
       "      <th>iv</th>\n",
       "    </tr>\n",
       "    <tr>\n",
       "      <th>row_0</th>\n",
       "      <th></th>\n",
       "      <th></th>\n",
       "      <th></th>\n",
       "      <th></th>\n",
       "    </tr>\n",
       "  </thead>\n",
       "  <tbody>\n",
       "    <tr>\n",
       "      <th>(-inf, 0.2]</th>\n",
       "      <td>0.765552</td>\n",
       "      <td>0.426684</td>\n",
       "      <td>-0.584552</td>\n",
       "      <td>0.905535</td>\n",
       "    </tr>\n",
       "    <tr>\n",
       "      <th>(0.2, 0.3]</th>\n",
       "      <td>0.191187</td>\n",
       "      <td>0.201453</td>\n",
       "      <td>0.052303</td>\n",
       "      <td>0.905535</td>\n",
       "    </tr>\n",
       "    <tr>\n",
       "      <th>(0.3, inf]</th>\n",
       "      <td>0.043261</td>\n",
       "      <td>0.371863</td>\n",
       "      <td>2.151275</td>\n",
       "      <td>0.905535</td>\n",
       "    </tr>\n",
       "  </tbody>\n",
       "</table>\n",
       "</div>"
      ],
      "text/plain": [
       "loan_status         0         1       woe        iv\n",
       "row_0                                              \n",
       "(-inf, 0.2]  0.765552  0.426684 -0.584552  0.905535\n",
       "(0.2, 0.3]   0.191187  0.201453  0.052303  0.905535\n",
       "(0.3, inf]   0.043261  0.371863  2.151275  0.905535"
      ]
     },
     "execution_count": 91,
     "metadata": {},
     "output_type": "execute_result"
    }
   ],
   "source": [
    "feature = 'loan_percent_income'\n",
    "binning=[-float(\"inf\"), 0.2, 0.3, float(\"inf\")]\n",
    "\n",
    "bin_feature = pd.cut(X_train[feature], bins=binning).values.add_categories('Nan').fillna('Nan')\n",
    "data_woe_iv = (pd.crosstab(bin_feature, y_train,normalize='columns')\n",
    "             .assign(woe=lambda datax: np.log(datax[1] / datax[0]))\n",
    "             .assign(iv=lambda datax: np.sum(datax['woe']*\n",
    "                                           (datax[1]-datax[0]))))\n",
    "\n",
    "data_woe_iv"
   ]
  },
  {
   "cell_type": "code",
   "execution_count": 92,
   "metadata": {},
   "outputs": [],
   "source": [
    "X_train[f'{feature}_WOE'] = pd.cut(X_train[feature], bins=binning, labels=[-0.584552, 0.052303, 2.151275])\n",
    "X_train[f'{feature}_WOE'] = X_train[f'{feature}_WOE'].values.add_categories('Nan').fillna('Nan') \n",
    "X_train[f'{feature}_WOE'] = X_train[f'{feature}_WOE'].replace('Nan', 0)\n",
    "X_train[f'{feature}_WOE'] = X_train[f'{feature}_WOE'].astype(float)"
   ]
  },
  {
   "cell_type": "code",
   "execution_count": 93,
   "metadata": {},
   "outputs": [
    {
     "data": {
      "text/html": [
       "<div>\n",
       "<style scoped>\n",
       "    .dataframe tbody tr th:only-of-type {\n",
       "        vertical-align: middle;\n",
       "    }\n",
       "\n",
       "    .dataframe tbody tr th {\n",
       "        vertical-align: top;\n",
       "    }\n",
       "\n",
       "    .dataframe thead th {\n",
       "        text-align: right;\n",
       "    }\n",
       "</style>\n",
       "<table border=\"1\" class=\"dataframe\">\n",
       "  <thead>\n",
       "    <tr style=\"text-align: right;\">\n",
       "      <th>loan_status</th>\n",
       "      <th>0</th>\n",
       "      <th>1</th>\n",
       "      <th>woe</th>\n",
       "      <th>iv</th>\n",
       "    </tr>\n",
       "    <tr>\n",
       "      <th>row_0</th>\n",
       "      <th></th>\n",
       "      <th></th>\n",
       "      <th></th>\n",
       "      <th></th>\n",
       "    </tr>\n",
       "  </thead>\n",
       "  <tbody>\n",
       "    <tr>\n",
       "      <th>(-inf, 0.2]</th>\n",
       "      <td>0.762200</td>\n",
       "      <td>0.441739</td>\n",
       "      <td>-0.545489</td>\n",
       "      <td>0.933886</td>\n",
       "    </tr>\n",
       "    <tr>\n",
       "      <th>(0.2, 0.3]</th>\n",
       "      <td>0.193708</td>\n",
       "      <td>0.167826</td>\n",
       "      <td>-0.143425</td>\n",
       "      <td>0.933886</td>\n",
       "    </tr>\n",
       "    <tr>\n",
       "      <th>(0.3, inf]</th>\n",
       "      <td>0.044092</td>\n",
       "      <td>0.390435</td>\n",
       "      <td>2.180979</td>\n",
       "      <td>0.933886</td>\n",
       "    </tr>\n",
       "  </tbody>\n",
       "</table>\n",
       "</div>"
      ],
      "text/plain": [
       "loan_status         0         1       woe        iv\n",
       "row_0                                              \n",
       "(-inf, 0.2]  0.762200  0.441739 -0.545489  0.933886\n",
       "(0.2, 0.3]   0.193708  0.167826 -0.143425  0.933886\n",
       "(0.3, inf]   0.044092  0.390435  2.180979  0.933886"
      ]
     },
     "execution_count": 93,
     "metadata": {},
     "output_type": "execute_result"
    }
   ],
   "source": [
    "feature = 'loan_percent_income'\n",
    "binning=[-float(\"inf\"), 0.2, 0.3, float(\"inf\")]\n",
    "\n",
    "bin_feature = pd.cut(X_test[feature], bins=binning).values.add_categories('Nan').fillna('Nan')\n",
    "data_woe_iv = (pd.crosstab(bin_feature, y_test,normalize='columns')\n",
    "             .assign(woe=lambda datax: np.log(datax[1] / datax[0]))\n",
    "             .assign(iv=lambda datax: np.sum(datax['woe']*\n",
    "                                           (datax[1]-datax[0]))))\n",
    "\n",
    "data_woe_iv"
   ]
  },
  {
   "cell_type": "code",
   "execution_count": 94,
   "metadata": {},
   "outputs": [],
   "source": [
    "X_test[f'{feature}_WOE'] = pd.cut(X_test[feature], bins=binning, labels=[-0.545489, -0.143425, 2.180979])\n",
    "X_test[f'{feature}_WOE'] = X_test[f'{feature}_WOE'].values.add_categories('Nan').fillna('Nan') \n",
    "X_test[f'{feature}_WOE'] = X_test[f'{feature}_WOE'].replace('Nan', 0)\n",
    "X_test[f'{feature}_WOE'] = X_test[f'{feature}_WOE'].astype(float)"
   ]
  },
  {
   "cell_type": "code",
   "execution_count": 224,
   "metadata": {},
   "outputs": [
    {
     "data": {
      "text/html": [
       "<div>\n",
       "<style scoped>\n",
       "    .dataframe tbody tr th:only-of-type {\n",
       "        vertical-align: middle;\n",
       "    }\n",
       "\n",
       "    .dataframe tbody tr th {\n",
       "        vertical-align: top;\n",
       "    }\n",
       "\n",
       "    .dataframe thead th {\n",
       "        text-align: right;\n",
       "    }\n",
       "</style>\n",
       "<table border=\"1\" class=\"dataframe\">\n",
       "  <thead>\n",
       "    <tr style=\"text-align: right;\">\n",
       "      <th>loan_status</th>\n",
       "      <th>0</th>\n",
       "      <th>1</th>\n",
       "      <th>woe</th>\n",
       "      <th>iv</th>\n",
       "    </tr>\n",
       "    <tr>\n",
       "      <th>row_0</th>\n",
       "      <th></th>\n",
       "      <th></th>\n",
       "      <th></th>\n",
       "      <th></th>\n",
       "    </tr>\n",
       "  </thead>\n",
       "  <tbody>\n",
       "    <tr>\n",
       "      <th>(-inf, 0.2]</th>\n",
       "      <td>0.767991</td>\n",
       "      <td>0.425913</td>\n",
       "      <td>-0.589543</td>\n",
       "      <td>0.922859</td>\n",
       "    </tr>\n",
       "    <tr>\n",
       "      <th>(0.2, 0.3]</th>\n",
       "      <td>0.182855</td>\n",
       "      <td>0.178955</td>\n",
       "      <td>-0.021559</td>\n",
       "      <td>0.922859</td>\n",
       "    </tr>\n",
       "    <tr>\n",
       "      <th>(0.3, inf]</th>\n",
       "      <td>0.049155</td>\n",
       "      <td>0.395132</td>\n",
       "      <td>2.084252</td>\n",
       "      <td>0.922859</td>\n",
       "    </tr>\n",
       "  </tbody>\n",
       "</table>\n",
       "</div>"
      ],
      "text/plain": [
       "loan_status         0         1       woe        iv\n",
       "row_0                                              \n",
       "(-inf, 0.2]  0.767991  0.425913 -0.589543  0.922859\n",
       "(0.2, 0.3]   0.182855  0.178955 -0.021559  0.922859\n",
       "(0.3, inf]   0.049155  0.395132  2.084252  0.922859"
      ]
     },
     "execution_count": 224,
     "metadata": {},
     "output_type": "execute_result"
    }
   ],
   "source": [
    "feature = 'loan_percent_income'\n",
    "binning=[-float(\"inf\"), 0.2, 0.3, float(\"inf\")]\n",
    "\n",
    "bin_feature = pd.cut(holdout[feature], bins=binning).values.add_categories('Nan').fillna('Nan')\n",
    "data_woe_iv = (pd.crosstab(bin_feature, holdout[target],normalize='columns')\n",
    "             .assign(woe=lambda datax: np.log(datax[1] / datax[0]))\n",
    "             .assign(iv=lambda datax: np.sum(datax['woe']*\n",
    "                                           (datax[1]-datax[0]))))\n",
    "\n",
    "data_woe_iv"
   ]
  },
  {
   "cell_type": "code",
   "execution_count": 225,
   "metadata": {},
   "outputs": [],
   "source": [
    "holdout[f'{feature}_WOE'] = pd.cut(holdout[feature], bins=binning, labels=[-0.589543, -0.021559, 2.084252])\n",
    "holdout[f'{feature}_WOE'] = holdout[f'{feature}_WOE'].values.add_categories('Nan').fillna('Nan') \n",
    "holdout[f'{feature}_WOE'] = holdout[f'{feature}_WOE'].replace('Nan', 0)\n",
    "holdout[f'{feature}_WOE'] = holdout[f'{feature}_WOE'].astype(float)"
   ]
  },
  {
   "cell_type": "markdown",
   "metadata": {},
   "source": [
    "### credit history length"
   ]
  },
  {
   "cell_type": "code",
   "execution_count": 131,
   "metadata": {},
   "outputs": [
    {
     "data": {
      "text/html": [
       "<div>\n",
       "<style scoped>\n",
       "    .dataframe tbody tr th:only-of-type {\n",
       "        vertical-align: middle;\n",
       "    }\n",
       "\n",
       "    .dataframe tbody tr th {\n",
       "        vertical-align: top;\n",
       "    }\n",
       "\n",
       "    .dataframe thead th {\n",
       "        text-align: right;\n",
       "    }\n",
       "</style>\n",
       "<table border=\"1\" class=\"dataframe\">\n",
       "  <thead>\n",
       "    <tr style=\"text-align: right;\">\n",
       "      <th>loan_status</th>\n",
       "      <th>0</th>\n",
       "      <th>1</th>\n",
       "      <th>woe</th>\n",
       "      <th>iv</th>\n",
       "    </tr>\n",
       "    <tr>\n",
       "      <th>row_0</th>\n",
       "      <th></th>\n",
       "      <th></th>\n",
       "      <th></th>\n",
       "      <th></th>\n",
       "    </tr>\n",
       "  </thead>\n",
       "  <tbody>\n",
       "    <tr>\n",
       "      <th>(-inf, 5.0]</th>\n",
       "      <td>0.595470</td>\n",
       "      <td>0.625716</td>\n",
       "      <td>0.049544</td>\n",
       "      <td>0.003854</td>\n",
       "    </tr>\n",
       "    <tr>\n",
       "      <th>(5.0, 10.0]</th>\n",
       "      <td>0.295853</td>\n",
       "      <td>0.274328</td>\n",
       "      <td>-0.075536</td>\n",
       "      <td>0.003854</td>\n",
       "    </tr>\n",
       "    <tr>\n",
       "      <th>(10.0, inf]</th>\n",
       "      <td>0.108677</td>\n",
       "      <td>0.099956</td>\n",
       "      <td>-0.083649</td>\n",
       "      <td>0.003854</td>\n",
       "    </tr>\n",
       "  </tbody>\n",
       "</table>\n",
       "</div>"
      ],
      "text/plain": [
       "loan_status         0         1       woe        iv\n",
       "row_0                                              \n",
       "(-inf, 5.0]  0.595470  0.625716  0.049544  0.003854\n",
       "(5.0, 10.0]  0.295853  0.274328 -0.075536  0.003854\n",
       "(10.0, inf]  0.108677  0.099956 -0.083649  0.003854"
      ]
     },
     "execution_count": 131,
     "metadata": {},
     "output_type": "execute_result"
    }
   ],
   "source": [
    "feature = 'cb_person_cred_hist_length'\n",
    "binning=[-float(\"inf\"), 5, 10, float(\"inf\")]\n",
    "\n",
    "bin_feature = pd.cut(X_train[feature], bins=binning).values.add_categories('Nan').fillna('Nan')\n",
    "data_woe_iv = (pd.crosstab(bin_feature, y_train,normalize='columns')\n",
    "             .assign(woe=lambda datax: np.log(datax[1] / datax[0]))\n",
    "             .assign(iv=lambda datax: np.sum(datax['woe']*\n",
    "                                           (datax[1]-datax[0]))))\n",
    "\n",
    "data_woe_iv"
   ]
  },
  {
   "cell_type": "code",
   "execution_count": 122,
   "metadata": {},
   "outputs": [],
   "source": [
    "X_train[f'{feature}_WOE'] = pd.cut(X_train[feature], bins=binning, labels=[0.049544, -0.075536, -0.083649])\n",
    "X_train[f'{feature}_WOE'] = X_train[f'{feature}_WOE'].values.add_categories('Nan').fillna('Nan') \n",
    "X_train[f'{feature}_WOE'] = X_train[f'{feature}_WOE'].replace('Nan', 0)\n",
    "X_train[f'{feature}_WOE'] = X_train[f'{feature}_WOE'].astype(float)"
   ]
  },
  {
   "cell_type": "code",
   "execution_count": 132,
   "metadata": {},
   "outputs": [
    {
     "data": {
      "text/html": [
       "<div>\n",
       "<style scoped>\n",
       "    .dataframe tbody tr th:only-of-type {\n",
       "        vertical-align: middle;\n",
       "    }\n",
       "\n",
       "    .dataframe tbody tr th {\n",
       "        vertical-align: top;\n",
       "    }\n",
       "\n",
       "    .dataframe thead th {\n",
       "        text-align: right;\n",
       "    }\n",
       "</style>\n",
       "<table border=\"1\" class=\"dataframe\">\n",
       "  <thead>\n",
       "    <tr style=\"text-align: right;\">\n",
       "      <th>loan_status</th>\n",
       "      <th>0</th>\n",
       "      <th>1</th>\n",
       "      <th>woe</th>\n",
       "      <th>iv</th>\n",
       "    </tr>\n",
       "    <tr>\n",
       "      <th>row_0</th>\n",
       "      <th></th>\n",
       "      <th></th>\n",
       "      <th></th>\n",
       "      <th></th>\n",
       "    </tr>\n",
       "  </thead>\n",
       "  <tbody>\n",
       "    <tr>\n",
       "      <th>(-inf, 5.0]</th>\n",
       "      <td>0.605895</td>\n",
       "      <td>0.616522</td>\n",
       "      <td>0.017386</td>\n",
       "      <td>0.001314</td>\n",
       "    </tr>\n",
       "    <tr>\n",
       "      <th>(5.0, 25.0]</th>\n",
       "      <td>0.390884</td>\n",
       "      <td>0.381739</td>\n",
       "      <td>-0.023674</td>\n",
       "      <td>0.001314</td>\n",
       "    </tr>\n",
       "    <tr>\n",
       "      <th>(25.0, inf]</th>\n",
       "      <td>0.003220</td>\n",
       "      <td>0.001739</td>\n",
       "      <td>-0.616062</td>\n",
       "      <td>0.001314</td>\n",
       "    </tr>\n",
       "  </tbody>\n",
       "</table>\n",
       "</div>"
      ],
      "text/plain": [
       "loan_status         0         1       woe        iv\n",
       "row_0                                              \n",
       "(-inf, 5.0]  0.605895  0.616522  0.017386  0.001314\n",
       "(5.0, 25.0]  0.390884  0.381739 -0.023674  0.001314\n",
       "(25.0, inf]  0.003220  0.001739 -0.616062  0.001314"
      ]
     },
     "execution_count": 132,
     "metadata": {},
     "output_type": "execute_result"
    }
   ],
   "source": [
    "feature = 'cb_person_cred_hist_length'\n",
    "binning=[-float(\"inf\"), 5, 25, float(\"inf\")]\n",
    "\n",
    "bin_feature = pd.cut(X_test[feature], bins=binning).values.add_categories('Nan').fillna('Nan')\n",
    "data_woe_iv = (pd.crosstab(bin_feature, y_test,normalize='columns')\n",
    "             .assign(woe=lambda datax: np.log(datax[1] / datax[0]))\n",
    "             .assign(iv=lambda datax: np.sum(datax['woe']*\n",
    "                                           (datax[1]-datax[0]))))\n",
    "\n",
    "data_woe_iv"
   ]
  },
  {
   "cell_type": "code",
   "execution_count": 133,
   "metadata": {},
   "outputs": [],
   "source": [
    "X_test[f'{feature}_WOE'] = pd.cut(X_test[feature], bins=binning, labels=[0.017386, -0.023674, -0.616062])\n",
    "X_test[f'{feature}_WOE'] = X_test[f'{feature}_WOE'].values.add_categories('Nan').fillna('Nan') \n",
    "X_test[f'{feature}_WOE'] = X_test[f'{feature}_WOE'].replace('Nan', 0)\n",
    "X_test[f'{feature}_WOE'] = X_test[f'{feature}_WOE'].astype(float)"
   ]
  },
  {
   "cell_type": "code",
   "execution_count": 226,
   "metadata": {},
   "outputs": [
    {
     "data": {
      "text/html": [
       "<div>\n",
       "<style scoped>\n",
       "    .dataframe tbody tr th:only-of-type {\n",
       "        vertical-align: middle;\n",
       "    }\n",
       "\n",
       "    .dataframe tbody tr th {\n",
       "        vertical-align: top;\n",
       "    }\n",
       "\n",
       "    .dataframe thead th {\n",
       "        text-align: right;\n",
       "    }\n",
       "</style>\n",
       "<table border=\"1\" class=\"dataframe\">\n",
       "  <thead>\n",
       "    <tr style=\"text-align: right;\">\n",
       "      <th>loan_status</th>\n",
       "      <th>0</th>\n",
       "      <th>1</th>\n",
       "      <th>woe</th>\n",
       "      <th>iv</th>\n",
       "    </tr>\n",
       "    <tr>\n",
       "      <th>row_0</th>\n",
       "      <th></th>\n",
       "      <th></th>\n",
       "      <th></th>\n",
       "      <th></th>\n",
       "    </tr>\n",
       "  </thead>\n",
       "  <tbody>\n",
       "    <tr>\n",
       "      <th>(-inf, 5.0]</th>\n",
       "      <td>0.602241</td>\n",
       "      <td>0.627774</td>\n",
       "      <td>0.041521</td>\n",
       "      <td>0.003229</td>\n",
       "    </tr>\n",
       "    <tr>\n",
       "      <th>(5.0, 10.0]</th>\n",
       "      <td>0.290798</td>\n",
       "      <td>0.266285</td>\n",
       "      <td>-0.088063</td>\n",
       "      <td>0.003229</td>\n",
       "    </tr>\n",
       "    <tr>\n",
       "      <th>(10.0, inf]</th>\n",
       "      <td>0.106960</td>\n",
       "      <td>0.105941</td>\n",
       "      <td>-0.009572</td>\n",
       "      <td>0.003229</td>\n",
       "    </tr>\n",
       "  </tbody>\n",
       "</table>\n",
       "</div>"
      ],
      "text/plain": [
       "loan_status         0         1       woe        iv\n",
       "row_0                                              \n",
       "(-inf, 5.0]  0.602241  0.627774  0.041521  0.003229\n",
       "(5.0, 10.0]  0.290798  0.266285 -0.088063  0.003229\n",
       "(10.0, inf]  0.106960  0.105941 -0.009572  0.003229"
      ]
     },
     "execution_count": 226,
     "metadata": {},
     "output_type": "execute_result"
    }
   ],
   "source": [
    "feature = 'cb_person_cred_hist_length'\n",
    "binning=[-float(\"inf\"), 5, 10, float(\"inf\")]\n",
    "\n",
    "bin_feature = pd.cut(holdout[feature], bins=binning).values.add_categories('Nan').fillna('Nan')\n",
    "data_woe_iv = (pd.crosstab(bin_feature, holdout[target],normalize='columns')\n",
    "             .assign(woe=lambda datax: np.log(datax[1] / datax[0]))\n",
    "             .assign(iv=lambda datax: np.sum(datax['woe']*\n",
    "                                           (datax[1]-datax[0]))))\n",
    "\n",
    "data_woe_iv"
   ]
  },
  {
   "cell_type": "code",
   "execution_count": 227,
   "metadata": {},
   "outputs": [],
   "source": [
    "holdout[f'{feature}_WOE'] = pd.cut(holdout[feature], bins=binning, labels=[0.041521, -0.088063, -0.009572])\n",
    "holdout[f'{feature}_WOE'] = holdout[f'{feature}_WOE'].values.add_categories('Nan').fillna('Nan') \n",
    "holdout[f'{feature}_WOE'] = holdout[f'{feature}_WOE'].replace('Nan', 0)\n",
    "holdout[f'{feature}_WOE'] = holdout[f'{feature}_WOE'].astype(float)"
   ]
  },
  {
   "cell_type": "markdown",
   "metadata": {},
   "source": [
    "### Categorical WOE"
   ]
  },
  {
   "cell_type": "markdown",
   "metadata": {},
   "source": [
    "### person_home_ownership"
   ]
  },
  {
   "cell_type": "code",
   "execution_count": 134,
   "metadata": {},
   "outputs": [
    {
     "data": {
      "text/html": [
       "<div>\n",
       "<style scoped>\n",
       "    .dataframe tbody tr th:only-of-type {\n",
       "        vertical-align: middle;\n",
       "    }\n",
       "\n",
       "    .dataframe tbody tr th {\n",
       "        vertical-align: top;\n",
       "    }\n",
       "\n",
       "    .dataframe thead th {\n",
       "        text-align: right;\n",
       "    }\n",
       "</style>\n",
       "<table border=\"1\" class=\"dataframe\">\n",
       "  <thead>\n",
       "    <tr style=\"text-align: right;\">\n",
       "      <th>loan_status</th>\n",
       "      <th>0</th>\n",
       "      <th>1</th>\n",
       "      <th>woe</th>\n",
       "      <th>iv</th>\n",
       "    </tr>\n",
       "    <tr>\n",
       "      <th>person_home_ownership</th>\n",
       "      <th></th>\n",
       "      <th></th>\n",
       "      <th></th>\n",
       "      <th></th>\n",
       "    </tr>\n",
       "  </thead>\n",
       "  <tbody>\n",
       "    <tr>\n",
       "      <th>MORTGAGE</th>\n",
       "      <td>0.424758</td>\n",
       "      <td>0.387448</td>\n",
       "      <td>-0.091939</td>\n",
       "      <td>0.005886</td>\n",
       "    </tr>\n",
       "    <tr>\n",
       "      <th>OTHER</th>\n",
       "      <td>0.003486</td>\n",
       "      <td>0.004163</td>\n",
       "      <td>0.177484</td>\n",
       "      <td>0.005886</td>\n",
       "    </tr>\n",
       "    <tr>\n",
       "      <th>OWN</th>\n",
       "      <td>0.076287</td>\n",
       "      <td>0.079091</td>\n",
       "      <td>0.036089</td>\n",
       "      <td>0.005886</td>\n",
       "    </tr>\n",
       "    <tr>\n",
       "      <th>RENT</th>\n",
       "      <td>0.495469</td>\n",
       "      <td>0.529299</td>\n",
       "      <td>0.066049</td>\n",
       "      <td>0.005886</td>\n",
       "    </tr>\n",
       "  </tbody>\n",
       "</table>\n",
       "</div>"
      ],
      "text/plain": [
       "loan_status                   0         1       woe        iv\n",
       "person_home_ownership                                        \n",
       "MORTGAGE               0.424758  0.387448 -0.091939  0.005886\n",
       "OTHER                  0.003486  0.004163  0.177484  0.005886\n",
       "OWN                    0.076287  0.079091  0.036089  0.005886\n",
       "RENT                   0.495469  0.529299  0.066049  0.005886"
      ]
     },
     "execution_count": 134,
     "metadata": {},
     "output_type": "execute_result"
    }
   ],
   "source": [
    "feature = 'person_home_ownership'\n",
    "data_woe_iv = (pd.crosstab(X_train[feature], y_train,\n",
    "                      normalize='columns')\n",
    "             .assign(woe=lambda datax: np.log(datax[1] / datax[0]))\n",
    "             .assign(iv=lambda datax: np.sum(datax['woe']*\n",
    "                                           (datax[1]-datax[0]))))\n",
    "\n",
    "data_woe_iv"
   ]
  },
  {
   "cell_type": "code",
   "execution_count": 135,
   "metadata": {},
   "outputs": [],
   "source": [
    "X_train['person_home_ownership_WOE'] = np.where(X_train['person_home_ownership'].isin(['MORTGAGE']), -0.091939, \n",
    "                  np.where(X_train['person_home_ownership'].isin(['OTHER']), 0.177484,\n",
    "                  np.where(X_train['person_home_ownership'].isin(['OWN']), 0.036089,\n",
    "                  np.where(X_train['person_home_ownership'].isin(['RENT']), 0.066049, 0))))"
   ]
  },
  {
   "cell_type": "code",
   "execution_count": 136,
   "metadata": {},
   "outputs": [
    {
     "data": {
      "text/html": [
       "<div>\n",
       "<style scoped>\n",
       "    .dataframe tbody tr th:only-of-type {\n",
       "        vertical-align: middle;\n",
       "    }\n",
       "\n",
       "    .dataframe tbody tr th {\n",
       "        vertical-align: top;\n",
       "    }\n",
       "\n",
       "    .dataframe thead th {\n",
       "        text-align: right;\n",
       "    }\n",
       "</style>\n",
       "<table border=\"1\" class=\"dataframe\">\n",
       "  <thead>\n",
       "    <tr style=\"text-align: right;\">\n",
       "      <th>loan_status</th>\n",
       "      <th>0</th>\n",
       "      <th>1</th>\n",
       "      <th>woe</th>\n",
       "      <th>iv</th>\n",
       "    </tr>\n",
       "    <tr>\n",
       "      <th>person_home_ownership</th>\n",
       "      <th></th>\n",
       "      <th></th>\n",
       "      <th></th>\n",
       "      <th></th>\n",
       "    </tr>\n",
       "  </thead>\n",
       "  <tbody>\n",
       "    <tr>\n",
       "      <th>MORTGAGE</th>\n",
       "      <td>0.405822</td>\n",
       "      <td>0.388235</td>\n",
       "      <td>-0.044303</td>\n",
       "      <td>0.019853</td>\n",
       "    </tr>\n",
       "    <tr>\n",
       "      <th>OTHER</th>\n",
       "      <td>0.001712</td>\n",
       "      <td>0.007843</td>\n",
       "      <td>1.521785</td>\n",
       "      <td>0.019853</td>\n",
       "    </tr>\n",
       "    <tr>\n",
       "      <th>OWN</th>\n",
       "      <td>0.083904</td>\n",
       "      <td>0.113725</td>\n",
       "      <td>0.304113</td>\n",
       "      <td>0.019853</td>\n",
       "    </tr>\n",
       "    <tr>\n",
       "      <th>RENT</th>\n",
       "      <td>0.508562</td>\n",
       "      <td>0.490196</td>\n",
       "      <td>-0.036781</td>\n",
       "      <td>0.019853</td>\n",
       "    </tr>\n",
       "  </tbody>\n",
       "</table>\n",
       "</div>"
      ],
      "text/plain": [
       "loan_status                   0         1       woe        iv\n",
       "person_home_ownership                                        \n",
       "MORTGAGE               0.405822  0.388235 -0.044303  0.019853\n",
       "OTHER                  0.001712  0.007843  1.521785  0.019853\n",
       "OWN                    0.083904  0.113725  0.304113  0.019853\n",
       "RENT                   0.508562  0.490196 -0.036781  0.019853"
      ]
     },
     "execution_count": 136,
     "metadata": {},
     "output_type": "execute_result"
    }
   ],
   "source": [
    "feature = 'person_home_ownership'\n",
    "data_woe_iv = (pd.crosstab(X_test[feature], y_test,\n",
    "                      normalize='columns')\n",
    "             .assign(woe=lambda datax: np.log(datax[1] / datax[0]))\n",
    "             .assign(iv=lambda datax: np.sum(datax['woe']*\n",
    "                                           (datax[1]-datax[0]))))\n",
    "\n",
    "data_woe_iv"
   ]
  },
  {
   "cell_type": "code",
   "execution_count": 137,
   "metadata": {},
   "outputs": [],
   "source": [
    "X_test['person_home_ownership_WOE'] = np.where(X_test['person_home_ownership'].isin(['MORTGAGE']), -0.044303, \n",
    "                  np.where(X_test['person_home_ownership'].isin(['OTHER']), 1.521785,\n",
    "                  np.where(X_test['person_home_ownership'].isin(['OWN']), 0.304113,\n",
    "                  np.where(X_test['person_home_ownership'].isin(['RENT']), -0.036781, 0))))"
   ]
  },
  {
   "cell_type": "code",
   "execution_count": 228,
   "metadata": {},
   "outputs": [
    {
     "data": {
      "text/html": [
       "<div>\n",
       "<style scoped>\n",
       "    .dataframe tbody tr th:only-of-type {\n",
       "        vertical-align: middle;\n",
       "    }\n",
       "\n",
       "    .dataframe tbody tr th {\n",
       "        vertical-align: top;\n",
       "    }\n",
       "\n",
       "    .dataframe thead th {\n",
       "        text-align: right;\n",
       "    }\n",
       "</style>\n",
       "<table border=\"1\" class=\"dataframe\">\n",
       "  <thead>\n",
       "    <tr style=\"text-align: right;\">\n",
       "      <th>loan_status</th>\n",
       "      <th>0</th>\n",
       "      <th>1</th>\n",
       "      <th>woe</th>\n",
       "      <th>iv</th>\n",
       "    </tr>\n",
       "    <tr>\n",
       "      <th>person_home_ownership</th>\n",
       "      <th></th>\n",
       "      <th></th>\n",
       "      <th></th>\n",
       "      <th></th>\n",
       "    </tr>\n",
       "  </thead>\n",
       "  <tbody>\n",
       "    <tr>\n",
       "      <th>MORTGAGE</th>\n",
       "      <td>0.460283</td>\n",
       "      <td>0.230494</td>\n",
       "      <td>-0.691617</td>\n",
       "      <td>0.41779</td>\n",
       "    </tr>\n",
       "    <tr>\n",
       "      <th>OTHER</th>\n",
       "      <td>0.002556</td>\n",
       "      <td>0.002147</td>\n",
       "      <td>-0.174172</td>\n",
       "      <td>0.41779</td>\n",
       "    </tr>\n",
       "    <tr>\n",
       "      <th>OWN</th>\n",
       "      <td>0.100275</td>\n",
       "      <td>0.026485</td>\n",
       "      <td>-1.331328</td>\n",
       "      <td>0.41779</td>\n",
       "    </tr>\n",
       "    <tr>\n",
       "      <th>RENT</th>\n",
       "      <td>0.436886</td>\n",
       "      <td>0.740873</td>\n",
       "      <td>0.528158</td>\n",
       "      <td>0.41779</td>\n",
       "    </tr>\n",
       "  </tbody>\n",
       "</table>\n",
       "</div>"
      ],
      "text/plain": [
       "loan_status                   0         1       woe       iv\n",
       "person_home_ownership                                       \n",
       "MORTGAGE               0.460283  0.230494 -0.691617  0.41779\n",
       "OTHER                  0.002556  0.002147 -0.174172  0.41779\n",
       "OWN                    0.100275  0.026485 -1.331328  0.41779\n",
       "RENT                   0.436886  0.740873  0.528158  0.41779"
      ]
     },
     "execution_count": 228,
     "metadata": {},
     "output_type": "execute_result"
    }
   ],
   "source": [
    "feature = 'person_home_ownership'\n",
    "data_woe_iv = (pd.crosstab(holdout[feature], holdout[target],\n",
    "                      normalize='columns')\n",
    "             .assign(woe=lambda datax: np.log(datax[1] / datax[0]))\n",
    "             .assign(iv=lambda datax: np.sum(datax['woe']*\n",
    "                                           (datax[1]-datax[0]))))\n",
    "\n",
    "data_woe_iv"
   ]
  },
  {
   "cell_type": "code",
   "execution_count": 229,
   "metadata": {},
   "outputs": [],
   "source": [
    "holdout['person_home_ownership_WOE'] = np.where(holdout['person_home_ownership'].isin(['MORTGAGE']), -0.691617, \n",
    "                  np.where(holdout['person_home_ownership'].isin(['OTHER']), -0.174172,\n",
    "                  np.where(holdout['person_home_ownership'].isin(['OWN']), -1.331328,\n",
    "                  np.where(holdout['person_home_ownership'].isin(['RENT']), 0.528158, 0))))"
   ]
  },
  {
   "cell_type": "markdown",
   "metadata": {},
   "source": [
    "### Loan intent"
   ]
  },
  {
   "cell_type": "code",
   "execution_count": 138,
   "metadata": {},
   "outputs": [
    {
     "data": {
      "text/html": [
       "<div>\n",
       "<style scoped>\n",
       "    .dataframe tbody tr th:only-of-type {\n",
       "        vertical-align: middle;\n",
       "    }\n",
       "\n",
       "    .dataframe tbody tr th {\n",
       "        vertical-align: top;\n",
       "    }\n",
       "\n",
       "    .dataframe thead th {\n",
       "        text-align: right;\n",
       "    }\n",
       "</style>\n",
       "<table border=\"1\" class=\"dataframe\">\n",
       "  <thead>\n",
       "    <tr style=\"text-align: right;\">\n",
       "      <th>loan_status</th>\n",
       "      <th>0</th>\n",
       "      <th>1</th>\n",
       "      <th>woe</th>\n",
       "      <th>iv</th>\n",
       "    </tr>\n",
       "    <tr>\n",
       "      <th>loan_intent</th>\n",
       "      <th></th>\n",
       "      <th></th>\n",
       "      <th></th>\n",
       "      <th></th>\n",
       "    </tr>\n",
       "  </thead>\n",
       "  <tbody>\n",
       "    <tr>\n",
       "      <th>DEBTCONSOLIDATION</th>\n",
       "      <td>0.166617</td>\n",
       "      <td>0.160423</td>\n",
       "      <td>-0.037885</td>\n",
       "      <td>0.002895</td>\n",
       "    </tr>\n",
       "    <tr>\n",
       "      <th>EDUCATION</th>\n",
       "      <td>0.195698</td>\n",
       "      <td>0.198207</td>\n",
       "      <td>0.012740</td>\n",
       "      <td>0.002895</td>\n",
       "    </tr>\n",
       "    <tr>\n",
       "      <th>HOMEIMPROVEMENT</th>\n",
       "      <td>0.109451</td>\n",
       "      <td>0.095421</td>\n",
       "      <td>-0.137180</td>\n",
       "      <td>0.002895</td>\n",
       "    </tr>\n",
       "    <tr>\n",
       "      <th>MEDICAL</th>\n",
       "      <td>0.188527</td>\n",
       "      <td>0.192443</td>\n",
       "      <td>0.020559</td>\n",
       "      <td>0.002895</td>\n",
       "    </tr>\n",
       "    <tr>\n",
       "      <th>PERSONAL</th>\n",
       "      <td>0.164326</td>\n",
       "      <td>0.168428</td>\n",
       "      <td>0.024653</td>\n",
       "      <td>0.002895</td>\n",
       "    </tr>\n",
       "    <tr>\n",
       "      <th>VENTURE</th>\n",
       "      <td>0.175381</td>\n",
       "      <td>0.185078</td>\n",
       "      <td>0.053819</td>\n",
       "      <td>0.002895</td>\n",
       "    </tr>\n",
       "  </tbody>\n",
       "</table>\n",
       "</div>"
      ],
      "text/plain": [
       "loan_status               0         1       woe        iv\n",
       "loan_intent                                              \n",
       "DEBTCONSOLIDATION  0.166617  0.160423 -0.037885  0.002895\n",
       "EDUCATION          0.195698  0.198207  0.012740  0.002895\n",
       "HOMEIMPROVEMENT    0.109451  0.095421 -0.137180  0.002895\n",
       "MEDICAL            0.188527  0.192443  0.020559  0.002895\n",
       "PERSONAL           0.164326  0.168428  0.024653  0.002895\n",
       "VENTURE            0.175381  0.185078  0.053819  0.002895"
      ]
     },
     "execution_count": 138,
     "metadata": {},
     "output_type": "execute_result"
    }
   ],
   "source": [
    "feature = 'loan_intent'\n",
    "data_woe_iv = (pd.crosstab(X_train[feature], y_train,\n",
    "                      normalize='columns')\n",
    "             .assign(woe=lambda datax: np.log(datax[1] / datax[0]))\n",
    "             .assign(iv=lambda datax: np.sum(datax['woe']*\n",
    "                                           (datax[1]-datax[0]))))\n",
    "\n",
    "data_woe_iv"
   ]
  },
  {
   "cell_type": "code",
   "execution_count": 139,
   "metadata": {},
   "outputs": [],
   "source": [
    "X_train['loan_intent_WOE'] = np.where(X_train['loan_intent'].isin(['DEBTCONSOLIDATION']), -0.037885, \n",
    "                  np.where(X_train['loan_intent'].isin(['EDUCATION']), 0.012740,\n",
    "                  np.where(X_train['loan_intent'].isin(['HOMEIMPROVEMENT']), -0.137180,\n",
    "                  np.where(X_train['loan_intent'].isin(['MEDICAL']), 0.020559,\n",
    "                  np.where(X_train['loan_intent'].isin(['PERSONAL']), 0.024653, \n",
    "                  np.where(X_train['loan_intent'].isin(['VENTURE']), 0.053819, 0))))))"
   ]
  },
  {
   "cell_type": "code",
   "execution_count": 140,
   "metadata": {},
   "outputs": [
    {
     "data": {
      "text/html": [
       "<div>\n",
       "<style scoped>\n",
       "    .dataframe tbody tr th:only-of-type {\n",
       "        vertical-align: middle;\n",
       "    }\n",
       "\n",
       "    .dataframe tbody tr th {\n",
       "        vertical-align: top;\n",
       "    }\n",
       "\n",
       "    .dataframe thead th {\n",
       "        text-align: right;\n",
       "    }\n",
       "</style>\n",
       "<table border=\"1\" class=\"dataframe\">\n",
       "  <thead>\n",
       "    <tr style=\"text-align: right;\">\n",
       "      <th>loan_status</th>\n",
       "      <th>0</th>\n",
       "      <th>1</th>\n",
       "      <th>woe</th>\n",
       "      <th>iv</th>\n",
       "    </tr>\n",
       "    <tr>\n",
       "      <th>loan_intent</th>\n",
       "      <th></th>\n",
       "      <th></th>\n",
       "      <th></th>\n",
       "      <th></th>\n",
       "    </tr>\n",
       "  </thead>\n",
       "  <tbody>\n",
       "    <tr>\n",
       "      <th>DEBTCONSOLIDATION</th>\n",
       "      <td>0.176370</td>\n",
       "      <td>0.145098</td>\n",
       "      <td>-0.195174</td>\n",
       "      <td>0.00892</td>\n",
       "    </tr>\n",
       "    <tr>\n",
       "      <th>EDUCATION</th>\n",
       "      <td>0.203767</td>\n",
       "      <td>0.200000</td>\n",
       "      <td>-0.018660</td>\n",
       "      <td>0.00892</td>\n",
       "    </tr>\n",
       "    <tr>\n",
       "      <th>HOMEIMPROVEMENT</th>\n",
       "      <td>0.135274</td>\n",
       "      <td>0.141176</td>\n",
       "      <td>0.042709</td>\n",
       "      <td>0.00892</td>\n",
       "    </tr>\n",
       "    <tr>\n",
       "      <th>MEDICAL</th>\n",
       "      <td>0.152397</td>\n",
       "      <td>0.152941</td>\n",
       "      <td>0.003563</td>\n",
       "      <td>0.00892</td>\n",
       "    </tr>\n",
       "    <tr>\n",
       "      <th>PERSONAL</th>\n",
       "      <td>0.172945</td>\n",
       "      <td>0.184314</td>\n",
       "      <td>0.063665</td>\n",
       "      <td>0.00892</td>\n",
       "    </tr>\n",
       "    <tr>\n",
       "      <th>VENTURE</th>\n",
       "      <td>0.159247</td>\n",
       "      <td>0.176471</td>\n",
       "      <td>0.102700</td>\n",
       "      <td>0.00892</td>\n",
       "    </tr>\n",
       "  </tbody>\n",
       "</table>\n",
       "</div>"
      ],
      "text/plain": [
       "loan_status               0         1       woe       iv\n",
       "loan_intent                                             \n",
       "DEBTCONSOLIDATION  0.176370  0.145098 -0.195174  0.00892\n",
       "EDUCATION          0.203767  0.200000 -0.018660  0.00892\n",
       "HOMEIMPROVEMENT    0.135274  0.141176  0.042709  0.00892\n",
       "MEDICAL            0.152397  0.152941  0.003563  0.00892\n",
       "PERSONAL           0.172945  0.184314  0.063665  0.00892\n",
       "VENTURE            0.159247  0.176471  0.102700  0.00892"
      ]
     },
     "execution_count": 140,
     "metadata": {},
     "output_type": "execute_result"
    }
   ],
   "source": [
    "feature = 'loan_intent'\n",
    "data_woe_iv = (pd.crosstab(X_test[feature], y_test,\n",
    "                      normalize='columns')\n",
    "             .assign(woe=lambda datax: np.log(datax[1] / datax[0]))\n",
    "             .assign(iv=lambda datax: np.sum(datax['woe']*\n",
    "                                           (datax[1]-datax[0]))))\n",
    "\n",
    "data_woe_iv"
   ]
  },
  {
   "cell_type": "code",
   "execution_count": 141,
   "metadata": {},
   "outputs": [],
   "source": [
    "X_test['loan_intent_WOE'] = np.where(X_test['loan_intent'].isin(['DEBTCONSOLIDATION']), -0.195174, \n",
    "                  np.where(X_test['loan_intent'].isin(['EDUCATION']), -0.018660,\n",
    "                  np.where(X_test['loan_intent'].isin(['HOMEIMPROVEMENT']), 0.042709,\n",
    "                  np.where(X_test['loan_intent'].isin(['MEDICAL']), 0.003563,\n",
    "                  np.where(X_test['loan_intent'].isin(['PERSONAL']), 0.063665, \n",
    "                  np.where(X_test['loan_intent'].isin(['VENTURE']), 0.102700, 0))))))"
   ]
  },
  {
   "cell_type": "code",
   "execution_count": 230,
   "metadata": {},
   "outputs": [
    {
     "data": {
      "text/html": [
       "<div>\n",
       "<style scoped>\n",
       "    .dataframe tbody tr th:only-of-type {\n",
       "        vertical-align: middle;\n",
       "    }\n",
       "\n",
       "    .dataframe tbody tr th {\n",
       "        vertical-align: top;\n",
       "    }\n",
       "\n",
       "    .dataframe thead th {\n",
       "        text-align: right;\n",
       "    }\n",
       "</style>\n",
       "<table border=\"1\" class=\"dataframe\">\n",
       "  <thead>\n",
       "    <tr style=\"text-align: right;\">\n",
       "      <th>loan_status</th>\n",
       "      <th>0</th>\n",
       "      <th>1</th>\n",
       "      <th>woe</th>\n",
       "      <th>iv</th>\n",
       "    </tr>\n",
       "    <tr>\n",
       "      <th>loan_intent</th>\n",
       "      <th></th>\n",
       "      <th></th>\n",
       "      <th></th>\n",
       "      <th></th>\n",
       "    </tr>\n",
       "  </thead>\n",
       "  <tbody>\n",
       "    <tr>\n",
       "      <th>DEBTCONSOLIDATION</th>\n",
       "      <td>0.142155</td>\n",
       "      <td>0.205440</td>\n",
       "      <td>0.368238</td>\n",
       "      <td>0.076327</td>\n",
       "    </tr>\n",
       "    <tr>\n",
       "      <th>EDUCATION</th>\n",
       "      <td>0.208612</td>\n",
       "      <td>0.167502</td>\n",
       "      <td>-0.219481</td>\n",
       "      <td>0.076327</td>\n",
       "    </tr>\n",
       "    <tr>\n",
       "      <th>HOMEIMPROVEMENT</th>\n",
       "      <td>0.114628</td>\n",
       "      <td>0.134574</td>\n",
       "      <td>0.160419</td>\n",
       "      <td>0.076327</td>\n",
       "    </tr>\n",
       "    <tr>\n",
       "      <th>MEDICAL</th>\n",
       "      <td>0.173614</td>\n",
       "      <td>0.216893</td>\n",
       "      <td>0.222572</td>\n",
       "      <td>0.076327</td>\n",
       "    </tr>\n",
       "    <tr>\n",
       "      <th>PERSONAL</th>\n",
       "      <td>0.172827</td>\n",
       "      <td>0.153901</td>\n",
       "      <td>-0.115982</td>\n",
       "      <td>0.076327</td>\n",
       "    </tr>\n",
       "    <tr>\n",
       "      <th>VENTURE</th>\n",
       "      <td>0.188164</td>\n",
       "      <td>0.121689</td>\n",
       "      <td>-0.435840</td>\n",
       "      <td>0.076327</td>\n",
       "    </tr>\n",
       "  </tbody>\n",
       "</table>\n",
       "</div>"
      ],
      "text/plain": [
       "loan_status               0         1       woe        iv\n",
       "loan_intent                                              \n",
       "DEBTCONSOLIDATION  0.142155  0.205440  0.368238  0.076327\n",
       "EDUCATION          0.208612  0.167502 -0.219481  0.076327\n",
       "HOMEIMPROVEMENT    0.114628  0.134574  0.160419  0.076327\n",
       "MEDICAL            0.173614  0.216893  0.222572  0.076327\n",
       "PERSONAL           0.172827  0.153901 -0.115982  0.076327\n",
       "VENTURE            0.188164  0.121689 -0.435840  0.076327"
      ]
     },
     "execution_count": 230,
     "metadata": {},
     "output_type": "execute_result"
    }
   ],
   "source": [
    "feature = 'loan_intent'\n",
    "data_woe_iv = (pd.crosstab(holdout[feature], holdout[target],\n",
    "                      normalize='columns')\n",
    "             .assign(woe=lambda datax: np.log(datax[1] / datax[0]))\n",
    "             .assign(iv=lambda datax: np.sum(datax['woe']*\n",
    "                                           (datax[1]-datax[0]))))\n",
    "\n",
    "data_woe_iv"
   ]
  },
  {
   "cell_type": "code",
   "execution_count": 231,
   "metadata": {},
   "outputs": [],
   "source": [
    "holdout['loan_intent_WOE'] = np.where(holdout['loan_intent'].isin(['DEBTCONSOLIDATION']), 0.368238, \n",
    "                  np.where(holdout['loan_intent'].isin(['EDUCATION']), -0.219481,\n",
    "                  np.where(holdout['loan_intent'].isin(['HOMEIMPROVEMENT']), 0.160419,\n",
    "                  np.where(holdout['loan_intent'].isin(['MEDICAL']), 0.222572,\n",
    "                  np.where(holdout['loan_intent'].isin(['PERSONAL']), -0.115982, \n",
    "                  np.where(holdout['loan_intent'].isin(['VENTURE']), -0.435840, 0))))))"
   ]
  },
  {
   "cell_type": "markdown",
   "metadata": {},
   "source": [
    "### Loan Grade"
   ]
  },
  {
   "cell_type": "code",
   "execution_count": 142,
   "metadata": {},
   "outputs": [
    {
     "data": {
      "text/html": [
       "<div>\n",
       "<style scoped>\n",
       "    .dataframe tbody tr th:only-of-type {\n",
       "        vertical-align: middle;\n",
       "    }\n",
       "\n",
       "    .dataframe tbody tr th {\n",
       "        vertical-align: top;\n",
       "    }\n",
       "\n",
       "    .dataframe thead th {\n",
       "        text-align: right;\n",
       "    }\n",
       "</style>\n",
       "<table border=\"1\" class=\"dataframe\">\n",
       "  <thead>\n",
       "    <tr style=\"text-align: right;\">\n",
       "      <th>loan_status</th>\n",
       "      <th>0</th>\n",
       "      <th>1</th>\n",
       "      <th>woe</th>\n",
       "      <th>iv</th>\n",
       "    </tr>\n",
       "    <tr>\n",
       "      <th>loan_grade</th>\n",
       "      <th></th>\n",
       "      <th></th>\n",
       "      <th></th>\n",
       "      <th></th>\n",
       "    </tr>\n",
       "  </thead>\n",
       "  <tbody>\n",
       "    <tr>\n",
       "      <th>A</th>\n",
       "      <td>0.330146</td>\n",
       "      <td>0.314761</td>\n",
       "      <td>-0.047721</td>\n",
       "      <td>0.003328</td>\n",
       "    </tr>\n",
       "    <tr>\n",
       "      <th>B</th>\n",
       "      <td>0.325266</td>\n",
       "      <td>0.330772</td>\n",
       "      <td>0.016784</td>\n",
       "      <td>0.003328</td>\n",
       "    </tr>\n",
       "    <tr>\n",
       "      <th>C</th>\n",
       "      <td>0.194503</td>\n",
       "      <td>0.200128</td>\n",
       "      <td>0.028512</td>\n",
       "      <td>0.003328</td>\n",
       "    </tr>\n",
       "    <tr>\n",
       "      <th>D</th>\n",
       "      <td>0.113037</td>\n",
       "      <td>0.114954</td>\n",
       "      <td>0.016817</td>\n",
       "      <td>0.003328</td>\n",
       "    </tr>\n",
       "    <tr>\n",
       "      <th>E</th>\n",
       "      <td>0.028384</td>\n",
       "      <td>0.029139</td>\n",
       "      <td>0.026253</td>\n",
       "      <td>0.003328</td>\n",
       "    </tr>\n",
       "    <tr>\n",
       "      <th>F</th>\n",
       "      <td>0.007370</td>\n",
       "      <td>0.006724</td>\n",
       "      <td>-0.091660</td>\n",
       "      <td>0.003328</td>\n",
       "    </tr>\n",
       "    <tr>\n",
       "      <th>G</th>\n",
       "      <td>0.001295</td>\n",
       "      <td>0.003522</td>\n",
       "      <td>1.000829</td>\n",
       "      <td>0.003328</td>\n",
       "    </tr>\n",
       "  </tbody>\n",
       "</table>\n",
       "</div>"
      ],
      "text/plain": [
       "loan_status         0         1       woe        iv\n",
       "loan_grade                                         \n",
       "A            0.330146  0.314761 -0.047721  0.003328\n",
       "B            0.325266  0.330772  0.016784  0.003328\n",
       "C            0.194503  0.200128  0.028512  0.003328\n",
       "D            0.113037  0.114954  0.016817  0.003328\n",
       "E            0.028384  0.029139  0.026253  0.003328\n",
       "F            0.007370  0.006724 -0.091660  0.003328\n",
       "G            0.001295  0.003522  1.000829  0.003328"
      ]
     },
     "execution_count": 142,
     "metadata": {},
     "output_type": "execute_result"
    }
   ],
   "source": [
    "feature = 'loan_grade'\n",
    "data_woe_iv = (pd.crosstab(X_train[feature], y_train,\n",
    "                      normalize='columns')\n",
    "             .assign(woe=lambda datax: np.log(datax[1] / datax[0]))\n",
    "             .assign(iv=lambda datax: np.sum(datax['woe']*\n",
    "                                           (datax[1]-datax[0]))))\n",
    "\n",
    "data_woe_iv"
   ]
  },
  {
   "cell_type": "code",
   "execution_count": 143,
   "metadata": {},
   "outputs": [],
   "source": [
    "X_train['loan_grade_WOE'] = np.where(X_train['loan_grade'].isin(['A']), -0.047721, \n",
    "                  np.where(X_train['loan_grade'].isin(['B']), 0.016784,\n",
    "                  np.where(X_train['loan_grade'].isin(['C']), 0.028512,\n",
    "                  np.where(X_train['loan_grade'].isin(['D']), 0.016817,\n",
    "                  np.where(X_train['loan_grade'].isin(['E']), 0.026253, \n",
    "                  np.where(X_train['loan_grade'].isin(['F']), -0.091660,\n",
    "                  np.where(X_train['loan_grade'].isin(['G']), 1.000829, 0)))))))"
   ]
  },
  {
   "cell_type": "code",
   "execution_count": 144,
   "metadata": {},
   "outputs": [
    {
     "data": {
      "text/html": [
       "<div>\n",
       "<style scoped>\n",
       "    .dataframe tbody tr th:only-of-type {\n",
       "        vertical-align: middle;\n",
       "    }\n",
       "\n",
       "    .dataframe tbody tr th {\n",
       "        vertical-align: top;\n",
       "    }\n",
       "\n",
       "    .dataframe thead th {\n",
       "        text-align: right;\n",
       "    }\n",
       "</style>\n",
       "<table border=\"1\" class=\"dataframe\">\n",
       "  <thead>\n",
       "    <tr style=\"text-align: right;\">\n",
       "      <th>loan_status</th>\n",
       "      <th>0</th>\n",
       "      <th>1</th>\n",
       "      <th>woe</th>\n",
       "      <th>iv</th>\n",
       "    </tr>\n",
       "    <tr>\n",
       "      <th>loan_grade</th>\n",
       "      <th></th>\n",
       "      <th></th>\n",
       "      <th></th>\n",
       "      <th></th>\n",
       "    </tr>\n",
       "  </thead>\n",
       "  <tbody>\n",
       "    <tr>\n",
       "      <th>A</th>\n",
       "      <td>0.328767</td>\n",
       "      <td>0.384314</td>\n",
       "      <td>0.156110</td>\n",
       "      <td>0.048651</td>\n",
       "    </tr>\n",
       "    <tr>\n",
       "      <th>B</th>\n",
       "      <td>0.287671</td>\n",
       "      <td>0.274510</td>\n",
       "      <td>-0.046831</td>\n",
       "      <td>0.048651</td>\n",
       "    </tr>\n",
       "    <tr>\n",
       "      <th>C</th>\n",
       "      <td>0.198630</td>\n",
       "      <td>0.219608</td>\n",
       "      <td>0.100399</td>\n",
       "      <td>0.048651</td>\n",
       "    </tr>\n",
       "    <tr>\n",
       "      <th>D</th>\n",
       "      <td>0.135274</td>\n",
       "      <td>0.094118</td>\n",
       "      <td>-0.362757</td>\n",
       "      <td>0.048651</td>\n",
       "    </tr>\n",
       "    <tr>\n",
       "      <th>E</th>\n",
       "      <td>0.044521</td>\n",
       "      <td>0.019608</td>\n",
       "      <td>-0.820021</td>\n",
       "      <td>0.048651</td>\n",
       "    </tr>\n",
       "    <tr>\n",
       "      <th>F</th>\n",
       "      <td>0.003425</td>\n",
       "      <td>0.003922</td>\n",
       "      <td>0.135490</td>\n",
       "      <td>0.048651</td>\n",
       "    </tr>\n",
       "    <tr>\n",
       "      <th>G</th>\n",
       "      <td>0.001712</td>\n",
       "      <td>0.003922</td>\n",
       "      <td>0.828637</td>\n",
       "      <td>0.048651</td>\n",
       "    </tr>\n",
       "  </tbody>\n",
       "</table>\n",
       "</div>"
      ],
      "text/plain": [
       "loan_status         0         1       woe        iv\n",
       "loan_grade                                         \n",
       "A            0.328767  0.384314  0.156110  0.048651\n",
       "B            0.287671  0.274510 -0.046831  0.048651\n",
       "C            0.198630  0.219608  0.100399  0.048651\n",
       "D            0.135274  0.094118 -0.362757  0.048651\n",
       "E            0.044521  0.019608 -0.820021  0.048651\n",
       "F            0.003425  0.003922  0.135490  0.048651\n",
       "G            0.001712  0.003922  0.828637  0.048651"
      ]
     },
     "execution_count": 144,
     "metadata": {},
     "output_type": "execute_result"
    }
   ],
   "source": [
    "feature = 'loan_grade'\n",
    "data_woe_iv = (pd.crosstab(X_test[feature], y_test,\n",
    "                      normalize='columns')\n",
    "             .assign(woe=lambda datax: np.log(datax[1] / datax[0]))\n",
    "             .assign(iv=lambda datax: np.sum(datax['woe']*\n",
    "                                           (datax[1]-datax[0]))))\n",
    "\n",
    "data_woe_iv"
   ]
  },
  {
   "cell_type": "code",
   "execution_count": 145,
   "metadata": {},
   "outputs": [],
   "source": [
    "X_test['loan_grade_WOE'] = np.where(X_test['loan_grade'].isin(['A']), 0.156110, \n",
    "                  np.where(X_test['loan_grade'].isin(['B']), -0.046831,\n",
    "                  np.where(X_test['loan_grade'].isin(['C']), 0.100399,\n",
    "                  np.where(X_test['loan_grade'].isin(['D']), -0.362757,\n",
    "                  np.where(X_test['loan_grade'].isin(['E']), -0.820021, \n",
    "                  np.where(X_test['loan_grade'].isin(['F']), 0.135490,\n",
    "                  np.where(X_test['loan_grade'].isin(['G']), 0.828637, 0)))))))"
   ]
  },
  {
   "cell_type": "code",
   "execution_count": 232,
   "metadata": {},
   "outputs": [
    {
     "data": {
      "text/html": [
       "<div>\n",
       "<style scoped>\n",
       "    .dataframe tbody tr th:only-of-type {\n",
       "        vertical-align: middle;\n",
       "    }\n",
       "\n",
       "    .dataframe tbody tr th {\n",
       "        vertical-align: top;\n",
       "    }\n",
       "\n",
       "    .dataframe thead th {\n",
       "        text-align: right;\n",
       "    }\n",
       "</style>\n",
       "<table border=\"1\" class=\"dataframe\">\n",
       "  <thead>\n",
       "    <tr style=\"text-align: right;\">\n",
       "      <th>loan_status</th>\n",
       "      <th>0</th>\n",
       "      <th>1</th>\n",
       "      <th>woe</th>\n",
       "      <th>iv</th>\n",
       "    </tr>\n",
       "    <tr>\n",
       "      <th>loan_grade</th>\n",
       "      <th></th>\n",
       "      <th></th>\n",
       "      <th></th>\n",
       "      <th></th>\n",
       "    </tr>\n",
       "  </thead>\n",
       "  <tbody>\n",
       "    <tr>\n",
       "      <th>A</th>\n",
       "      <td>0.382226</td>\n",
       "      <td>0.151754</td>\n",
       "      <td>-0.923752</td>\n",
       "      <td>inf</td>\n",
       "    </tr>\n",
       "    <tr>\n",
       "      <th>B</th>\n",
       "      <td>0.337397</td>\n",
       "      <td>0.232641</td>\n",
       "      <td>-0.371762</td>\n",
       "      <td>inf</td>\n",
       "    </tr>\n",
       "    <tr>\n",
       "      <th>C</th>\n",
       "      <td>0.202123</td>\n",
       "      <td>0.186829</td>\n",
       "      <td>-0.078685</td>\n",
       "      <td>inf</td>\n",
       "    </tr>\n",
       "    <tr>\n",
       "      <th>D</th>\n",
       "      <td>0.061541</td>\n",
       "      <td>0.292054</td>\n",
       "      <td>1.557229</td>\n",
       "      <td>inf</td>\n",
       "    </tr>\n",
       "    <tr>\n",
       "      <th>E</th>\n",
       "      <td>0.013567</td>\n",
       "      <td>0.101646</td>\n",
       "      <td>2.013885</td>\n",
       "      <td>inf</td>\n",
       "    </tr>\n",
       "    <tr>\n",
       "      <th>F</th>\n",
       "      <td>0.003146</td>\n",
       "      <td>0.026485</td>\n",
       "      <td>2.130494</td>\n",
       "      <td>inf</td>\n",
       "    </tr>\n",
       "    <tr>\n",
       "      <th>G</th>\n",
       "      <td>0.000000</td>\n",
       "      <td>0.008590</td>\n",
       "      <td>inf</td>\n",
       "      <td>inf</td>\n",
       "    </tr>\n",
       "  </tbody>\n",
       "</table>\n",
       "</div>"
      ],
      "text/plain": [
       "loan_status         0         1       woe   iv\n",
       "loan_grade                                    \n",
       "A            0.382226  0.151754 -0.923752  inf\n",
       "B            0.337397  0.232641 -0.371762  inf\n",
       "C            0.202123  0.186829 -0.078685  inf\n",
       "D            0.061541  0.292054  1.557229  inf\n",
       "E            0.013567  0.101646  2.013885  inf\n",
       "F            0.003146  0.026485  2.130494  inf\n",
       "G            0.000000  0.008590       inf  inf"
      ]
     },
     "execution_count": 232,
     "metadata": {},
     "output_type": "execute_result"
    }
   ],
   "source": [
    "feature = 'loan_grade'\n",
    "data_woe_iv = (pd.crosstab(holdout[feature], holdout[target],\n",
    "                      normalize='columns')\n",
    "             .assign(woe=lambda datax: np.log(datax[1] / datax[0]))\n",
    "             .assign(iv=lambda datax: np.sum(datax['woe']*\n",
    "                                           (datax[1]-datax[0]))))\n",
    "\n",
    "data_woe_iv"
   ]
  },
  {
   "cell_type": "code",
   "execution_count": 238,
   "metadata": {},
   "outputs": [],
   "source": [
    "holdout['loan_grade_WOE'] = np.where(holdout['loan_grade'].isin(['A']), -0.923752, \n",
    "                  np.where(holdout['loan_grade'].isin(['B']), -0.371762,\n",
    "                  np.where(holdout['loan_grade'].isin(['C']), -0.078685,\n",
    "                  np.where(holdout['loan_grade'].isin(['D']), 1.557229,\n",
    "                  np.where(holdout['loan_grade'].isin(['E']), 2.013885, \n",
    "                  np.where(holdout['loan_grade'].isin(['F']), 2.130494, 0))))))"
   ]
  },
  {
   "cell_type": "markdown",
   "metadata": {},
   "source": [
    "### cb_person_default_on_file"
   ]
  },
  {
   "cell_type": "code",
   "execution_count": 146,
   "metadata": {},
   "outputs": [
    {
     "data": {
      "text/html": [
       "<div>\n",
       "<style scoped>\n",
       "    .dataframe tbody tr th:only-of-type {\n",
       "        vertical-align: middle;\n",
       "    }\n",
       "\n",
       "    .dataframe tbody tr th {\n",
       "        vertical-align: top;\n",
       "    }\n",
       "\n",
       "    .dataframe thead th {\n",
       "        text-align: right;\n",
       "    }\n",
       "</style>\n",
       "<table border=\"1\" class=\"dataframe\">\n",
       "  <thead>\n",
       "    <tr style=\"text-align: right;\">\n",
       "      <th>loan_status</th>\n",
       "      <th>0</th>\n",
       "      <th>1</th>\n",
       "      <th>woe</th>\n",
       "      <th>iv</th>\n",
       "    </tr>\n",
       "    <tr>\n",
       "      <th>cb_person_default_on_file</th>\n",
       "      <th></th>\n",
       "      <th></th>\n",
       "      <th></th>\n",
       "      <th></th>\n",
       "    </tr>\n",
       "  </thead>\n",
       "  <tbody>\n",
       "    <tr>\n",
       "      <th>N</th>\n",
       "      <td>0.827607</td>\n",
       "      <td>0.825488</td>\n",
       "      <td>-0.002563</td>\n",
       "      <td>0.000031</td>\n",
       "    </tr>\n",
       "    <tr>\n",
       "      <th>Y</th>\n",
       "      <td>0.172393</td>\n",
       "      <td>0.174512</td>\n",
       "      <td>0.012214</td>\n",
       "      <td>0.000031</td>\n",
       "    </tr>\n",
       "  </tbody>\n",
       "</table>\n",
       "</div>"
      ],
      "text/plain": [
       "loan_status                       0         1       woe        iv\n",
       "cb_person_default_on_file                                        \n",
       "N                          0.827607  0.825488 -0.002563  0.000031\n",
       "Y                          0.172393  0.174512  0.012214  0.000031"
      ]
     },
     "execution_count": 146,
     "metadata": {},
     "output_type": "execute_result"
    }
   ],
   "source": [
    "feature = 'cb_person_default_on_file'\n",
    "data_woe_iv = (pd.crosstab(X_train[feature], y_train,\n",
    "                      normalize='columns')\n",
    "             .assign(woe=lambda datax: np.log(datax[1] / datax[0]))\n",
    "             .assign(iv=lambda datax: np.sum(datax['woe']*\n",
    "                                           (datax[1]-datax[0]))))\n",
    "\n",
    "data_woe_iv"
   ]
  },
  {
   "cell_type": "code",
   "execution_count": 147,
   "metadata": {},
   "outputs": [],
   "source": [
    "X_train['cb_person_default_on_file_WOE'] = np.where(X_train['cb_person_default_on_file'].isin(['N']), -0.002563, \n",
    "                  np.where(X_train['cb_person_default_on_file'].isin(['Y']), 0.012214, 0))"
   ]
  },
  {
   "cell_type": "code",
   "execution_count": 148,
   "metadata": {},
   "outputs": [
    {
     "data": {
      "text/html": [
       "<div>\n",
       "<style scoped>\n",
       "    .dataframe tbody tr th:only-of-type {\n",
       "        vertical-align: middle;\n",
       "    }\n",
       "\n",
       "    .dataframe tbody tr th {\n",
       "        vertical-align: top;\n",
       "    }\n",
       "\n",
       "    .dataframe thead th {\n",
       "        text-align: right;\n",
       "    }\n",
       "</style>\n",
       "<table border=\"1\" class=\"dataframe\">\n",
       "  <thead>\n",
       "    <tr style=\"text-align: right;\">\n",
       "      <th>loan_status</th>\n",
       "      <th>0</th>\n",
       "      <th>1</th>\n",
       "      <th>woe</th>\n",
       "      <th>iv</th>\n",
       "    </tr>\n",
       "    <tr>\n",
       "      <th>cb_person_default_on_file</th>\n",
       "      <th></th>\n",
       "      <th></th>\n",
       "      <th></th>\n",
       "      <th></th>\n",
       "    </tr>\n",
       "  </thead>\n",
       "  <tbody>\n",
       "    <tr>\n",
       "      <th>N</th>\n",
       "      <td>0.767123</td>\n",
       "      <td>0.815686</td>\n",
       "      <td>0.061382</td>\n",
       "      <td>0.014338</td>\n",
       "    </tr>\n",
       "    <tr>\n",
       "      <th>Y</th>\n",
       "      <td>0.232877</td>\n",
       "      <td>0.184314</td>\n",
       "      <td>-0.233870</td>\n",
       "      <td>0.014338</td>\n",
       "    </tr>\n",
       "  </tbody>\n",
       "</table>\n",
       "</div>"
      ],
      "text/plain": [
       "loan_status                       0         1       woe        iv\n",
       "cb_person_default_on_file                                        \n",
       "N                          0.767123  0.815686  0.061382  0.014338\n",
       "Y                          0.232877  0.184314 -0.233870  0.014338"
      ]
     },
     "execution_count": 148,
     "metadata": {},
     "output_type": "execute_result"
    }
   ],
   "source": [
    "feature = 'cb_person_default_on_file'\n",
    "data_woe_iv = (pd.crosstab(X_test[feature], y_test,\n",
    "                      normalize='columns')\n",
    "             .assign(woe=lambda datax: np.log(datax[1] / datax[0]))\n",
    "             .assign(iv=lambda datax: np.sum(datax['woe']*\n",
    "                                           (datax[1]-datax[0]))))\n",
    "\n",
    "data_woe_iv"
   ]
  },
  {
   "cell_type": "code",
   "execution_count": 149,
   "metadata": {},
   "outputs": [],
   "source": [
    "X_test['cb_person_default_on_file_WOE'] = np.where(X_test['cb_person_default_on_file'].isin(['N']), 0.061382, \n",
    "                  np.where(X_test['cb_person_default_on_file'].isin(['Y']), -0.233870, 0))"
   ]
  },
  {
   "cell_type": "code",
   "execution_count": 234,
   "metadata": {},
   "outputs": [
    {
     "data": {
      "text/html": [
       "<div>\n",
       "<style scoped>\n",
       "    .dataframe tbody tr th:only-of-type {\n",
       "        vertical-align: middle;\n",
       "    }\n",
       "\n",
       "    .dataframe tbody tr th {\n",
       "        vertical-align: top;\n",
       "    }\n",
       "\n",
       "    .dataframe thead th {\n",
       "        text-align: right;\n",
       "    }\n",
       "</style>\n",
       "<table border=\"1\" class=\"dataframe\">\n",
       "  <thead>\n",
       "    <tr style=\"text-align: right;\">\n",
       "      <th>loan_status</th>\n",
       "      <th>0</th>\n",
       "      <th>1</th>\n",
       "      <th>woe</th>\n",
       "      <th>iv</th>\n",
       "    </tr>\n",
       "    <tr>\n",
       "      <th>cb_person_default_on_file</th>\n",
       "      <th></th>\n",
       "      <th></th>\n",
       "      <th></th>\n",
       "      <th></th>\n",
       "    </tr>\n",
       "  </thead>\n",
       "  <tbody>\n",
       "    <tr>\n",
       "      <th>N</th>\n",
       "      <td>0.858435</td>\n",
       "      <td>0.706514</td>\n",
       "      <td>-0.194768</td>\n",
       "      <td>0.14035</td>\n",
       "    </tr>\n",
       "    <tr>\n",
       "      <th>Y</th>\n",
       "      <td>0.141565</td>\n",
       "      <td>0.293486</td>\n",
       "      <td>0.729071</td>\n",
       "      <td>0.14035</td>\n",
       "    </tr>\n",
       "  </tbody>\n",
       "</table>\n",
       "</div>"
      ],
      "text/plain": [
       "loan_status                       0         1       woe       iv\n",
       "cb_person_default_on_file                                       \n",
       "N                          0.858435  0.706514 -0.194768  0.14035\n",
       "Y                          0.141565  0.293486  0.729071  0.14035"
      ]
     },
     "execution_count": 234,
     "metadata": {},
     "output_type": "execute_result"
    }
   ],
   "source": [
    "feature = 'cb_person_default_on_file'\n",
    "data_woe_iv = (pd.crosstab(holdout[feature], holdout[target],\n",
    "                      normalize='columns')\n",
    "             .assign(woe=lambda datax: np.log(datax[1] / datax[0]))\n",
    "             .assign(iv=lambda datax: np.sum(datax['woe']*\n",
    "                                           (datax[1]-datax[0]))))\n",
    "\n",
    "data_woe_iv"
   ]
  },
  {
   "cell_type": "code",
   "execution_count": 235,
   "metadata": {},
   "outputs": [],
   "source": [
    "holdout['cb_person_default_on_file_WOE'] = np.where(holdout['cb_person_default_on_file'].isin(['N']), -0.194768, \n",
    "                  np.where(holdout['cb_person_default_on_file'].isin(['Y']), 0.729071, 0))"
   ]
  },
  {
   "cell_type": "code",
   "execution_count": null,
   "metadata": {},
   "outputs": [],
   "source": []
  },
  {
   "cell_type": "code",
   "execution_count": 153,
   "metadata": {},
   "outputs": [],
   "source": [
    "woe_features = ['person_age_WOE', 'person_income_WOE', 'loan_amnt_WOE', 'loan_int_rate_WOE', 'loan_percent_income_WOE', 'cb_person_cred_hist_length_WOE', 'person_home_ownership_WOE', 'loan_intent_WOE', 'loan_grade_WOE', 'cb_person_default_on_file_WOE']"
   ]
  },
  {
   "cell_type": "markdown",
   "metadata": {},
   "source": [
    "# Feature selection"
   ]
  },
  {
   "cell_type": "markdown",
   "metadata": {},
   "source": [
    "### L1 Regularization"
   ]
  },
  {
   "cell_type": "code",
   "execution_count": 154,
   "metadata": {},
   "outputs": [],
   "source": [
    "selector = SelectFromModel(estimator=LogisticRegression(penalty='l1', C=1, solver='liblinear', max_iter=50000))"
   ]
  },
  {
   "cell_type": "code",
   "execution_count": 155,
   "metadata": {},
   "outputs": [
    {
     "data": {
      "text/html": [
       "<div>\n",
       "<style scoped>\n",
       "    .dataframe tbody tr th:only-of-type {\n",
       "        vertical-align: middle;\n",
       "    }\n",
       "\n",
       "    .dataframe tbody tr th {\n",
       "        vertical-align: top;\n",
       "    }\n",
       "\n",
       "    .dataframe thead th {\n",
       "        text-align: right;\n",
       "    }\n",
       "</style>\n",
       "<table border=\"1\" class=\"dataframe\">\n",
       "  <thead>\n",
       "    <tr style=\"text-align: right;\">\n",
       "      <th></th>\n",
       "      <th>feature</th>\n",
       "      <th>importance</th>\n",
       "      <th>selected</th>\n",
       "    </tr>\n",
       "  </thead>\n",
       "  <tbody>\n",
       "    <tr>\n",
       "      <th>9</th>\n",
       "      <td>cb_person_default_on_file_WOE</td>\n",
       "      <td>25.375919</td>\n",
       "      <td>True</td>\n",
       "    </tr>\n",
       "    <tr>\n",
       "      <th>8</th>\n",
       "      <td>loan_grade_WOE</td>\n",
       "      <td>6.410269</td>\n",
       "      <td>True</td>\n",
       "    </tr>\n",
       "    <tr>\n",
       "      <th>7</th>\n",
       "      <td>loan_intent_WOE</td>\n",
       "      <td>5.586923</td>\n",
       "      <td>True</td>\n",
       "    </tr>\n",
       "    <tr>\n",
       "      <th>6</th>\n",
       "      <td>person_home_ownership_WOE</td>\n",
       "      <td>4.707311</td>\n",
       "      <td>True</td>\n",
       "    </tr>\n",
       "    <tr>\n",
       "      <th>3</th>\n",
       "      <td>loan_int_rate_WOE</td>\n",
       "      <td>1.065449</td>\n",
       "      <td>True</td>\n",
       "    </tr>\n",
       "    <tr>\n",
       "      <th>4</th>\n",
       "      <td>loan_percent_income_WOE</td>\n",
       "      <td>0.919779</td>\n",
       "      <td>True</td>\n",
       "    </tr>\n",
       "    <tr>\n",
       "      <th>1</th>\n",
       "      <td>person_income_WOE</td>\n",
       "      <td>0.853441</td>\n",
       "      <td>True</td>\n",
       "    </tr>\n",
       "    <tr>\n",
       "      <th>5</th>\n",
       "      <td>cb_person_cred_hist_length_WOE</td>\n",
       "      <td>0.414429</td>\n",
       "      <td>True</td>\n",
       "    </tr>\n",
       "    <tr>\n",
       "      <th>2</th>\n",
       "      <td>loan_amnt_WOE</td>\n",
       "      <td>0.273333</td>\n",
       "      <td>True</td>\n",
       "    </tr>\n",
       "  </tbody>\n",
       "</table>\n",
       "</div>"
      ],
      "text/plain": [
       "                          feature  importance  selected\n",
       "9   cb_person_default_on_file_WOE   25.375919      True\n",
       "8                  loan_grade_WOE    6.410269      True\n",
       "7                 loan_intent_WOE    5.586923      True\n",
       "6       person_home_ownership_WOE    4.707311      True\n",
       "3               loan_int_rate_WOE    1.065449      True\n",
       "4         loan_percent_income_WOE    0.919779      True\n",
       "1               person_income_WOE    0.853441      True\n",
       "5  cb_person_cred_hist_length_WOE    0.414429      True\n",
       "2                   loan_amnt_WOE    0.273333      True"
      ]
     },
     "execution_count": 155,
     "metadata": {},
     "output_type": "execute_result"
    }
   ],
   "source": [
    "selector.fit(X_train[woe_features], y_train)\n",
    "feature_importance_df = pd.DataFrame(\n",
    "    {\n",
    "        'feature': X_train[woe_features].columns,\n",
    "        'importance': abs(selector.estimator_.coef_)[0],\n",
    "        'selected': selector.get_support()\n",
    "    }\n",
    ")\n",
    "select_from_model = feature_importance_df[feature_importance_df['selected']].sort_values(by='importance', ascending=False)\n",
    "select_from_model"
   ]
  },
  {
   "cell_type": "code",
   "execution_count": 156,
   "metadata": {},
   "outputs": [
    {
     "data": {
      "text/html": [
       "<div>\n",
       "<style scoped>\n",
       "    .dataframe tbody tr th:only-of-type {\n",
       "        vertical-align: middle;\n",
       "    }\n",
       "\n",
       "    .dataframe tbody tr th {\n",
       "        vertical-align: top;\n",
       "    }\n",
       "\n",
       "    .dataframe thead th {\n",
       "        text-align: right;\n",
       "    }\n",
       "</style>\n",
       "<table border=\"1\" class=\"dataframe\">\n",
       "  <thead>\n",
       "    <tr style=\"text-align: right;\">\n",
       "      <th></th>\n",
       "      <th>feature</th>\n",
       "      <th>importance</th>\n",
       "      <th>selected</th>\n",
       "    </tr>\n",
       "  </thead>\n",
       "  <tbody>\n",
       "    <tr>\n",
       "      <th>4</th>\n",
       "      <td>loan_percent_income_WOE</td>\n",
       "      <td>0.239435</td>\n",
       "      <td>True</td>\n",
       "    </tr>\n",
       "    <tr>\n",
       "      <th>8</th>\n",
       "      <td>loan_grade_WOE</td>\n",
       "      <td>0.153819</td>\n",
       "      <td>True</td>\n",
       "    </tr>\n",
       "    <tr>\n",
       "      <th>7</th>\n",
       "      <td>loan_intent_WOE</td>\n",
       "      <td>0.137477</td>\n",
       "      <td>True</td>\n",
       "    </tr>\n",
       "    <tr>\n",
       "      <th>1</th>\n",
       "      <td>person_income_WOE</td>\n",
       "      <td>0.135200</td>\n",
       "      <td>True</td>\n",
       "    </tr>\n",
       "    <tr>\n",
       "      <th>6</th>\n",
       "      <td>person_home_ownership_WOE</td>\n",
       "      <td>0.133053</td>\n",
       "      <td>True</td>\n",
       "    </tr>\n",
       "    <tr>\n",
       "      <th>3</th>\n",
       "      <td>loan_int_rate_WOE</td>\n",
       "      <td>0.092811</td>\n",
       "      <td>True</td>\n",
       "    </tr>\n",
       "    <tr>\n",
       "      <th>5</th>\n",
       "      <td>cb_person_cred_hist_length_WOE</td>\n",
       "      <td>0.040472</td>\n",
       "      <td>True</td>\n",
       "    </tr>\n",
       "    <tr>\n",
       "      <th>2</th>\n",
       "      <td>loan_amnt_WOE</td>\n",
       "      <td>0.035221</td>\n",
       "      <td>True</td>\n",
       "    </tr>\n",
       "    <tr>\n",
       "      <th>9</th>\n",
       "      <td>cb_person_default_on_file_WOE</td>\n",
       "      <td>0.024638</td>\n",
       "      <td>True</td>\n",
       "    </tr>\n",
       "    <tr>\n",
       "      <th>0</th>\n",
       "      <td>person_age_WOE</td>\n",
       "      <td>0.007875</td>\n",
       "      <td>True</td>\n",
       "    </tr>\n",
       "  </tbody>\n",
       "</table>\n",
       "</div>"
      ],
      "text/plain": [
       "                          feature  importance  selected\n",
       "4         loan_percent_income_WOE    0.239435      True\n",
       "8                  loan_grade_WOE    0.153819      True\n",
       "7                 loan_intent_WOE    0.137477      True\n",
       "1               person_income_WOE    0.135200      True\n",
       "6       person_home_ownership_WOE    0.133053      True\n",
       "3               loan_int_rate_WOE    0.092811      True\n",
       "5  cb_person_cred_hist_length_WOE    0.040472      True\n",
       "2                   loan_amnt_WOE    0.035221      True\n",
       "9   cb_person_default_on_file_WOE    0.024638      True\n",
       "0                  person_age_WOE    0.007875      True"
      ]
     },
     "execution_count": 156,
     "metadata": {},
     "output_type": "execute_result"
    }
   ],
   "source": [
    "selector_rf = SelectFromModel(estimator=RandomForestClassifier(), threshold=0.005)\n",
    "selector_rf.fit(X_train[woe_features], y_train)\n",
    "feature_importance_df_rf = pd.DataFrame(\n",
    "    {\n",
    "        'feature': X_train[woe_features].columns,\n",
    "        'importance': abs(selector_rf.estimator_.feature_importances_),\n",
    "        'selected': selector_rf.get_support()\n",
    "    }\n",
    ")\n",
    "select_from_model_rf = feature_importance_df_rf[feature_importance_df_rf['selected']].sort_values(by='importance', ascending=False)\n",
    "select_from_model_rf"
   ]
  },
  {
   "cell_type": "markdown",
   "metadata": {},
   "source": [
    "We will use important features from LogReg L1 Regularization"
   ]
  },
  {
   "cell_type": "code",
   "execution_count": 177,
   "metadata": {},
   "outputs": [],
   "source": [
    "train_woe = X_train[['cb_person_default_on_file_WOE', 'loan_grade_WOE', 'loan_intent_WOE', 'person_home_ownership_WOE', 'loan_int_rate_WOE', 'loan_percent_income_WOE', 'person_income_WOE', 'cb_person_cred_hist_length_WOE', 'loan_amnt_WOE']]\n",
    "validate_woe = X_test[['cb_person_default_on_file_WOE', 'loan_grade_WOE', 'loan_intent_WOE', 'person_home_ownership_WOE', 'loan_int_rate_WOE', 'loan_percent_income_WOE', 'person_income_WOE', 'cb_person_cred_hist_length_WOE', 'loan_amnt_WOE']]"
   ]
  },
  {
   "cell_type": "markdown",
   "metadata": {},
   "source": [
    "# Modeling"
   ]
  },
  {
   "cell_type": "code",
   "execution_count": 59,
   "metadata": {},
   "outputs": [],
   "source": [
    "from sklearn import metrics\n",
    "from sklearn.model_selection import cross_val_score\n",
    "\n",
    "def print_evaluate(true, predicted):\n",
    "    auc = metrics.roc_auc_score(true, predicted)\n",
    "    accuracy = metrics.accuracy_score(true, predicted)\n",
    "    print('Accuracy:', accuracy)\n",
    "    print('AUC:', auc)\n",
    "    print('__________________________________')\n",
    "    \n",
    "def evaluate(true, predicted):\n",
    "    auc = metrics.roc_auc_score(true, predicted)\n",
    "    accuracy = metrics.accuracy_score(true, predicted)\n",
    "    return accuracy, auc"
   ]
  },
  {
   "cell_type": "code",
   "execution_count": 179,
   "metadata": {},
   "outputs": [
    {
     "data": {
      "text/plain": [
       "LogisticRegression(C=0.1, n_jobs=-1, random_state=64, solver='liblinear')"
      ]
     },
     "execution_count": 179,
     "metadata": {},
     "output_type": "execute_result"
    }
   ],
   "source": [
    "logreg_opt =  LogisticRegression(solver = 'liblinear',\n",
    "                                 C = 0.1,\n",
    "                                 random_state = 64,\n",
    "                                 n_jobs = -1)\n",
    "logreg_opt.fit(train_woe, y_train)"
   ]
  },
  {
   "cell_type": "code",
   "execution_count": 180,
   "metadata": {},
   "outputs": [
    {
     "name": "stdout",
     "output_type": "stream",
     "text": [
      "Test set evaluation:\n",
      "_____________________________________\n",
      "Accuracy: 0.8313090418353576\n",
      "AUC: 0.6920115022993829\n",
      "__________________________________\n",
      "Train set evaluation:\n",
      "_____________________________________\n",
      "Accuracy: 0.8527908994504965\n",
      "AUC: 0.7431900305451595\n",
      "__________________________________\n"
     ]
    }
   ],
   "source": [
    "test_pred = logreg_opt.predict(validate_woe)\n",
    "train_pred = logreg_opt.predict(train_woe)\n",
    "\n",
    "print('Test set evaluation:\\n_____________________________________')\n",
    "print_evaluate(y_test, test_pred)\n",
    "print('Train set evaluation:\\n_____________________________________')\n",
    "print_evaluate(y_train, train_pred)"
   ]
  },
  {
   "cell_type": "code",
   "execution_count": 181,
   "metadata": {},
   "outputs": [
    {
     "data": {
      "text/html": [
       "<div>\n",
       "<style scoped>\n",
       "    .dataframe tbody tr th:only-of-type {\n",
       "        vertical-align: middle;\n",
       "    }\n",
       "\n",
       "    .dataframe tbody tr th {\n",
       "        vertical-align: top;\n",
       "    }\n",
       "\n",
       "    .dataframe thead tr th {\n",
       "        text-align: left;\n",
       "    }\n",
       "</style>\n",
       "<table border=\"1\" class=\"dataframe\">\n",
       "  <thead>\n",
       "    <tr>\n",
       "      <th></th>\n",
       "      <th>Model</th>\n",
       "      <th colspan=\"2\" halign=\"left\">Train</th>\n",
       "      <th colspan=\"2\" halign=\"left\">Valid</th>\n",
       "    </tr>\n",
       "    <tr>\n",
       "      <th></th>\n",
       "      <th></th>\n",
       "      <th>Accuracy</th>\n",
       "      <th>AUC</th>\n",
       "      <th>Accuracy</th>\n",
       "      <th>AUC</th>\n",
       "    </tr>\n",
       "  </thead>\n",
       "  <tbody>\n",
       "    <tr>\n",
       "      <th>0</th>\n",
       "      <td>LogReg OPT</td>\n",
       "      <td>0.852791</td>\n",
       "      <td>0.74319</td>\n",
       "      <td>0.831309</td>\n",
       "      <td>0.692012</td>\n",
       "    </tr>\n",
       "  </tbody>\n",
       "</table>\n",
       "</div>"
      ],
      "text/plain": [
       "        Model     Train              Valid          \n",
       "               Accuracy      AUC  Accuracy       AUC\n",
       "0  LogReg OPT  0.852791  0.74319  0.831309  0.692012"
      ]
     },
     "execution_count": 181,
     "metadata": {},
     "output_type": "execute_result"
    }
   ],
   "source": [
    "index = pd.MultiIndex.from_product([['Train', 'Valid'], ['Accuracy', 'AUC']])\n",
    "result_logreg_opt = pd.DataFrame([pd.DataFrame({'Train' : list(evaluate(y_train, train_pred)),\n",
    "             'Valid' : list(evaluate(y_test, test_pred))}).unstack().values], columns=index)\n",
    "result_logreg_opt.insert(loc=0, column='Model', value = 'LogReg OPT')\n",
    "result_logreg_opt"
   ]
  },
  {
   "cell_type": "code",
   "execution_count": 182,
   "metadata": {},
   "outputs": [
    {
     "data": {
      "image/png": "[encoded data removed]",
      "text/plain": [
       "<Figure size 864x360 with 1 Axes>"
      ]
     },
     "metadata": {},
     "output_type": "display_data"
    }
   ],
   "source": [
    "# calculate importances based on coefficients.\n",
    "importances = abs(logreg_opt.coef_[0])\n",
    "importances = 100.0 * (importances / importances.max())\n",
    "# sort \n",
    "indices = np.argsort(importances)[::-1]\n",
    "\n",
    "# Rearrange feature names so they match the sorted feature importances\n",
    "names = [train_woe.columns[i] for i in indices]\n",
    "\n",
    "# visualize\n",
    "plt.figure(figsize = (12, 5))\n",
    "sns.set_style(\"whitegrid\")\n",
    "chart = sns.barplot(x = names, y = importances[indices])\n",
    "plt.xticks(\n",
    "    rotation=45, \n",
    "    horizontalalignment='right',\n",
    "    fontweight='light'  \n",
    ")\n",
    "plt.title('Logistic regression. Feature importance')\n",
    "plt.tight_layout()"
   ]
  },
  {
   "cell_type": "markdown",
   "metadata": {},
   "source": [
    "# Random Forest"
   ]
  },
  {
   "cell_type": "code",
   "execution_count": 183,
   "metadata": {},
   "outputs": [],
   "source": [
    "rfr_opt = RandomForestClassifier(n_estimators= 100,\n",
    "                                 criterion='gini',\n",
    "                                 min_samples_split= 2,\n",
    "                                 min_samples_leaf= 3,\n",
    "                                 max_features= 'sqrt',\n",
    "                                 max_depth= 4,\n",
    "                                 bootstrap= False, random_state=42)"
   ]
  },
  {
   "cell_type": "code",
   "execution_count": 184,
   "metadata": {},
   "outputs": [
    {
     "data": {
      "text/plain": [
       "RandomForestClassifier(bootstrap=False, max_depth=4, max_features='sqrt',\n",
       "                       min_samples_leaf=3, random_state=42)"
      ]
     },
     "execution_count": 184,
     "metadata": {},
     "output_type": "execute_result"
    }
   ],
   "source": [
    "rfr_opt.fit(train_woe, y_train)"
   ]
  },
  {
   "cell_type": "code",
   "execution_count": 185,
   "metadata": {},
   "outputs": [
    {
     "name": "stdout",
     "output_type": "stream",
     "text": [
      "Test set evaluation:\n",
      "_____________________________________\n",
      "Accuracy: 0.797763639868903\n",
      "AUC: 0.5855774305069412\n",
      "__________________________________\n",
      "Train set evaluation:\n",
      "_____________________________________\n",
      "Accuracy: 0.8860985250168707\n",
      "AUC: 0.7714839098499852\n",
      "__________________________________\n"
     ]
    }
   ],
   "source": [
    "test_pred = rfr_opt.predict(validate_woe)\n",
    "train_pred = rfr_opt.predict(train_woe)\n",
    "\n",
    "print('Test set evaluation:\\n_____________________________________')\n",
    "print_evaluate(y_test, test_pred)\n",
    "print('Train set evaluation:\\n_____________________________________')\n",
    "print_evaluate(y_train, train_pred)"
   ]
  },
  {
   "cell_type": "code",
   "execution_count": 186,
   "metadata": {},
   "outputs": [
    {
     "data": {
      "image/png": "[encoded data removed]",
      "text/plain": [
       "<Figure size 864x360 with 1 Axes>"
      ]
     },
     "metadata": {},
     "output_type": "display_data"
    }
   ],
   "source": [
    "# Calculate feature importances\n",
    "importances = rfr_opt.feature_importances_\n",
    "\n",
    "# Visualize Feature Importance\n",
    "# Sort feature importances in descending order\n",
    "indices = np.argsort(importances)[::-1]\n",
    "\n",
    "# Rearrange feature names so they match the sorted feature importances\n",
    "names = [train_woe.columns[i] for i in indices]\n",
    "\n",
    "plt.figure(figsize = (12, 5))\n",
    "sns.set_style(\"whitegrid\")\n",
    "chart = sns.barplot(x = names, y=importances[indices])\n",
    "plt.xticks(\n",
    "    rotation=45, \n",
    "    horizontalalignment='right',\n",
    "    fontweight='light'  \n",
    ")\n",
    "plt.title('Random forest. Feature importance')\n",
    "plt.tight_layout()"
   ]
  },
  {
   "cell_type": "code",
   "execution_count": 187,
   "metadata": {},
   "outputs": [
    {
     "data": {
      "text/html": [
       "<div>\n",
       "<style scoped>\n",
       "    .dataframe tbody tr th:only-of-type {\n",
       "        vertical-align: middle;\n",
       "    }\n",
       "\n",
       "    .dataframe tbody tr th {\n",
       "        vertical-align: top;\n",
       "    }\n",
       "\n",
       "    .dataframe thead tr th {\n",
       "        text-align: left;\n",
       "    }\n",
       "</style>\n",
       "<table border=\"1\" class=\"dataframe\">\n",
       "  <thead>\n",
       "    <tr>\n",
       "      <th></th>\n",
       "      <th>Model</th>\n",
       "      <th colspan=\"2\" halign=\"left\">Train</th>\n",
       "      <th colspan=\"2\" halign=\"left\">Valid</th>\n",
       "    </tr>\n",
       "    <tr>\n",
       "      <th></th>\n",
       "      <th></th>\n",
       "      <th>Accuracy</th>\n",
       "      <th>AUC</th>\n",
       "      <th>Accuracy</th>\n",
       "      <th>AUC</th>\n",
       "    </tr>\n",
       "  </thead>\n",
       "  <tbody>\n",
       "    <tr>\n",
       "      <th>0</th>\n",
       "      <td>RF OPT</td>\n",
       "      <td>0.886099</td>\n",
       "      <td>0.771484</td>\n",
       "      <td>0.797764</td>\n",
       "      <td>0.585577</td>\n",
       "    </tr>\n",
       "  </tbody>\n",
       "</table>\n",
       "</div>"
      ],
      "text/plain": [
       "    Model     Train               Valid          \n",
       "           Accuracy       AUC  Accuracy       AUC\n",
       "0  RF OPT  0.886099  0.771484  0.797764  0.585577"
      ]
     },
     "execution_count": 187,
     "metadata": {},
     "output_type": "execute_result"
    }
   ],
   "source": [
    "index = pd.MultiIndex.from_product([['Train', 'Valid'], ['Accuracy', 'AUC']])\n",
    "result_rfr_opt = pd.DataFrame([pd.DataFrame({'Train' : list(evaluate(y_train, train_pred)),\n",
    "             'Valid' : list(evaluate(y_test, test_pred))}).unstack().values], columns=index)\n",
    "result_rfr_opt.insert(loc=0, column='Model', value = 'RF OPT')\n",
    "result_rfr_opt"
   ]
  },
  {
   "cell_type": "markdown",
   "metadata": {},
   "source": [
    "# XGBoost"
   ]
  },
  {
   "cell_type": "code",
   "execution_count": 188,
   "metadata": {},
   "outputs": [],
   "source": [
    "train_woe_cat = X_train[['person_age', 'person_income', 'person_emp_length', 'loan_amnt', 'person_home_ownership_WOE', 'loan_intent_WOE', 'loan_grade_WOE', 'cb_person_default_on_file_WOE']]\n",
    "validate_woe_cat = X_test[['person_age', 'person_income', 'person_emp_length', 'loan_amnt', 'person_home_ownership_WOE', 'loan_intent_WOE', 'loan_grade_WOE', 'cb_person_default_on_file_WOE']]"
   ]
  },
  {
   "cell_type": "code",
   "execution_count": 189,
   "metadata": {},
   "outputs": [],
   "source": [
    "xgb_opt =  XGBClassifier(n_estimators = 1000,\n",
    "                               max_depth = 10,\n",
    "                               learning_rate = 0.01,\n",
    "                               gamma = 5,\n",
    "                               min_child_weight = 3,\n",
    "                               subsample = 0.5,\n",
    "                               random_state = 64)"
   ]
  },
  {
   "cell_type": "code",
   "execution_count": 190,
   "metadata": {},
   "outputs": [
    {
     "name": "stdout",
     "output_type": "stream",
     "text": [
      "[14:26:48] WARNING: ..\\src\\learner.cc:1061: Starting in XGBoost 1.3.0, the default evaluation metric used with the objective 'binary:logistic' was changed from 'error' to 'logloss'. Explicitly set eval_metric if you'd like to restore the old behavior.\n"
     ]
    },
    {
     "data": {
      "text/plain": [
       "XGBClassifier(base_score=0.5, booster='gbtree', colsample_bylevel=1,\n",
       "              colsample_bynode=1, colsample_bytree=1, gamma=5, gpu_id=-1,\n",
       "              importance_type='gain', interaction_constraints='',\n",
       "              learning_rate=0.01, max_delta_step=0, max_depth=10,\n",
       "              min_child_weight=3, missing=nan, monotone_constraints='()',\n",
       "              n_estimators=1000, n_jobs=8, num_parallel_tree=1, random_state=64,\n",
       "              reg_alpha=0, reg_lambda=1, scale_pos_weight=1, subsample=0.5,\n",
       "              tree_method='exact', validate_parameters=1, verbosity=None)"
      ]
     },
     "execution_count": 190,
     "metadata": {},
     "output_type": "execute_result"
    }
   ],
   "source": [
    "# Training using raw data for continuous variable\n",
    "xgb_opt.fit(train_woe_cat, y_train)\n",
    "#xgb_opt.fit(train_woe, train_y)"
   ]
  },
  {
   "cell_type": "code",
   "execution_count": 191,
   "metadata": {},
   "outputs": [
    {
     "name": "stdout",
     "output_type": "stream",
     "text": [
      "Test set evaluation:\n",
      "_____________________________________\n",
      "Accuracy: 0.8189705031810295\n",
      "AUC: 0.6598324196831483\n",
      "__________________________________\n",
      "Train set evaluation:\n",
      "_____________________________________\n",
      "Accuracy: 0.937819338667695\n",
      "AUC: 0.868608503361098\n",
      "__________________________________\n"
     ]
    }
   ],
   "source": [
    "test_pred = xgb_opt.predict(validate_woe_cat)\n",
    "train_pred = xgb_opt.predict(train_woe_cat)\n",
    "#test_pred = xgb_opt.predict(validate_woe)\n",
    "#train_pred = xgb_opt.predict(train_woe)\n",
    "\n",
    "print('Test set evaluation:\\n_____________________________________')\n",
    "print_evaluate(y_test, test_pred)\n",
    "print('Train set evaluation:\\n_____________________________________')\n",
    "print_evaluate(y_train, train_pred)"
   ]
  },
  {
   "cell_type": "code",
   "execution_count": 192,
   "metadata": {},
   "outputs": [
    {
     "data": {
      "text/html": [
       "<div>\n",
       "<style scoped>\n",
       "    .dataframe tbody tr th:only-of-type {\n",
       "        vertical-align: middle;\n",
       "    }\n",
       "\n",
       "    .dataframe tbody tr th {\n",
       "        vertical-align: top;\n",
       "    }\n",
       "\n",
       "    .dataframe thead tr th {\n",
       "        text-align: left;\n",
       "    }\n",
       "</style>\n",
       "<table border=\"1\" class=\"dataframe\">\n",
       "  <thead>\n",
       "    <tr>\n",
       "      <th></th>\n",
       "      <th>Model</th>\n",
       "      <th colspan=\"2\" halign=\"left\">Train</th>\n",
       "      <th colspan=\"2\" halign=\"left\">Valid</th>\n",
       "    </tr>\n",
       "    <tr>\n",
       "      <th></th>\n",
       "      <th></th>\n",
       "      <th>Accuracy</th>\n",
       "      <th>AUC</th>\n",
       "      <th>Accuracy</th>\n",
       "      <th>AUC</th>\n",
       "    </tr>\n",
       "  </thead>\n",
       "  <tbody>\n",
       "    <tr>\n",
       "      <th>0</th>\n",
       "      <td>XGB OPT</td>\n",
       "      <td>0.937819</td>\n",
       "      <td>0.868609</td>\n",
       "      <td>0.818971</td>\n",
       "      <td>0.659832</td>\n",
       "    </tr>\n",
       "  </tbody>\n",
       "</table>\n",
       "</div>"
      ],
      "text/plain": [
       "     Model     Train               Valid          \n",
       "            Accuracy       AUC  Accuracy       AUC\n",
       "0  XGB OPT  0.937819  0.868609  0.818971  0.659832"
      ]
     },
     "execution_count": 192,
     "metadata": {},
     "output_type": "execute_result"
    }
   ],
   "source": [
    "index = pd.MultiIndex.from_product([['Train', 'Valid'], ['Accuracy', 'AUC']])\n",
    "result_xgb_opt = pd.DataFrame([pd.DataFrame({'Train' : list(evaluate(y_train, train_pred)),\n",
    "             'Valid' : list(evaluate(y_test, test_pred))}).unstack().values], columns=index)\n",
    "result_xgb_opt.insert(loc=0, column='Model', value = 'XGB OPT')\n",
    "result_xgb_opt"
   ]
  },
  {
   "cell_type": "markdown",
   "metadata": {},
   "source": [
    "# Model Evaluation"
   ]
  },
  {
   "cell_type": "code",
   "execution_count": 193,
   "metadata": {},
   "outputs": [
    {
     "data": {
      "text/html": [
       "<div>\n",
       "<style scoped>\n",
       "    .dataframe tbody tr th:only-of-type {\n",
       "        vertical-align: middle;\n",
       "    }\n",
       "\n",
       "    .dataframe tbody tr th {\n",
       "        vertical-align: top;\n",
       "    }\n",
       "\n",
       "    .dataframe thead tr th {\n",
       "        text-align: left;\n",
       "    }\n",
       "</style>\n",
       "<table border=\"1\" class=\"dataframe\">\n",
       "  <thead>\n",
       "    <tr>\n",
       "      <th></th>\n",
       "      <th>Model</th>\n",
       "      <th colspan=\"2\" halign=\"left\">Train</th>\n",
       "      <th colspan=\"2\" halign=\"left\">Valid</th>\n",
       "    </tr>\n",
       "    <tr>\n",
       "      <th></th>\n",
       "      <th></th>\n",
       "      <th>Accuracy</th>\n",
       "      <th>AUC</th>\n",
       "      <th>Accuracy</th>\n",
       "      <th>AUC</th>\n",
       "    </tr>\n",
       "  </thead>\n",
       "  <tbody>\n",
       "    <tr>\n",
       "      <th>0</th>\n",
       "      <td>LogReg OPT</td>\n",
       "      <td>0.852791</td>\n",
       "      <td>0.743190</td>\n",
       "      <td>0.831309</td>\n",
       "      <td>0.692012</td>\n",
       "    </tr>\n",
       "    <tr>\n",
       "      <th>0</th>\n",
       "      <td>RF OPT</td>\n",
       "      <td>0.886099</td>\n",
       "      <td>0.771484</td>\n",
       "      <td>0.797764</td>\n",
       "      <td>0.585577</td>\n",
       "    </tr>\n",
       "    <tr>\n",
       "      <th>0</th>\n",
       "      <td>XGB OPT</td>\n",
       "      <td>0.937819</td>\n",
       "      <td>0.868609</td>\n",
       "      <td>0.818971</td>\n",
       "      <td>0.659832</td>\n",
       "    </tr>\n",
       "  </tbody>\n",
       "</table>\n",
       "</div>"
      ],
      "text/plain": [
       "        Model     Train               Valid          \n",
       "               Accuracy       AUC  Accuracy       AUC\n",
       "0  LogReg OPT  0.852791  0.743190  0.831309  0.692012\n",
       "0      RF OPT  0.886099  0.771484  0.797764  0.585577\n",
       "0     XGB OPT  0.937819  0.868609  0.818971  0.659832"
      ]
     },
     "execution_count": 193,
     "metadata": {},
     "output_type": "execute_result"
    }
   ],
   "source": [
    "result_all = pd.concat([result_logreg_opt, result_rfr_opt, result_xgb_opt], axis=0)\n",
    "result_all"
   ]
  },
  {
   "cell_type": "markdown",
   "metadata": {},
   "source": [
    "I decided to use logistic regression to test the holdout dataset because it got the highest AUC with basic parameter and a white box model. But before test it, i will try hyperparameter optimization"
   ]
  },
  {
   "cell_type": "markdown",
   "metadata": {},
   "source": [
    "## Hyperparam Optimization"
   ]
  },
  {
   "cell_type": "code",
   "execution_count": 203,
   "metadata": {},
   "outputs": [],
   "source": [
    "logreg = LogisticRegression(\n",
    "    random_state=42,\n",
    "    solver=\"liblinear\",\n",
    ")"
   ]
  },
  {
   "cell_type": "code",
   "execution_count": 204,
   "metadata": {},
   "outputs": [],
   "source": [
    "param_grid = [    \n",
    "    {'penalty' : ['l1', 'l2', 'elasticnet', 'none'],\n",
    "    'C' : np.logspace(-4, 4, 20),\n",
    "    'max_iter' : [100, 1000,2500, 5000]\n",
    "    }\n",
    "]"
   ]
  },
  {
   "cell_type": "code",
   "execution_count": 206,
   "metadata": {},
   "outputs": [
    {
     "name": "stdout",
     "output_type": "stream",
     "text": [
      "Fitting 3 folds for each of 320 candidates, totalling 960 fits\n"
     ]
    }
   ],
   "source": [
    "clf = GridSearchCV(logreg, param_grid = param_grid, cv = 3, verbose=True, n_jobs=-1)\n",
    "best_clf = clf.fit(train_woe, y_train)"
   ]
  },
  {
   "cell_type": "code",
   "execution_count": 207,
   "metadata": {},
   "outputs": [
    {
     "data": {
      "text/plain": [
       "LogisticRegression(C=11.288378916846883, penalty='l1', random_state=42,\n",
       "                   solver='liblinear')"
      ]
     },
     "execution_count": 207,
     "metadata": {},
     "output_type": "execute_result"
    }
   ],
   "source": [
    "best_clf.best_estimator_"
   ]
  },
  {
   "cell_type": "markdown",
   "metadata": {},
   "source": [
    "# Train LogReg with new parameters"
   ]
  },
  {
   "cell_type": "code",
   "execution_count": 210,
   "metadata": {},
   "outputs": [
    {
     "data": {
      "text/plain": [
       "LogisticRegression(C=11.288378916846883, n_jobs=-1, penalty='l1',\n",
       "                   random_state=42, solver='liblinear')"
      ]
     },
     "execution_count": 210,
     "metadata": {},
     "output_type": "execute_result"
    }
   ],
   "source": [
    "logreg_opt =  LogisticRegression(solver = 'liblinear',\n",
    "                                 C = 11.288378916846883,\n",
    "                                 penalty = 'l1',\n",
    "                                 random_state = 42,\n",
    "                                 n_jobs = -1)\n",
    "logreg_opt.fit(train_woe, y_train)"
   ]
  },
  {
   "cell_type": "code",
   "execution_count": 239,
   "metadata": {},
   "outputs": [],
   "source": [
    "holdout_woe = holdout[['cb_person_default_on_file_WOE', 'loan_grade_WOE', 'loan_intent_WOE', 'person_home_ownership_WOE', 'loan_int_rate_WOE', 'loan_percent_income_WOE', 'person_income_WOE', 'cb_person_cred_hist_length_WOE', 'loan_amnt_WOE']]"
   ]
  },
  {
   "cell_type": "code",
   "execution_count": 244,
   "metadata": {},
   "outputs": [
    {
     "name": "stdout",
     "output_type": "stream",
     "text": [
      "Holdout set evaluation:\n",
      "_____________________________________\n",
      "Accuracy: 0.7570569180934752\n",
      "AUC: 0.652799057358741\n",
      "__________________________________\n",
      "Train set evaluation:\n",
      "_____________________________________\n",
      "Accuracy: 0.8598284006555481\n",
      "AUC: 0.7469028201744361\n",
      "__________________________________\n"
     ]
    }
   ],
   "source": [
    "holdout_pred = logreg_opt.predict(holdout_woe)\n",
    "train_pred = logreg_opt.predict(train_woe)\n",
    "\n",
    "print('Holdout set evaluation:\\n_____________________________________')\n",
    "print_evaluate(holdout['loan_status'], holdout_pred)\n",
    "print('Train set evaluation:\\n_____________________________________')\n",
    "print_evaluate(y_train, train_pred)"
   ]
  },
  {
   "cell_type": "markdown",
   "metadata": {},
   "source": [
    "The AUC result from holdout set is not far away from test AUC. Therefore we can say this model is generalized enough for this case"
   ]
  },
  {
   "cell_type": "code",
   "execution_count": null,
   "metadata": {},
   "outputs": [],
   "source": []
  }
 ],
 "metadata": {
  "kernelspec": {
   "display_name": "Python 3 (ipykernel)",
   "language": "python",
   "name": "python3"
  },
  "language_info": {
   "codemirror_mode": {
    "name": "ipython",
    "version": 3
   },
   "file_extension": ".py",
   "mimetype": "text/x-python",
   "name": "python",
   "nbconvert_exporter": "python",
   "pygments_lexer": "ipython3",
   "version": "3.8.11"
  }
 },
 "nbformat": 4,
 "nbformat_minor": 4
}
